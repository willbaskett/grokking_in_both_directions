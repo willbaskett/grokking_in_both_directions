{
 "cells": [
  {
   "cell_type": "code",
   "execution_count": 2,
   "id": "d632313c",
   "metadata": {},
   "outputs": [
    {
     "name": "stderr",
     "output_type": "stream",
     "text": [
      "/home/jovyan/synthetic/ROPE.py:35: FutureWarning: `torch.cuda.amp.autocast(args...)` is deprecated. Please use `torch.amp.autocast('cuda', args...)` instead.\n",
      "  @autocast(enabled = False)\n",
      "/home/jovyan/synthetic/ROPE.py:256: FutureWarning: `torch.cuda.amp.autocast(args...)` is deprecated. Please use `torch.amp.autocast('cuda', args...)` instead.\n",
      "  @autocast(enabled = False)\n"
     ]
    }
   ],
   "source": [
    "import torch\n",
    "import torch.nn as nn\n",
    "import torch.nn.functional as F\n",
    "from torch.utils.data import Dataset\n",
    "import pandas as pd\n",
    "import numpy as np\n",
    "import gc\n",
    "import sys\n",
    "import glob\n",
    "import matplotlib.pyplot as plt\n",
    "import seaborn as sns\n",
    "from sklearn.model_selection import train_test_split\n",
    "from tqdm.notebook import tqdm\n",
    "from ROPE import RotaryEmbedding\n",
    "from ROAR import *"
   ]
  },
  {
   "cell_type": "markdown",
   "id": "def37757-54ec-4311-a66a-08781f98004e",
   "metadata": {},
   "source": [
    "## Calculate Model L2"
   ]
  },
  {
   "cell_type": "code",
   "execution_count": 3,
   "id": "5c122eff-fc13-4bde-b10f-1cab47005fae",
   "metadata": {},
   "outputs": [],
   "source": [
    "def calculate_l2(model):\n",
    "    l2 = None\n",
    "    for param in model.parameters():\n",
    "        if l2 is None:\n",
    "            l2 = F.mse_loss(param, torch.zeros(param.shape, device=device), reduction=\"sum\")\n",
    "        else:\n",
    "            l2 = l2 + F.mse_loss(param, torch.zeros(param.shape, device=device), reduction=\"sum\")\n",
    "    return l2"
   ]
  },
  {
   "cell_type": "markdown",
   "id": "2ec09f74-a5d1-4b88-a24a-9dfdd3cd5e61",
   "metadata": {},
   "source": [
    "## Generate completions in a left-to-right order starting at a specific token index in the sequence"
   ]
  },
  {
   "cell_type": "code",
   "execution_count": 4,
   "id": "9b3ef78c-f932-4568-a83b-220d3b23d1cd",
   "metadata": {},
   "outputs": [],
   "source": [
    "def generate_completions(model, test_batch, starting_chars=0, temperature=0.5, topk=5, topp=0.75, ls=None, reserved_tokens=2):\n",
    "    print(\"Generating samples with temp of\", temperature, \"topk of\", topk, \"and topp of\", topp)\n",
    "    torch.manual_seed(0)\n",
    "    model.eval()\n",
    "    x_test_value = None\n",
    "    x_test_value_orig = None\n",
    "    #with torch.no_grad():\n",
    "    x_test_seq = embed_sample(test_batch)\n",
    "    x_test_type, x_test_value, seq_order = x_test_seq\n",
    "    seq_order = (seq_order,)\n",
    "    x_test_value = x_test_value.clone()\n",
    "    x_test_value_orig = x_test_value.clone()\n",
    "    for num_allowed_nodes in [0]:\n",
    "        pbar = tqdm(range(starting_chars, x_test_value.shape[1]))\n",
    "        for i in pbar:\n",
    "            x_test_value[:,i:] = 0\n",
    "\n",
    "            with torch.amp.autocast(\"cuda\"):\n",
    "                output = model.decoder(x_test_type, x_test_value, seq_order,)\n",
    "                output = output.float().detach()\n",
    "            \n",
    "            gumbels = -torch.empty_like(output, device=device).exponential_().log()\n",
    "            gumbel_probs = F.softmax(output + gumbels*temperature, dim=1)\n",
    "            \n",
    "            #top k\n",
    "            p = (1/output.shape[1]) * topk\n",
    "            quantiles = output.quantile(1-p, dim=1).reshape(output.shape[0],1,output.shape[2])\n",
    "            gumbel_probs[output < quantiles] = 0\n",
    "            \n",
    "            #top p\n",
    "            s = torch.softmax(output, dim=1)\n",
    "            v, _ = s.sort(dim=1, descending=True)\n",
    "            m = v.cumsum(dim=1) <= topp\n",
    "            m[:,0,:] = True\n",
    "            v = (m * v)\n",
    "            v[v==0] = torch.inf\n",
    "            mv, _ = v.min(dim=1)\n",
    "            mv = mv.reshape(mv.shape[0], 1, mv.shape[1])\n",
    "            gumbel_probs[s < mv] = 0\n",
    "            \n",
    "            x = gumbel_probs.argmax(dim=1)\n",
    "            \n",
    "            x_test_value[:,i:] = x[:,i:]\n",
    "            \n",
    "    orig_samples = np.array(x_test_value_orig.cpu()) - reserved_tokens\n",
    "    test_batch = np.array(x_test_value.cpu()) - reserved_tokens\n",
    "\n",
    "    orig_samples[orig_samples < 0] = 0\n",
    "    test_batch[test_batch < 0] = 0\n",
    "    \n",
    "    orig = []\n",
    "    samples = []\n",
    "    value_diff = []\n",
    "    for r in range(test_batch.shape[0]):\n",
    "        orig_string = \"\".join([chr(item) for item in orig_samples[r]]).strip('\\x00')\n",
    "        orig.append(orig_string)\n",
    "        string = \"\".join([chr(item) for item in test_batch[r]]).strip('\\x00')\n",
    "        try:\n",
    "            if \"==\" in string:\n",
    "                diff = eval(string.split(\"==\")[0]) - eval(string.split(\"==\")[-1])\n",
    "            else:\n",
    "                diff = np.nan\n",
    "        except:\n",
    "            diff = np.nan\n",
    "        samples.append(string)\n",
    "        value_diff.append(diff)\n",
    "    print((np.array(value_diff) == 0).mean(), \"ARE TRUE\")\n",
    "    print(np.nanmean(np.abs(np.array(value_diff))), \"AVG DIFF\")\n",
    " \n",
    "    search_results[\"% True:\"].append((np.array(value_diff) == 0).mean())\n",
    "    search_results[\"Avg Diff\"].append(np.nanmean(np.abs(np.array(value_diff))))\n",
    "    search_results[\"Median Diff\"].append(np.nanmedian(np.abs(np.array(value_diff))))\n",
    "\n",
    "        \n",
    "    df1 = pd.DataFrame({\"completions\":orig})\n",
    "    df1.to_csv(f\"./sample_output/text_samples_orig.csv\")\n",
    "    df2 = pd.DataFrame({\"completions\":samples, \"value_diff\": value_diff})\n",
    "    df2.to_csv(f\"./sample_output/text_samples.csv\", escapechar='\\\\')"
   ]
  },
  {
   "cell_type": "markdown",
   "id": "846ac76b-8f27-480c-864d-f838ef3ef837",
   "metadata": {},
   "source": [
    "## Calculate the model loss when using a left-to-right sequence order"
   ]
  },
  {
   "cell_type": "code",
   "execution_count": 5,
   "id": "a5602471",
   "metadata": {},
   "outputs": [],
   "source": [
    "def test_model(model, test, test_batches, criterion, starting_chars=0, temperature=0.5, topk=5, topp=0.75, mode=\"\"):\n",
    "    torch.manual_seed(0)\n",
    "    model.eval()\n",
    "    #model.train()\n",
    "    #with torch.no_grad():\n",
    "    recording_indices = [0]\n",
    "    losses = None\n",
    "    pbar = tqdm(range(test_batches))\n",
    "    test_iterator = iter(test)\n",
    "    num_tests_done = 0\n",
    "    for test_iter in pbar: \n",
    "        test_batch = next(test_iterator, None)\n",
    "        if test_batch is not None:\n",
    "            num_tests_done += 1\n",
    "            loss_list = []\n",
    "            x_test_tab = embed_sample(test_batch)\n",
    "\n",
    "            #biased_scramble = not true random, simple_scramble = left_to_right, alternate_direction = randomly reverse order\n",
    "            x_test_type_reordered, x_test_value_reordered, seq_order=scramble_order_seq(x_test_tab, biased_scramble=True, simple_scramble=True, alternate_direction=False)\n",
    "\n",
    "            for i in range(model.n_bits+1):\n",
    "                if i in recording_indices:\n",
    "                    with torch.amp.autocast(\"cuda\"):\n",
    "                        _, output = model((x_test_type_reordered, x_test_value_reordered, seq_order), num_allowed_nodes = i)\n",
    "                        loss = criterion(output, x_test_value_reordered) \n",
    "                        loss_list.append(float(loss))\n",
    "\n",
    "            if losses is None:\n",
    "                losses = np.array(loss_list)\n",
    "            else:\n",
    "                losses += np.array(loss_list)\n",
    "\n",
    "    losses /= num_tests_done\n",
    "\n",
    "    #save normal samples\n",
    "    mean_test_loss = np.mean(losses[0:])\n",
    "    min_test_loss = np.min(losses)\n",
    "    min_error_node = int(torch.FloatTensor(losses).argmin())\n",
    "    model.best_complexity = min_error_node\n",
    "    \n",
    "    print(\"L2 of\", str(float(calculate_l2(model))))\n",
    "    print(\"TEST ERROR OF \"+str(round(min_test_loss,5)))\n",
    "\n",
    "    generate_completions(model, test_batch, starting_chars=7, temperature=temperature, topk=topk, topp=topp, ls=criterion.label_smoothing)\n",
    "    search_results[\"L2\"].append(float(calculate_l2(model)))\n",
    "    search_results[\"Test Error\"].append(min_test_loss)\n",
    "    pd.DataFrame(search_results).to_csv(f\"sample_output/{mode}_record.csv\")\n",
    "    \n",
    "    return min_test_loss"
   ]
  },
  {
   "cell_type": "markdown",
   "id": "bbf938bd-3bfa-4e36-8d32-6989c4cfc6e8",
   "metadata": {},
   "source": [
    "## Train model using specified strategy"
   ]
  },
  {
   "cell_type": "code",
   "execution_count": 27,
   "id": "8746e979",
   "metadata": {},
   "outputs": [],
   "source": [
    "def train_model(train, test, model, epochs=10, aux_loss_weight=0.01, checkpoint_filename=\"model.pyt\",\n",
    "                lr=1e-4, label_smoothing=0, weight_decay=0.01, test_batches=10, epochs_between_test=10, running_average_window=1000,\n",
    "                temperature=0.5, topk=5, topp=0.75, mode=\"causal\"):\n",
    "\n",
    "    if mode == \"causal\":\n",
    "        biased_scramble = True\n",
    "        simple_scramble = True\n",
    "        alternate_direction = False\n",
    "    elif mode == \"bidirectional\":\n",
    "        biased_scramble = True\n",
    "        simple_scramble = True\n",
    "        alternate_direction = True\n",
    "    elif mode == \"pseudorandom\":\n",
    "        biased_scramble = True\n",
    "        simple_scramble = False\n",
    "        alternate_direction = True\n",
    "    elif mode == \"random\":\n",
    "        biased_scramble = False\n",
    "        simple_scramble = False\n",
    "        alternate_direction = False\n",
    "    else:\n",
    "        print(\"use a valid mode\")\n",
    "        sys.exit()\n",
    "        \n",
    "    \n",
    "    criterion = nn.CrossEntropyLoss(label_smoothing=label_smoothing)\n",
    "    \n",
    "    model.train()\n",
    "    iters = len(train)\n",
    "    best_mean_test_loss = np.inf\n",
    "    best_min_test_loss = np.inf\n",
    "    epochs_since_best_loss = 0\n",
    "    running_train_loss = []\n",
    "    \n",
    "    #training epochs\n",
    "    optimizer = torch.optim.AdamW(model.parameters(), lr=lr, weight_decay=weight_decay)\n",
    "    scaler = torch.amp.GradScaler(\"cuda\")\n",
    "    #scheduler = torch.optim.lr_scheduler.OneCycleLR(optimizer, max_lr=lr, epochs=epochs+1, steps_per_epoch=iters, div_factor=1e4, pct_start=0.01)\n",
    "    for epoch in range(epochs+1):\n",
    "        #set seed here, seed is set again at test. \n",
    "        #If not reset after test this leads to overfitting since noise is the same each epoch\n",
    "        torch.manual_seed(np.random.randint(99999999))\n",
    "        model.train()\n",
    "        \n",
    "        gc.collect()\n",
    "        torch.cuda.empty_cache()\n",
    "        \n",
    "        \n",
    "        print(\"--------------------------------------\\nEPOCH\", epoch)\n",
    "        pbar = tqdm(train)\n",
    "        for iteration, batch in enumerate(pbar):\n",
    "            \n",
    "            x_train_tab = embed_sample(batch)\n",
    "\n",
    "            #need to scramble order of tabular data and concat it\n",
    "            x_train_type_reordered, x_train_value_reordered, seq_order = scramble_order_seq(x_train_tab, biased_scramble=biased_scramble, simple_scramble=simple_scramble, alternate_direction=alternate_direction)\n",
    "            with torch.amp.autocast(\"cuda\"):\n",
    "                #add label noise\n",
    "                #x_train_value_reordered = add_label_noise(x_train_value_reordered)\n",
    "                \n",
    "                enc, output = model((x_train_type_reordered, x_train_value_reordered, seq_order))\n",
    "                \n",
    "                loss = criterion(output, x_train_value_reordered)\n",
    "                \n",
    "                #aux loss\n",
    "                if not model.binary_encodings and model.make_encodings:\n",
    "                    loss = loss + (enc**2).mean()*aux_loss_weight \n",
    "            scaler.scale(loss).backward()\n",
    "            scaler.unscale_(optimizer)\n",
    "            nn.utils.clip_grad_norm_(model.parameters(), 1)\n",
    "            scaler.step(optimizer)\n",
    "            scaler.update()\n",
    "            #scheduler.step()\n",
    "            optimizer.zero_grad()\n",
    "            \n",
    "            \n",
    "            running_train_loss.append(float(loss))\n",
    "            running_train_loss = running_train_loss[-running_average_window:]\n",
    "\n",
    "            current_lr = optimizer.param_groups[0]['lr']\n",
    "            pbar.set_description(f\"Loss: {np.mean(running_train_loss):.4f} LR {current_lr:.8}\")\n",
    "        \n",
    "        if epoch%epochs_between_test == 0:\n",
    "            gc.collect()\n",
    "            torch.cuda.empty_cache()\n",
    "            #evaluate model\n",
    "            min_test_loss = test_model(model, test, test_batches, criterion, temperature=temperature, topk=topk, topp=topp, mode=mode)\n",
    "            if min_test_loss < best_min_test_loss:\n",
    "                epochs_since_best_loss = 0\n",
    "                best_min_test_loss = min_test_loss\n",
    "                model.cpu()\n",
    "                #torch.save(model.state_dict(), checkpoint_filename)\n",
    "                model = model.to(device)\n",
    "            print(f\"{epochs_since_best_loss} EPOCHS SINCE BEST LOSS OF {best_min_test_loss}\")\n",
    "            epochs_since_best_loss += 1\n",
    "                \n",
    "        del output\n",
    "        del loss\n",
    "        \n",
    "    model.eval()\n",
    "    return model"
   ]
  },
  {
   "cell_type": "markdown",
   "id": "d7706dcc-a0bc-494b-87f9-186f5afb7542",
   "metadata": {},
   "source": [
    "## Embed each sample so it can be input into the random-order autoregressive model"
   ]
  },
  {
   "cell_type": "code",
   "execution_count": 7,
   "id": "7545de58-b702-4ae4-879e-f184b3a9ec50",
   "metadata": {},
   "outputs": [],
   "source": [
    "#tokens reserved in advance\n",
    "def embed_sample(batch):\n",
    "    if debug:\n",
    "        device = torch.device(\"cpu\")\n",
    "    else:\n",
    "        device = torch.device(\"cuda\" if torch.cuda.is_available() else \"cpu\")\n",
    "    x, y, z = batch\n",
    "    x = x.to(device)\n",
    "    y = y.to(device)\n",
    "    z = z.to(device)\n",
    "\n",
    "    tab_type = x\n",
    "    tab_value = y\n",
    "    tab_pos1 = z\n",
    "\n",
    "    tab_data = (tab_type.long(), tab_value.long(), tab_pos1.float())\n",
    "\n",
    "    return tab_data"
   ]
  },
  {
   "cell_type": "markdown",
   "id": "87578b4b-b013-4413-8ce9-3b3f221b349d",
   "metadata": {},
   "source": [
    "## Encode text into ints"
   ]
  },
  {
   "cell_type": "code",
   "execution_count": 8,
   "id": "7dbf684c-e180-4568-a965-7cdd962afa54",
   "metadata": {},
   "outputs": [],
   "source": [
    "def encode(line, desired_length):\n",
    "    line = [ord(x) for x in line]\n",
    "    base = torch.zeros((desired_length))\n",
    "    seq = torch.LongTensor(line)\n",
    "    base[0:seq.shape[0]] = seq\n",
    "    return base.reshape(1,-1)"
   ]
  },
  {
   "cell_type": "markdown",
   "id": "e96da888-3c0c-4d95-96c9-f961c4db05d9",
   "metadata": {},
   "source": [
    "## Generate sum equalities very inefficiently, but it doesn't matter"
   ]
  },
  {
   "cell_type": "code",
   "execution_count": 9,
   "id": "6bb04e89-5400-41e5-a9bd-0539a2ab9b43",
   "metadata": {},
   "outputs": [],
   "source": [
    "def make_line(min_val, max_val, num_numbers):\n",
    "    max_val +=1\n",
    "    value = 0\n",
    "    first_half = []\n",
    "    for _ in range(num_numbers):\n",
    "        num = np.random.randint(min_val+1,max_val)\n",
    "        value += num\n",
    "        num = \"+\"+str(num) if num >=0 else str(num)\n",
    "        first_half.append(num)\n",
    "    while True:\n",
    "        second_half = []\n",
    "        partial_sum = 0\n",
    "        for _ in range(num_numbers-1):\n",
    "            num = np.random.randint(min_val,max_val)\n",
    "            partial_sum += num\n",
    "            num = \"+\"+str(num) if num >=0 else str(num)\n",
    "            second_half.append(num)\n",
    "        \n",
    "        if (value - partial_sum) <= max_val and (value - partial_sum) >= min_val:\n",
    "            num = value - partial_sum\n",
    "            num = \"+\"+str(num) if num >=0 else str(num)\n",
    "            second_half.append(num)\n",
    "            break\n",
    "\n",
    "    return \"\".join(first_half).strip(\"+\") + \"==\" + \"\".join(second_half).strip(\"+\")"
   ]
  },
  {
   "cell_type": "markdown",
   "id": "5a88ef92-9022-4640-a65c-a198a0fecc6d",
   "metadata": {},
   "source": [
    "## Create sum equalities dataset"
   ]
  },
  {
   "cell_type": "code",
   "execution_count": 10,
   "id": "1560d3db-517c-4646-8169-5ee9a6b5c7e8",
   "metadata": {},
   "outputs": [],
   "source": [
    "def make_datasets(min_val, max_val, num_numbers, max_len, reserved_tokens):\n",
    "    synthetic_lines = []\n",
    "    for i in range(1000000):\n",
    "        synthetic_lines.append(make_line(min_val, max_val, num_numbers))\n",
    "\n",
    "    X = [x[:max_len] for x in synthetic_lines]\n",
    "    X = [x.encode(\"ascii\", errors=\"ignore\").decode() for x in X]\n",
    "    X = torch.cat([encode(x, max_len) for x in X], axis=0).numpy()\n",
    "\n",
    "    timestamps = []\n",
    "    itemtypes = []\n",
    "    values = []\n",
    "    for t in tqdm(X):\n",
    "        \n",
    "        ts_tab, it_tab, va_tab = np.arange(max_len+2).reshape(1,max_len+2).astype(float), np.zeros((1,max_len+2), dtype=int), np.zeros((1,max_len+2), dtype=int)\n",
    "        \n",
    "        it_tab[0,1:len(t)+1] = reserved_tokens\n",
    "        va_tab[0,1:len(t)+1] = t+reserved_tokens\n",
    "\n",
    "        timestamps.append(ts_tab)\n",
    "        itemtypes.append(it_tab)\n",
    "        values.append(va_tab)\n",
    "   \n",
    "    data = (np.concatenate(itemtypes, dtype=int), np.concatenate(values, dtype=int), (np.concatenate(timestamps, dtype=float)))\n",
    "\n",
    "    return data"
   ]
  },
  {
   "cell_type": "markdown",
   "id": "a32f34c7-cf2a-44ce-9dad-9bec8aff3902",
   "metadata": {},
   "source": [
    "## Setup training\n",
    "Generate datasets consisting of sum equalities. Each sequence starts and ends with a padding token."
   ]
  },
  {
   "cell_type": "code",
   "execution_count": 12,
   "id": "5222969b-6c6b-4745-8191-82e982b0d089",
   "metadata": {},
   "outputs": [
    {
     "data": {
      "application/vnd.jupyter.widget-view+json": {
       "model_id": "0c8a652907304fd19321859d3b70d179",
       "version_major": 2,
       "version_minor": 0
      },
      "text/plain": [
       "  0%|          | 0/1000000 [00:00<?, ?it/s]"
      ]
     },
     "metadata": {},
     "output_type": "display_data"
    }
   ],
   "source": [
    "#tokens also reserved in the generate function\n",
    "prepared_data = make_datasets(-99, 99, 2, max_len=14, reserved_tokens=2)\n",
    "\n",
    "types, values, poistions = prepared_data\n",
    "x_train_type, x_test_type, x_train_values, x_test_values, x_train_positions, x_test_positions = train_test_split(types, values, poistions, test_size=0.2, random_state=42)"
   ]
  },
  {
   "cell_type": "markdown",
   "id": "a573fad5-b300-43d4-b938-5ecafa72ca5e",
   "metadata": {},
   "source": [
    "## Use 10,000 samples in the training dataset"
   ]
  },
  {
   "cell_type": "code",
   "execution_count": 13,
   "id": "c3f7bf72-3214-436e-86b2-66b20a9f4f1d",
   "metadata": {},
   "outputs": [],
   "source": [
    "n_train_samples = 10000\n",
    "\n",
    "x_train_type = x_train_type[:n_train_samples]\n",
    "x_train_values = x_train_values[:n_train_samples]\n",
    "x_train_positions = x_train_positions[:n_train_samples]"
   ]
  },
  {
   "cell_type": "markdown",
   "id": "1da897ab-4dba-4fef-8bed-c2e3789e0157",
   "metadata": {},
   "source": [
    "## Use very large batches for stability at the high learning rate"
   ]
  },
  {
   "cell_type": "code",
   "execution_count": 14,
   "id": "657aba13",
   "metadata": {},
   "outputs": [],
   "source": [
    "train_batch_size=1024\n",
    "test_batch_size=1024\n",
    "num_workers=8"
   ]
  },
  {
   "cell_type": "markdown",
   "id": "2d36c3a7-9120-426f-a157-dc8ea372d7be",
   "metadata": {},
   "source": [
    "## Each \"epoch\" contains 1,000,000 samples randomly sampled from the training data. We test after each \"epoch\""
   ]
  },
  {
   "cell_type": "code",
   "execution_count": 15,
   "id": "685ca5d9",
   "metadata": {},
   "outputs": [],
   "source": [
    "train = torch.utils.data.TensorDataset(torch.tensor(x_train_type), torch.tensor(x_train_values), torch.tensor(x_train_positions))\n",
    "test = torch.utils.data.TensorDataset(torch.tensor(x_test_type), torch.tensor(x_test_values), torch.tensor(x_test_positions))\n",
    "\n",
    "sampler = torch.utils.data.RandomSampler(train, replacement=True, num_samples=1000000)\n",
    "trainldr = torch.utils.data.DataLoader(train, batch_size=train_batch_size, sampler=sampler, num_workers=num_workers, drop_last=True)\n",
    "testldr = torch.utils.data.DataLoader(test, batch_size=test_batch_size, shuffle=False, num_workers=num_workers, drop_last=True)"
   ]
  },
  {
   "cell_type": "code",
   "execution_count": 16,
   "id": "0abb9db8",
   "metadata": {},
   "outputs": [],
   "source": [
    "device = torch.device(\"cuda\" if torch.cuda.is_available() else \"cpu\")\n",
    "#device = torch.device(\"cpu\")"
   ]
  },
  {
   "cell_type": "code",
   "execution_count": 17,
   "id": "8f02be2a-93c2-4837-b951-bdbedea18ae0",
   "metadata": {},
   "outputs": [],
   "source": [
    "#################################################################################################\n",
    "#Each \"epoch\" is 1,000,000 samples regardless of the true unique number of samples in the dataset\n",
    "num_epochs = 300\n",
    "#################################################################################################"
   ]
  },
  {
   "cell_type": "markdown",
   "id": "f038ee68-5b38-4dce-86fe-425de4cf5d9e",
   "metadata": {},
   "source": [
    "## Train left-to-right model"
   ]
  },
  {
   "cell_type": "code",
   "execution_count": 18,
   "id": "7e6375b8",
   "metadata": {
    "scrolled": true
   },
   "outputs": [
    {
     "name": "stdout",
     "output_type": "stream",
     "text": [
      "--------------------------------------\n",
      "EPOCH 0\n"
     ]
    },
    {
     "data": {
      "application/vnd.jupyter.widget-view+json": {
       "model_id": "8d83cc3357494243b668dea10212191a",
       "version_major": 2,
       "version_minor": 0
      },
      "text/plain": [
       "  0%|          | 0/976 [00:00<?, ?it/s]"
      ]
     },
     "metadata": {},
     "output_type": "display_data"
    },
    {
     "data": {
      "application/vnd.jupyter.widget-view+json": {
       "model_id": "97465ce6d8924408857477389832b097",
       "version_major": 2,
       "version_minor": 0
      },
      "text/plain": [
       "  0%|          | 0/50 [00:00<?, ?it/s]"
      ]
     },
     "metadata": {},
     "output_type": "display_data"
    },
    {
     "name": "stdout",
     "output_type": "stream",
     "text": [
      "L2 of 64658.72265625\n",
      "TEST ERROR OF 1.1751\n",
      "Generating samples with temp of 0 topk of 5 and topp of 0.75\n"
     ]
    },
    {
     "data": {
      "application/vnd.jupyter.widget-view+json": {
       "model_id": "679384e7a98344e1ab6f5f084e2af211",
       "version_major": 2,
       "version_minor": 0
      },
      "text/plain": [
       "  0%|          | 0/9 [00:00<?, ?it/s]"
      ]
     },
     "metadata": {},
     "output_type": "display_data"
    },
    {
     "name": "stdout",
     "output_type": "stream",
     "text": [
      "0.10546875 ARE TRUE\n",
      "3.4099804305283756 AVG DIFF\n",
      "0 EPOCHS SINCE BEST LOSS OF 1.1750994539260864\n",
      "--------------------------------------\n",
      "EPOCH 1\n"
     ]
    },
    {
     "data": {
      "application/vnd.jupyter.widget-view+json": {
       "model_id": "d054d045ad414131a905d4c5b97abc52",
       "version_major": 2,
       "version_minor": 0
      },
      "text/plain": [
       "  0%|          | 0/976 [00:00<?, ?it/s]"
      ]
     },
     "metadata": {},
     "output_type": "display_data"
    },
    {
     "data": {
      "application/vnd.jupyter.widget-view+json": {
       "model_id": "7515a0fbd8cc4043a4e0eb2558a2e4cc",
       "version_major": 2,
       "version_minor": 0
      },
      "text/plain": [
       "  0%|          | 0/50 [00:00<?, ?it/s]"
      ]
     },
     "metadata": {},
     "output_type": "display_data"
    },
    {
     "name": "stdout",
     "output_type": "stream",
     "text": [
      "L2 of 45275.9453125\n",
      "TEST ERROR OF 1.64733\n",
      "Generating samples with temp of 0 topk of 5 and topp of 0.75\n"
     ]
    },
    {
     "data": {
      "application/vnd.jupyter.widget-view+json": {
       "model_id": "b5c200fb43e848a8bdcb0cdaf3efad85",
       "version_major": 2,
       "version_minor": 0
      },
      "text/plain": [
       "  0%|          | 0/9 [00:00<?, ?it/s]"
      ]
     },
     "metadata": {},
     "output_type": "display_data"
    },
    {
     "name": "stdout",
     "output_type": "stream",
     "text": [
      "0.1220703125 ARE TRUE\n",
      "4.818627450980392 AVG DIFF\n",
      "1 EPOCHS SINCE BEST LOSS OF 1.1750994539260864\n",
      "--------------------------------------\n",
      "EPOCH 2\n"
     ]
    },
    {
     "data": {
      "application/vnd.jupyter.widget-view+json": {
       "model_id": "a30149d1b24d4e07b1b074958ab58231",
       "version_major": 2,
       "version_minor": 0
      },
      "text/plain": [
       "  0%|          | 0/976 [00:00<?, ?it/s]"
      ]
     },
     "metadata": {},
     "output_type": "display_data"
    },
    {
     "data": {
      "application/vnd.jupyter.widget-view+json": {
       "model_id": "25a5d09ed725474ba5de62adba22aa9b",
       "version_major": 2,
       "version_minor": 0
      },
      "text/plain": [
       "  0%|          | 0/50 [00:00<?, ?it/s]"
      ]
     },
     "metadata": {},
     "output_type": "display_data"
    },
    {
     "name": "stdout",
     "output_type": "stream",
     "text": [
      "L2 of 51440.25390625\n",
      "TEST ERROR OF 2.08479\n",
      "Generating samples with temp of 0 topk of 5 and topp of 0.75\n"
     ]
    },
    {
     "data": {
      "application/vnd.jupyter.widget-view+json": {
       "model_id": "52d2d3abc1f940cc9bc1177735a129c1",
       "version_major": 2,
       "version_minor": 0
      },
      "text/plain": [
       "  0%|          | 0/9 [00:00<?, ?it/s]"
      ]
     },
     "metadata": {},
     "output_type": "display_data"
    },
    {
     "name": "stdout",
     "output_type": "stream",
     "text": [
      "0.28515625 ARE TRUE\n",
      "5.084148727984345 AVG DIFF\n",
      "2 EPOCHS SINCE BEST LOSS OF 1.1750994539260864\n",
      "--------------------------------------\n",
      "EPOCH 3\n"
     ]
    },
    {
     "data": {
      "application/vnd.jupyter.widget-view+json": {
       "model_id": "c69dc3cf6e054b978c2692c78c60d0e2",
       "version_major": 2,
       "version_minor": 0
      },
      "text/plain": [
       "  0%|          | 0/976 [00:00<?, ?it/s]"
      ]
     },
     "metadata": {},
     "output_type": "display_data"
    },
    {
     "data": {
      "application/vnd.jupyter.widget-view+json": {
       "model_id": "f85a062f70aa4acc8f3ef6ccdeb4df0b",
       "version_major": 2,
       "version_minor": 0
      },
      "text/plain": [
       "  0%|          | 0/50 [00:00<?, ?it/s]"
      ]
     },
     "metadata": {},
     "output_type": "display_data"
    },
    {
     "name": "stdout",
     "output_type": "stream",
     "text": [
      "L2 of 48690.2265625\n",
      "TEST ERROR OF 2.17971\n",
      "Generating samples with temp of 0 topk of 5 and topp of 0.75\n"
     ]
    },
    {
     "data": {
      "application/vnd.jupyter.widget-view+json": {
       "model_id": "41284e43085942c6805c367268bd4cec",
       "version_major": 2,
       "version_minor": 0
      },
      "text/plain": [
       "  0%|          | 0/9 [00:00<?, ?it/s]"
      ]
     },
     "metadata": {},
     "output_type": "display_data"
    },
    {
     "name": "stdout",
     "output_type": "stream",
     "text": [
      "0.2783203125 ARE TRUE\n",
      "5.93011811023622 AVG DIFF\n",
      "3 EPOCHS SINCE BEST LOSS OF 1.1750994539260864\n",
      "--------------------------------------\n",
      "EPOCH 4\n"
     ]
    },
    {
     "data": {
      "application/vnd.jupyter.widget-view+json": {
       "model_id": "32f2de61b9f74ecf912e766bd1d62a13",
       "version_major": 2,
       "version_minor": 0
      },
      "text/plain": [
       "  0%|          | 0/976 [00:00<?, ?it/s]"
      ]
     },
     "metadata": {},
     "output_type": "display_data"
    },
    {
     "data": {
      "application/vnd.jupyter.widget-view+json": {
       "model_id": "36c3e12ab39c4840a844c0a817130ed4",
       "version_major": 2,
       "version_minor": 0
      },
      "text/plain": [
       "  0%|          | 0/50 [00:00<?, ?it/s]"
      ]
     },
     "metadata": {},
     "output_type": "display_data"
    },
    {
     "name": "stdout",
     "output_type": "stream",
     "text": [
      "L2 of 46972.16796875\n",
      "TEST ERROR OF 2.23243\n",
      "Generating samples with temp of 0 topk of 5 and topp of 0.75\n"
     ]
    },
    {
     "data": {
      "application/vnd.jupyter.widget-view+json": {
       "model_id": "0f041b81f8ed4993aee5e1b37b65ec74",
       "version_major": 2,
       "version_minor": 0
      },
      "text/plain": [
       "  0%|          | 0/9 [00:00<?, ?it/s]"
      ]
     },
     "metadata": {},
     "output_type": "display_data"
    },
    {
     "name": "stdout",
     "output_type": "stream",
     "text": [
      "0.30859375 ARE TRUE\n",
      "5.426470588235294 AVG DIFF\n",
      "4 EPOCHS SINCE BEST LOSS OF 1.1750994539260864\n",
      "--------------------------------------\n",
      "EPOCH 5\n"
     ]
    },
    {
     "data": {
      "application/vnd.jupyter.widget-view+json": {
       "model_id": "c9fc4c4b10f048d5931db6c3638702a7",
       "version_major": 2,
       "version_minor": 0
      },
      "text/plain": [
       "  0%|          | 0/976 [00:00<?, ?it/s]"
      ]
     },
     "metadata": {},
     "output_type": "display_data"
    },
    {
     "data": {
      "application/vnd.jupyter.widget-view+json": {
       "model_id": "e8543b7b2c334b299ed9335d47aa9c3a",
       "version_major": 2,
       "version_minor": 0
      },
      "text/plain": [
       "  0%|          | 0/50 [00:00<?, ?it/s]"
      ]
     },
     "metadata": {},
     "output_type": "display_data"
    },
    {
     "name": "stdout",
     "output_type": "stream",
     "text": [
      "L2 of 46475.1171875\n",
      "TEST ERROR OF 2.26353\n",
      "Generating samples with temp of 0 topk of 5 and topp of 0.75\n"
     ]
    },
    {
     "data": {
      "application/vnd.jupyter.widget-view+json": {
       "model_id": "62c8d30c14c240979d73978f0182135c",
       "version_major": 2,
       "version_minor": 0
      },
      "text/plain": [
       "  0%|          | 0/9 [00:00<?, ?it/s]"
      ]
     },
     "metadata": {},
     "output_type": "display_data"
    },
    {
     "name": "stdout",
     "output_type": "stream",
     "text": [
      "0.3310546875 ARE TRUE\n",
      "5.4857703631010795 AVG DIFF\n",
      "5 EPOCHS SINCE BEST LOSS OF 1.1750994539260864\n",
      "--------------------------------------\n",
      "EPOCH 6\n"
     ]
    },
    {
     "data": {
      "application/vnd.jupyter.widget-view+json": {
       "model_id": "148ba1b19e7c494bb72f91b26ef1c30a",
       "version_major": 2,
       "version_minor": 0
      },
      "text/plain": [
       "  0%|          | 0/976 [00:00<?, ?it/s]"
      ]
     },
     "metadata": {},
     "output_type": "display_data"
    },
    {
     "data": {
      "application/vnd.jupyter.widget-view+json": {
       "model_id": "155c2a1e559c4011af0a1816f7855cef",
       "version_major": 2,
       "version_minor": 0
      },
      "text/plain": [
       "  0%|          | 0/50 [00:00<?, ?it/s]"
      ]
     },
     "metadata": {},
     "output_type": "display_data"
    },
    {
     "name": "stdout",
     "output_type": "stream",
     "text": [
      "L2 of 46682.390625\n",
      "TEST ERROR OF 2.26688\n",
      "Generating samples with temp of 0 topk of 5 and topp of 0.75\n"
     ]
    },
    {
     "data": {
      "application/vnd.jupyter.widget-view+json": {
       "model_id": "5c139e569cd54f148ea1f9fe1554beb3",
       "version_major": 2,
       "version_minor": 0
      },
      "text/plain": [
       "  0%|          | 0/9 [00:00<?, ?it/s]"
      ]
     },
     "metadata": {},
     "output_type": "display_data"
    },
    {
     "name": "stdout",
     "output_type": "stream",
     "text": [
      "0.3203125 ARE TRUE\n",
      "6.1619234543670265 AVG DIFF\n",
      "6 EPOCHS SINCE BEST LOSS OF 1.1750994539260864\n",
      "--------------------------------------\n",
      "EPOCH 7\n"
     ]
    },
    {
     "data": {
      "application/vnd.jupyter.widget-view+json": {
       "model_id": "ee041d4fb85140f29600ca03c0d18aa3",
       "version_major": 2,
       "version_minor": 0
      },
      "text/plain": [
       "  0%|          | 0/976 [00:00<?, ?it/s]"
      ]
     },
     "metadata": {},
     "output_type": "display_data"
    },
    {
     "data": {
      "application/vnd.jupyter.widget-view+json": {
       "model_id": "11579c3fae1d401aaa98489bb790ba32",
       "version_major": 2,
       "version_minor": 0
      },
      "text/plain": [
       "  0%|          | 0/50 [00:00<?, ?it/s]"
      ]
     },
     "metadata": {},
     "output_type": "display_data"
    },
    {
     "name": "stdout",
     "output_type": "stream",
     "text": [
      "L2 of 47229.15625\n",
      "TEST ERROR OF 2.26734\n",
      "Generating samples with temp of 0 topk of 5 and topp of 0.75\n"
     ]
    },
    {
     "data": {
      "application/vnd.jupyter.widget-view+json": {
       "model_id": "adec944813c548d98fcca6251d28ec04",
       "version_major": 2,
       "version_minor": 0
      },
      "text/plain": [
       "  0%|          | 0/9 [00:00<?, ?it/s]"
      ]
     },
     "metadata": {},
     "output_type": "display_data"
    },
    {
     "name": "stdout",
     "output_type": "stream",
     "text": [
      "0.33984375 ARE TRUE\n",
      "6.416258570029383 AVG DIFF\n",
      "7 EPOCHS SINCE BEST LOSS OF 1.1750994539260864\n",
      "--------------------------------------\n",
      "EPOCH 8\n"
     ]
    },
    {
     "data": {
      "application/vnd.jupyter.widget-view+json": {
       "model_id": "93df0ac5d73c48ba94cd48a9cbd7d613",
       "version_major": 2,
       "version_minor": 0
      },
      "text/plain": [
       "  0%|          | 0/976 [00:00<?, ?it/s]"
      ]
     },
     "metadata": {},
     "output_type": "display_data"
    },
    {
     "data": {
      "application/vnd.jupyter.widget-view+json": {
       "model_id": "1b0c2ba5c5994782a9e11b594d72be48",
       "version_major": 2,
       "version_minor": 0
      },
      "text/plain": [
       "  0%|          | 0/50 [00:00<?, ?it/s]"
      ]
     },
     "metadata": {},
     "output_type": "display_data"
    },
    {
     "name": "stdout",
     "output_type": "stream",
     "text": [
      "L2 of 47967.37109375\n",
      "TEST ERROR OF 2.29535\n",
      "Generating samples with temp of 0 topk of 5 and topp of 0.75\n"
     ]
    },
    {
     "data": {
      "application/vnd.jupyter.widget-view+json": {
       "model_id": "63bca56f2aa44defb86a3dcea4199e1b",
       "version_major": 2,
       "version_minor": 0
      },
      "text/plain": [
       "  0%|          | 0/9 [00:00<?, ?it/s]"
      ]
     },
     "metadata": {},
     "output_type": "display_data"
    },
    {
     "name": "stdout",
     "output_type": "stream",
     "text": [
      "0.314453125 ARE TRUE\n",
      "6.528487229862476 AVG DIFF\n",
      "8 EPOCHS SINCE BEST LOSS OF 1.1750994539260864\n",
      "--------------------------------------\n",
      "EPOCH 9\n"
     ]
    },
    {
     "data": {
      "application/vnd.jupyter.widget-view+json": {
       "model_id": "70f50f8e9bcb49dc8f1a78d103698044",
       "version_major": 2,
       "version_minor": 0
      },
      "text/plain": [
       "  0%|          | 0/976 [00:00<?, ?it/s]"
      ]
     },
     "metadata": {},
     "output_type": "display_data"
    },
    {
     "data": {
      "application/vnd.jupyter.widget-view+json": {
       "model_id": "c0552166f4a845e5ad49ae881bd37ac9",
       "version_major": 2,
       "version_minor": 0
      },
      "text/plain": [
       "  0%|          | 0/50 [00:00<?, ?it/s]"
      ]
     },
     "metadata": {},
     "output_type": "display_data"
    },
    {
     "name": "stdout",
     "output_type": "stream",
     "text": [
      "L2 of 48880.26953125\n",
      "TEST ERROR OF 2.35861\n",
      "Generating samples with temp of 0 topk of 5 and topp of 0.75\n"
     ]
    },
    {
     "data": {
      "application/vnd.jupyter.widget-view+json": {
       "model_id": "2016a918462f4e5eb160cdcceda52917",
       "version_major": 2,
       "version_minor": 0
      },
      "text/plain": [
       "  0%|          | 0/9 [00:00<?, ?it/s]"
      ]
     },
     "metadata": {},
     "output_type": "display_data"
    },
    {
     "name": "stdout",
     "output_type": "stream",
     "text": [
      "0.35546875 ARE TRUE\n",
      "5.763440860215054 AVG DIFF\n",
      "9 EPOCHS SINCE BEST LOSS OF 1.1750994539260864\n",
      "--------------------------------------\n",
      "EPOCH 10\n"
     ]
    },
    {
     "data": {
      "application/vnd.jupyter.widget-view+json": {
       "model_id": "c698569aa1c74feabcdf54a5fa0b08f8",
       "version_major": 2,
       "version_minor": 0
      },
      "text/plain": [
       "  0%|          | 0/976 [00:00<?, ?it/s]"
      ]
     },
     "metadata": {},
     "output_type": "display_data"
    },
    {
     "data": {
      "application/vnd.jupyter.widget-view+json": {
       "model_id": "77c23ce8bd3545ecbeeea198c5e59e9c",
       "version_major": 2,
       "version_minor": 0
      },
      "text/plain": [
       "  0%|          | 0/50 [00:00<?, ?it/s]"
      ]
     },
     "metadata": {},
     "output_type": "display_data"
    },
    {
     "name": "stdout",
     "output_type": "stream",
     "text": [
      "L2 of 49975.2734375\n",
      "TEST ERROR OF 2.34441\n",
      "Generating samples with temp of 0 topk of 5 and topp of 0.75\n"
     ]
    },
    {
     "data": {
      "application/vnd.jupyter.widget-view+json": {
       "model_id": "bf2dd23a9c1146fd8c36ccedb3de4763",
       "version_major": 2,
       "version_minor": 0
      },
      "text/plain": [
       "  0%|          | 0/9 [00:00<?, ?it/s]"
      ]
     },
     "metadata": {},
     "output_type": "display_data"
    },
    {
     "name": "stdout",
     "output_type": "stream",
     "text": [
      "0.337890625 ARE TRUE\n",
      "6.206457925636008 AVG DIFF\n",
      "10 EPOCHS SINCE BEST LOSS OF 1.1750994539260864\n",
      "--------------------------------------\n",
      "EPOCH 11\n"
     ]
    },
    {
     "data": {
      "application/vnd.jupyter.widget-view+json": {
       "model_id": "8db65fe3d128436c8719a1f0aa9b7160",
       "version_major": 2,
       "version_minor": 0
      },
      "text/plain": [
       "  0%|          | 0/976 [00:00<?, ?it/s]"
      ]
     },
     "metadata": {},
     "output_type": "display_data"
    },
    {
     "data": {
      "application/vnd.jupyter.widget-view+json": {
       "model_id": "76cb947301da4821b29a2cc9b376b29c",
       "version_major": 2,
       "version_minor": 0
      },
      "text/plain": [
       "  0%|          | 0/50 [00:00<?, ?it/s]"
      ]
     },
     "metadata": {},
     "output_type": "display_data"
    },
    {
     "name": "stdout",
     "output_type": "stream",
     "text": [
      "L2 of 51247.015625\n",
      "TEST ERROR OF 2.34199\n",
      "Generating samples with temp of 0 topk of 5 and topp of 0.75\n"
     ]
    },
    {
     "data": {
      "application/vnd.jupyter.widget-view+json": {
       "model_id": "fb6b69f83b204b389e093e2c57646d9d",
       "version_major": 2,
       "version_minor": 0
      },
      "text/plain": [
       "  0%|          | 0/9 [00:00<?, ?it/s]"
      ]
     },
     "metadata": {},
     "output_type": "display_data"
    },
    {
     "name": "stdout",
     "output_type": "stream",
     "text": [
      "0.3623046875 ARE TRUE\n",
      "6.445205479452055 AVG DIFF\n",
      "11 EPOCHS SINCE BEST LOSS OF 1.1750994539260864\n",
      "--------------------------------------\n",
      "EPOCH 12\n"
     ]
    },
    {
     "data": {
      "application/vnd.jupyter.widget-view+json": {
       "model_id": "b7ba2583c1864de0a4bfd3cb3286fd80",
       "version_major": 2,
       "version_minor": 0
      },
      "text/plain": [
       "  0%|          | 0/976 [00:00<?, ?it/s]"
      ]
     },
     "metadata": {},
     "output_type": "display_data"
    },
    {
     "data": {
      "application/vnd.jupyter.widget-view+json": {
       "model_id": "1d8b9018e5d442b3befa81848017c1d3",
       "version_major": 2,
       "version_minor": 0
      },
      "text/plain": [
       "  0%|          | 0/50 [00:00<?, ?it/s]"
      ]
     },
     "metadata": {},
     "output_type": "display_data"
    },
    {
     "name": "stdout",
     "output_type": "stream",
     "text": [
      "L2 of 52671.83984375\n",
      "TEST ERROR OF 2.36171\n",
      "Generating samples with temp of 0 topk of 5 and topp of 0.75\n"
     ]
    },
    {
     "data": {
      "application/vnd.jupyter.widget-view+json": {
       "model_id": "d569664227c8448d93d4e7844f5c61d3",
       "version_major": 2,
       "version_minor": 0
      },
      "text/plain": [
       "  0%|          | 0/9 [00:00<?, ?it/s]"
      ]
     },
     "metadata": {},
     "output_type": "display_data"
    },
    {
     "name": "stdout",
     "output_type": "stream",
     "text": [
      "0.3544921875 ARE TRUE\n",
      "6.682306940371457 AVG DIFF\n",
      "12 EPOCHS SINCE BEST LOSS OF 1.1750994539260864\n",
      "--------------------------------------\n",
      "EPOCH 13\n"
     ]
    },
    {
     "data": {
      "application/vnd.jupyter.widget-view+json": {
       "model_id": "1d4d2f6f37e44f0ba4b15207ef574eb6",
       "version_major": 2,
       "version_minor": 0
      },
      "text/plain": [
       "  0%|          | 0/976 [00:00<?, ?it/s]"
      ]
     },
     "metadata": {},
     "output_type": "display_data"
    },
    {
     "data": {
      "application/vnd.jupyter.widget-view+json": {
       "model_id": "7017b088962a4500b2b855007ebc8368",
       "version_major": 2,
       "version_minor": 0
      },
      "text/plain": [
       "  0%|          | 0/50 [00:00<?, ?it/s]"
      ]
     },
     "metadata": {},
     "output_type": "display_data"
    },
    {
     "name": "stdout",
     "output_type": "stream",
     "text": [
      "L2 of 53863.890625\n",
      "TEST ERROR OF 2.4259\n",
      "Generating samples with temp of 0 topk of 5 and topp of 0.75\n"
     ]
    },
    {
     "data": {
      "application/vnd.jupyter.widget-view+json": {
       "model_id": "55bed38680f7413296ee0d7aa81f63e0",
       "version_major": 2,
       "version_minor": 0
      },
      "text/plain": [
       "  0%|          | 0/9 [00:00<?, ?it/s]"
      ]
     },
     "metadata": {},
     "output_type": "display_data"
    },
    {
     "name": "stdout",
     "output_type": "stream",
     "text": [
      "0.380859375 ARE TRUE\n",
      "7.00293542074364 AVG DIFF\n",
      "13 EPOCHS SINCE BEST LOSS OF 1.1750994539260864\n",
      "--------------------------------------\n",
      "EPOCH 14\n"
     ]
    },
    {
     "data": {
      "application/vnd.jupyter.widget-view+json": {
       "model_id": "97f0b56c6d344f3c99bee0164d6a2445",
       "version_major": 2,
       "version_minor": 0
      },
      "text/plain": [
       "  0%|          | 0/976 [00:00<?, ?it/s]"
      ]
     },
     "metadata": {},
     "output_type": "display_data"
    },
    {
     "data": {
      "application/vnd.jupyter.widget-view+json": {
       "model_id": "b1bba205358f4b7186499b7b7ccf8a61",
       "version_major": 2,
       "version_minor": 0
      },
      "text/plain": [
       "  0%|          | 0/50 [00:00<?, ?it/s]"
      ]
     },
     "metadata": {},
     "output_type": "display_data"
    },
    {
     "name": "stdout",
     "output_type": "stream",
     "text": [
      "L2 of 54551.984375\n",
      "TEST ERROR OF 2.42373\n",
      "Generating samples with temp of 0 topk of 5 and topp of 0.75\n"
     ]
    },
    {
     "data": {
      "application/vnd.jupyter.widget-view+json": {
       "model_id": "f463240506d24386a99b777227bb206f",
       "version_major": 2,
       "version_minor": 0
      },
      "text/plain": [
       "  0%|          | 0/9 [00:00<?, ?it/s]"
      ]
     },
     "metadata": {},
     "output_type": "display_data"
    },
    {
     "name": "stdout",
     "output_type": "stream",
     "text": [
      "0.37109375 ARE TRUE\n",
      "6.87524557956778 AVG DIFF\n",
      "14 EPOCHS SINCE BEST LOSS OF 1.1750994539260864\n",
      "--------------------------------------\n",
      "EPOCH 15\n"
     ]
    },
    {
     "data": {
      "application/vnd.jupyter.widget-view+json": {
       "model_id": "702be7b4f50943c69fa9486cfd6808c3",
       "version_major": 2,
       "version_minor": 0
      },
      "text/plain": [
       "  0%|          | 0/976 [00:00<?, ?it/s]"
      ]
     },
     "metadata": {},
     "output_type": "display_data"
    },
    {
     "data": {
      "application/vnd.jupyter.widget-view+json": {
       "model_id": "17568e935fd548469b5663c06acb951c",
       "version_major": 2,
       "version_minor": 0
      },
      "text/plain": [
       "  0%|          | 0/50 [00:00<?, ?it/s]"
      ]
     },
     "metadata": {},
     "output_type": "display_data"
    },
    {
     "name": "stdout",
     "output_type": "stream",
     "text": [
      "L2 of 55263.6875\n",
      "TEST ERROR OF 2.4516\n",
      "Generating samples with temp of 0 topk of 5 and topp of 0.75\n"
     ]
    },
    {
     "data": {
      "application/vnd.jupyter.widget-view+json": {
       "model_id": "f18b39cd33f846268e17813ce6198a77",
       "version_major": 2,
       "version_minor": 0
      },
      "text/plain": [
       "  0%|          | 0/9 [00:00<?, ?it/s]"
      ]
     },
     "metadata": {},
     "output_type": "display_data"
    },
    {
     "name": "stdout",
     "output_type": "stream",
     "text": [
      "0.359375 ARE TRUE\n",
      "6.5458984375 AVG DIFF\n",
      "15 EPOCHS SINCE BEST LOSS OF 1.1750994539260864\n",
      "--------------------------------------\n",
      "EPOCH 16\n"
     ]
    },
    {
     "data": {
      "application/vnd.jupyter.widget-view+json": {
       "model_id": "e10b74deba554665bbf62e59be9c3a9a",
       "version_major": 2,
       "version_minor": 0
      },
      "text/plain": [
       "  0%|          | 0/976 [00:00<?, ?it/s]"
      ]
     },
     "metadata": {},
     "output_type": "display_data"
    },
    {
     "data": {
      "application/vnd.jupyter.widget-view+json": {
       "model_id": "751cc3aebf094211a10baf7a62b36e30",
       "version_major": 2,
       "version_minor": 0
      },
      "text/plain": [
       "  0%|          | 0/50 [00:00<?, ?it/s]"
      ]
     },
     "metadata": {},
     "output_type": "display_data"
    },
    {
     "name": "stdout",
     "output_type": "stream",
     "text": [
      "L2 of 55831.98046875\n",
      "TEST ERROR OF 2.43185\n",
      "Generating samples with temp of 0 topk of 5 and topp of 0.75\n"
     ]
    },
    {
     "data": {
      "application/vnd.jupyter.widget-view+json": {
       "model_id": "f575f5348d95490dabe15f53f003a92b",
       "version_major": 2,
       "version_minor": 0
      },
      "text/plain": [
       "  0%|          | 0/9 [00:00<?, ?it/s]"
      ]
     },
     "metadata": {},
     "output_type": "display_data"
    },
    {
     "name": "stdout",
     "output_type": "stream",
     "text": [
      "0.353515625 ARE TRUE\n",
      "6.78256611165524 AVG DIFF\n",
      "16 EPOCHS SINCE BEST LOSS OF 1.1750994539260864\n",
      "--------------------------------------\n",
      "EPOCH 17\n"
     ]
    },
    {
     "data": {
      "application/vnd.jupyter.widget-view+json": {
       "model_id": "a0810bdd04334e8c97ef672f21e2e943",
       "version_major": 2,
       "version_minor": 0
      },
      "text/plain": [
       "  0%|          | 0/976 [00:00<?, ?it/s]"
      ]
     },
     "metadata": {},
     "output_type": "display_data"
    },
    {
     "data": {
      "application/vnd.jupyter.widget-view+json": {
       "model_id": "6a3815a332854c3e8bae1fab98696402",
       "version_major": 2,
       "version_minor": 0
      },
      "text/plain": [
       "  0%|          | 0/50 [00:00<?, ?it/s]"
      ]
     },
     "metadata": {},
     "output_type": "display_data"
    },
    {
     "name": "stdout",
     "output_type": "stream",
     "text": [
      "L2 of 55792.5234375\n",
      "TEST ERROR OF 2.44697\n",
      "Generating samples with temp of 0 topk of 5 and topp of 0.75\n"
     ]
    },
    {
     "data": {
      "application/vnd.jupyter.widget-view+json": {
       "model_id": "d0b3e52717184c0db8f31ba57eb22855",
       "version_major": 2,
       "version_minor": 0
      },
      "text/plain": [
       "  0%|          | 0/9 [00:00<?, ?it/s]"
      ]
     },
     "metadata": {},
     "output_type": "display_data"
    },
    {
     "name": "stdout",
     "output_type": "stream",
     "text": [
      "0.359375 ARE TRUE\n",
      "7.919843597262952 AVG DIFF\n",
      "17 EPOCHS SINCE BEST LOSS OF 1.1750994539260864\n",
      "--------------------------------------\n",
      "EPOCH 18\n"
     ]
    },
    {
     "data": {
      "application/vnd.jupyter.widget-view+json": {
       "model_id": "d0548b2d6efd44d2a83bc5e1729f1d43",
       "version_major": 2,
       "version_minor": 0
      },
      "text/plain": [
       "  0%|          | 0/976 [00:00<?, ?it/s]"
      ]
     },
     "metadata": {},
     "output_type": "display_data"
    },
    {
     "data": {
      "application/vnd.jupyter.widget-view+json": {
       "model_id": "14d3ed2dbad04b88a12abfef59decbd9",
       "version_major": 2,
       "version_minor": 0
      },
      "text/plain": [
       "  0%|          | 0/50 [00:00<?, ?it/s]"
      ]
     },
     "metadata": {},
     "output_type": "display_data"
    },
    {
     "name": "stdout",
     "output_type": "stream",
     "text": [
      "L2 of 55663.5078125\n",
      "TEST ERROR OF 2.49445\n",
      "Generating samples with temp of 0 topk of 5 and topp of 0.75\n"
     ]
    },
    {
     "data": {
      "application/vnd.jupyter.widget-view+json": {
       "model_id": "2d28c1fcd2074346abdf18155bbdbd56",
       "version_major": 2,
       "version_minor": 0
      },
      "text/plain": [
       "  0%|          | 0/9 [00:00<?, ?it/s]"
      ]
     },
     "metadata": {},
     "output_type": "display_data"
    },
    {
     "name": "stdout",
     "output_type": "stream",
     "text": [
      "0.3701171875 ARE TRUE\n",
      "6.999019607843137 AVG DIFF\n",
      "18 EPOCHS SINCE BEST LOSS OF 1.1750994539260864\n",
      "--------------------------------------\n",
      "EPOCH 19\n"
     ]
    },
    {
     "data": {
      "application/vnd.jupyter.widget-view+json": {
       "model_id": "77d073404a084d2ab96e78dceff933b0",
       "version_major": 2,
       "version_minor": 0
      },
      "text/plain": [
       "  0%|          | 0/976 [00:00<?, ?it/s]"
      ]
     },
     "metadata": {},
     "output_type": "display_data"
    },
    {
     "data": {
      "application/vnd.jupyter.widget-view+json": {
       "model_id": "53faaf75698e48ff8851ded042fd6402",
       "version_major": 2,
       "version_minor": 0
      },
      "text/plain": [
       "  0%|          | 0/50 [00:00<?, ?it/s]"
      ]
     },
     "metadata": {},
     "output_type": "display_data"
    },
    {
     "name": "stdout",
     "output_type": "stream",
     "text": [
      "L2 of 55934.01953125\n",
      "TEST ERROR OF 2.52407\n",
      "Generating samples with temp of 0 topk of 5 and topp of 0.75\n"
     ]
    },
    {
     "data": {
      "application/vnd.jupyter.widget-view+json": {
       "model_id": "2312dc40f24b4a2fa8dd9cf47f39685a",
       "version_major": 2,
       "version_minor": 0
      },
      "text/plain": [
       "  0%|          | 0/9 [00:00<?, ?it/s]"
      ]
     },
     "metadata": {},
     "output_type": "display_data"
    },
    {
     "name": "stdout",
     "output_type": "stream",
     "text": [
      "0.3603515625 ARE TRUE\n",
      "6.500488758553275 AVG DIFF\n",
      "19 EPOCHS SINCE BEST LOSS OF 1.1750994539260864\n",
      "--------------------------------------\n",
      "EPOCH 20\n"
     ]
    },
    {
     "data": {
      "application/vnd.jupyter.widget-view+json": {
       "model_id": "b17c3611db0a4f84ab9af27c53ac01b1",
       "version_major": 2,
       "version_minor": 0
      },
      "text/plain": [
       "  0%|          | 0/976 [00:00<?, ?it/s]"
      ]
     },
     "metadata": {},
     "output_type": "display_data"
    },
    {
     "data": {
      "application/vnd.jupyter.widget-view+json": {
       "model_id": "480bfc2c2b5142eebec7667780b9e4af",
       "version_major": 2,
       "version_minor": 0
      },
      "text/plain": [
       "  0%|          | 0/50 [00:00<?, ?it/s]"
      ]
     },
     "metadata": {},
     "output_type": "display_data"
    },
    {
     "name": "stdout",
     "output_type": "stream",
     "text": [
      "L2 of 56088.95703125\n",
      "TEST ERROR OF 2.52959\n",
      "Generating samples with temp of 0 topk of 5 and topp of 0.75\n"
     ]
    },
    {
     "data": {
      "application/vnd.jupyter.widget-view+json": {
       "model_id": "53b07bb90ca84cdfbbfab25e48e2602d",
       "version_major": 2,
       "version_minor": 0
      },
      "text/plain": [
       "  0%|          | 0/9 [00:00<?, ?it/s]"
      ]
     },
     "metadata": {},
     "output_type": "display_data"
    },
    {
     "name": "stdout",
     "output_type": "stream",
     "text": [
      "0.3427734375 ARE TRUE\n",
      "7.542074363992172 AVG DIFF\n",
      "20 EPOCHS SINCE BEST LOSS OF 1.1750994539260864\n",
      "--------------------------------------\n",
      "EPOCH 21\n"
     ]
    },
    {
     "data": {
      "application/vnd.jupyter.widget-view+json": {
       "model_id": "00066a99042f4c2eb3a9ea74ce5a796a",
       "version_major": 2,
       "version_minor": 0
      },
      "text/plain": [
       "  0%|          | 0/976 [00:00<?, ?it/s]"
      ]
     },
     "metadata": {},
     "output_type": "display_data"
    },
    {
     "data": {
      "application/vnd.jupyter.widget-view+json": {
       "model_id": "aef0cf9b7c6d4b9495e4cf07c95b5197",
       "version_major": 2,
       "version_minor": 0
      },
      "text/plain": [
       "  0%|          | 0/50 [00:00<?, ?it/s]"
      ]
     },
     "metadata": {},
     "output_type": "display_data"
    },
    {
     "name": "stdout",
     "output_type": "stream",
     "text": [
      "L2 of 55693.4921875\n",
      "TEST ERROR OF 2.56128\n",
      "Generating samples with temp of 0 topk of 5 and topp of 0.75\n"
     ]
    },
    {
     "data": {
      "application/vnd.jupyter.widget-view+json": {
       "model_id": "ce6a922b6d004636aa064f62f8d9fbf0",
       "version_major": 2,
       "version_minor": 0
      },
      "text/plain": [
       "  0%|          | 0/9 [00:00<?, ?it/s]"
      ]
     },
     "metadata": {},
     "output_type": "display_data"
    },
    {
     "name": "stdout",
     "output_type": "stream",
     "text": [
      "0.3525390625 ARE TRUE\n",
      "6.537634408602151 AVG DIFF\n",
      "21 EPOCHS SINCE BEST LOSS OF 1.1750994539260864\n",
      "--------------------------------------\n",
      "EPOCH 22\n"
     ]
    },
    {
     "data": {
      "application/vnd.jupyter.widget-view+json": {
       "model_id": "54d971a8bc52428cba79c1f34594c582",
       "version_major": 2,
       "version_minor": 0
      },
      "text/plain": [
       "  0%|          | 0/976 [00:00<?, ?it/s]"
      ]
     },
     "metadata": {},
     "output_type": "display_data"
    },
    {
     "data": {
      "application/vnd.jupyter.widget-view+json": {
       "model_id": "67699918a4c146079ad7e504e0d8ba11",
       "version_major": 2,
       "version_minor": 0
      },
      "text/plain": [
       "  0%|          | 0/50 [00:00<?, ?it/s]"
      ]
     },
     "metadata": {},
     "output_type": "display_data"
    },
    {
     "name": "stdout",
     "output_type": "stream",
     "text": [
      "L2 of 55821.43359375\n",
      "TEST ERROR OF 2.53548\n",
      "Generating samples with temp of 0 topk of 5 and topp of 0.75\n"
     ]
    },
    {
     "data": {
      "application/vnd.jupyter.widget-view+json": {
       "model_id": "c369914fe0f84f0e81b825a90b0561d7",
       "version_major": 2,
       "version_minor": 0
      },
      "text/plain": [
       "  0%|          | 0/9 [00:00<?, ?it/s]"
      ]
     },
     "metadata": {},
     "output_type": "display_data"
    },
    {
     "name": "stdout",
     "output_type": "stream",
     "text": [
      "0.36328125 ARE TRUE\n",
      "6.8824681684622915 AVG DIFF\n",
      "22 EPOCHS SINCE BEST LOSS OF 1.1750994539260864\n",
      "--------------------------------------\n",
      "EPOCH 23\n"
     ]
    },
    {
     "data": {
      "application/vnd.jupyter.widget-view+json": {
       "model_id": "6c126c43c95d43229eb0bf0b0bac3f8f",
       "version_major": 2,
       "version_minor": 0
      },
      "text/plain": [
       "  0%|          | 0/976 [00:00<?, ?it/s]"
      ]
     },
     "metadata": {},
     "output_type": "display_data"
    },
    {
     "data": {
      "application/vnd.jupyter.widget-view+json": {
       "model_id": "f803075c73e342aaaa73e53122ba4e9c",
       "version_major": 2,
       "version_minor": 0
      },
      "text/plain": [
       "  0%|          | 0/50 [00:00<?, ?it/s]"
      ]
     },
     "metadata": {},
     "output_type": "display_data"
    },
    {
     "name": "stdout",
     "output_type": "stream",
     "text": [
      "L2 of 55770.76953125\n",
      "TEST ERROR OF 2.52652\n",
      "Generating samples with temp of 0 topk of 5 and topp of 0.75\n"
     ]
    },
    {
     "data": {
      "application/vnd.jupyter.widget-view+json": {
       "model_id": "990e55ebb6424fae8dee1bca24df8eb3",
       "version_major": 2,
       "version_minor": 0
      },
      "text/plain": [
       "  0%|          | 0/9 [00:00<?, ?it/s]"
      ]
     },
     "metadata": {},
     "output_type": "display_data"
    },
    {
     "name": "stdout",
     "output_type": "stream",
     "text": [
      "0.349609375 ARE TRUE\n",
      "6.599804305283757 AVG DIFF\n",
      "23 EPOCHS SINCE BEST LOSS OF 1.1750994539260864\n",
      "--------------------------------------\n",
      "EPOCH 24\n"
     ]
    },
    {
     "data": {
      "application/vnd.jupyter.widget-view+json": {
       "model_id": "7e9be629a1a14f32ad3236af61d5c75b",
       "version_major": 2,
       "version_minor": 0
      },
      "text/plain": [
       "  0%|          | 0/976 [00:00<?, ?it/s]"
      ]
     },
     "metadata": {},
     "output_type": "display_data"
    },
    {
     "data": {
      "application/vnd.jupyter.widget-view+json": {
       "model_id": "8d04aa0a4d7947028eca1a72d1605235",
       "version_major": 2,
       "version_minor": 0
      },
      "text/plain": [
       "  0%|          | 0/50 [00:00<?, ?it/s]"
      ]
     },
     "metadata": {},
     "output_type": "display_data"
    },
    {
     "name": "stdout",
     "output_type": "stream",
     "text": [
      "L2 of 55643.05859375\n",
      "TEST ERROR OF 2.60152\n",
      "Generating samples with temp of 0 topk of 5 and topp of 0.75\n"
     ]
    },
    {
     "data": {
      "application/vnd.jupyter.widget-view+json": {
       "model_id": "1db49744143c4619823253b73e450c05",
       "version_major": 2,
       "version_minor": 0
      },
      "text/plain": [
       "  0%|          | 0/9 [00:00<?, ?it/s]"
      ]
     },
     "metadata": {},
     "output_type": "display_data"
    },
    {
     "name": "stdout",
     "output_type": "stream",
     "text": [
      "0.326171875 ARE TRUE\n",
      "8.12426614481409 AVG DIFF\n",
      "24 EPOCHS SINCE BEST LOSS OF 1.1750994539260864\n",
      "--------------------------------------\n",
      "EPOCH 25\n"
     ]
    },
    {
     "data": {
      "application/vnd.jupyter.widget-view+json": {
       "model_id": "26b415415dc14deebe99993454037030",
       "version_major": 2,
       "version_minor": 0
      },
      "text/plain": [
       "  0%|          | 0/976 [00:00<?, ?it/s]"
      ]
     },
     "metadata": {},
     "output_type": "display_data"
    },
    {
     "data": {
      "application/vnd.jupyter.widget-view+json": {
       "model_id": "cd80160e90ae4219b56d908ef9274e10",
       "version_major": 2,
       "version_minor": 0
      },
      "text/plain": [
       "  0%|          | 0/50 [00:00<?, ?it/s]"
      ]
     },
     "metadata": {},
     "output_type": "display_data"
    },
    {
     "name": "stdout",
     "output_type": "stream",
     "text": [
      "L2 of 55637.62890625\n",
      "TEST ERROR OF 2.48962\n",
      "Generating samples with temp of 0 topk of 5 and topp of 0.75\n"
     ]
    },
    {
     "data": {
      "application/vnd.jupyter.widget-view+json": {
       "model_id": "5cd1786a7f3544af993ebb8a5610b075",
       "version_major": 2,
       "version_minor": 0
      },
      "text/plain": [
       "  0%|          | 0/9 [00:00<?, ?it/s]"
      ]
     },
     "metadata": {},
     "output_type": "display_data"
    },
    {
     "name": "stdout",
     "output_type": "stream",
     "text": [
      "0.3671875 ARE TRUE\n",
      "8.799803729146221 AVG DIFF\n",
      "26 EPOCHS SINCE BEST LOSS OF 1.1750994539260864\n",
      "--------------------------------------\n",
      "EPOCH 27\n"
     ]
    },
    {
     "data": {
      "application/vnd.jupyter.widget-view+json": {
       "model_id": "2c79f0761af64d60834c34952a4bea9f",
       "version_major": 2,
       "version_minor": 0
      },
      "text/plain": [
       "  0%|          | 0/976 [00:00<?, ?it/s]"
      ]
     },
     "metadata": {},
     "output_type": "display_data"
    },
    {
     "name": "stderr",
     "output_type": "stream",
     "text": [
      "IOPub message rate exceeded.\n",
      "The Jupyter server will temporarily stop sending output\n",
      "to the client in order to avoid crashing it.\n",
      "To change this limit, set the config variable\n",
      "`--ServerApp.iopub_msg_rate_limit`.\n",
      "\n",
      "Current values:\n",
      "ServerApp.iopub_msg_rate_limit=1000.0 (msgs/sec)\n",
      "ServerApp.rate_limit_window=3.0 (secs)\n",
      "\n"
     ]
    },
    {
     "data": {
      "application/vnd.jupyter.widget-view+json": {
       "model_id": "588c852298be4c31baa3dde5e6da33ac",
       "version_major": 2,
       "version_minor": 0
      },
      "text/plain": [
       "  0%|          | 0/50 [00:00<?, ?it/s]"
      ]
     },
     "metadata": {},
     "output_type": "display_data"
    },
    {
     "name": "stdout",
     "output_type": "stream",
     "text": [
      "L2 of 55853.33203125\n",
      "TEST ERROR OF 2.5349\n",
      "Generating samples with temp of 0 topk of 5 and topp of 0.75\n"
     ]
    },
    {
     "data": {
      "application/vnd.jupyter.widget-view+json": {
       "model_id": "ad53f48b4824497db4564d202eacda3b",
       "version_major": 2,
       "version_minor": 0
      },
      "text/plain": [
       "  0%|          | 0/9 [00:00<?, ?it/s]"
      ]
     },
     "metadata": {},
     "output_type": "display_data"
    },
    {
     "name": "stdout",
     "output_type": "stream",
     "text": [
      "0.369140625 ARE TRUE\n",
      "8.084396467124632 AVG DIFF\n",
      "29 EPOCHS SINCE BEST LOSS OF 1.1750994539260864\n",
      "--------------------------------------\n",
      "EPOCH 30\n"
     ]
    },
    {
     "data": {
      "application/vnd.jupyter.widget-view+json": {
       "model_id": "a193db9df6564b5e8de8897a66681a77",
       "version_major": 2,
       "version_minor": 0
      },
      "text/plain": [
       "  0%|          | 0/976 [00:00<?, ?it/s]"
      ]
     },
     "metadata": {},
     "output_type": "display_data"
    },
    {
     "data": {
      "application/vnd.jupyter.widget-view+json": {
       "model_id": "43f485a153c441f4842c4e0b9542bd32",
       "version_major": 2,
       "version_minor": 0
      },
      "text/plain": [
       "  0%|          | 0/50 [00:00<?, ?it/s]"
      ]
     },
     "metadata": {},
     "output_type": "display_data"
    },
    {
     "name": "stdout",
     "output_type": "stream",
     "text": [
      "L2 of 55408.15625\n",
      "TEST ERROR OF 2.57315\n",
      "Generating samples with temp of 0 topk of 5 and topp of 0.75\n"
     ]
    },
    {
     "data": {
      "application/vnd.jupyter.widget-view+json": {
       "model_id": "a7b23172e474434899de6b4f169b0090",
       "version_major": 2,
       "version_minor": 0
      },
      "text/plain": [
       "  0%|          | 0/9 [00:00<?, ?it/s]"
      ]
     },
     "metadata": {},
     "output_type": "display_data"
    },
    {
     "name": "stdout",
     "output_type": "stream",
     "text": [
      "0.36328125 ARE TRUE\n",
      "7.089128305582762 AVG DIFF\n",
      "30 EPOCHS SINCE BEST LOSS OF 1.1750994539260864\n",
      "--------------------------------------\n",
      "EPOCH 31\n"
     ]
    },
    {
     "data": {
      "application/vnd.jupyter.widget-view+json": {
       "model_id": "d4e883adb4d84eb99ced3f72ea31626b",
       "version_major": 2,
       "version_minor": 0
      },
      "text/plain": [
       "  0%|          | 0/976 [00:00<?, ?it/s]"
      ]
     },
     "metadata": {},
     "output_type": "display_data"
    },
    {
     "data": {
      "application/vnd.jupyter.widget-view+json": {
       "model_id": "ed16be0cc6f04c778db3c3a8202bff5f",
       "version_major": 2,
       "version_minor": 0
      },
      "text/plain": [
       "  0%|          | 0/50 [00:00<?, ?it/s]"
      ]
     },
     "metadata": {},
     "output_type": "display_data"
    },
    {
     "name": "stdout",
     "output_type": "stream",
     "text": [
      "L2 of 55849.375\n",
      "TEST ERROR OF 2.61471\n",
      "Generating samples with temp of 0 topk of 5 and topp of 0.75\n"
     ]
    },
    {
     "data": {
      "application/vnd.jupyter.widget-view+json": {
       "model_id": "0dbe93878f644a58b364ee15d260d2a4",
       "version_major": 2,
       "version_minor": 0
      },
      "text/plain": [
       "  0%|          | 0/9 [00:00<?, ?it/s]"
      ]
     },
     "metadata": {},
     "output_type": "display_data"
    },
    {
     "name": "stdout",
     "output_type": "stream",
     "text": [
      "0.3623046875 ARE TRUE\n",
      "7.517173699705594 AVG DIFF\n",
      "31 EPOCHS SINCE BEST LOSS OF 1.1750994539260864\n",
      "--------------------------------------\n",
      "EPOCH 32\n"
     ]
    },
    {
     "data": {
      "application/vnd.jupyter.widget-view+json": {
       "model_id": "d0aab4dee8c342dcaba56a6a163e369d",
       "version_major": 2,
       "version_minor": 0
      },
      "text/plain": [
       "  0%|          | 0/976 [00:00<?, ?it/s]"
      ]
     },
     "metadata": {},
     "output_type": "display_data"
    },
    {
     "data": {
      "application/vnd.jupyter.widget-view+json": {
       "model_id": "8538aaaa7ea0477babaac1a072e7fd66",
       "version_major": 2,
       "version_minor": 0
      },
      "text/plain": [
       "  0%|          | 0/50 [00:00<?, ?it/s]"
      ]
     },
     "metadata": {},
     "output_type": "display_data"
    },
    {
     "name": "stdout",
     "output_type": "stream",
     "text": [
      "L2 of 55300.10546875\n",
      "TEST ERROR OF 2.55749\n",
      "Generating samples with temp of 0 topk of 5 and topp of 0.75\n"
     ]
    },
    {
     "data": {
      "application/vnd.jupyter.widget-view+json": {
       "model_id": "21673b8c00a64e4ba9fbd3483feb3576",
       "version_major": 2,
       "version_minor": 0
      },
      "text/plain": [
       "  0%|          | 0/9 [00:00<?, ?it/s]"
      ]
     },
     "metadata": {},
     "output_type": "display_data"
    },
    {
     "name": "stdout",
     "output_type": "stream",
     "text": [
      "0.3525390625 ARE TRUE\n",
      "7.506849315068493 AVG DIFF\n",
      "32 EPOCHS SINCE BEST LOSS OF 1.1750994539260864\n",
      "--------------------------------------\n",
      "EPOCH 33\n"
     ]
    },
    {
     "data": {
      "application/vnd.jupyter.widget-view+json": {
       "model_id": "d959c544cce04b0fa99262a042b05ca3",
       "version_major": 2,
       "version_minor": 0
      },
      "text/plain": [
       "  0%|          | 0/976 [00:00<?, ?it/s]"
      ]
     },
     "metadata": {},
     "output_type": "display_data"
    },
    {
     "data": {
      "application/vnd.jupyter.widget-view+json": {
       "model_id": "8e6a2ed1833d470292771de1bf2794b4",
       "version_major": 2,
       "version_minor": 0
      },
      "text/plain": [
       "  0%|          | 0/50 [00:00<?, ?it/s]"
      ]
     },
     "metadata": {},
     "output_type": "display_data"
    },
    {
     "name": "stdout",
     "output_type": "stream",
     "text": [
      "L2 of 55115.05078125\n",
      "TEST ERROR OF 2.66897\n",
      "Generating samples with temp of 0 topk of 5 and topp of 0.75\n"
     ]
    },
    {
     "data": {
      "application/vnd.jupyter.widget-view+json": {
       "model_id": "216a619fd4674e52bb8acc369f0fd0b6",
       "version_major": 2,
       "version_minor": 0
      },
      "text/plain": [
       "  0%|          | 0/9 [00:00<?, ?it/s]"
      ]
     },
     "metadata": {},
     "output_type": "display_data"
    },
    {
     "name": "stdout",
     "output_type": "stream",
     "text": [
      "0.3603515625 ARE TRUE\n",
      "8.590373280943025 AVG DIFF\n",
      "33 EPOCHS SINCE BEST LOSS OF 1.1750994539260864\n",
      "--------------------------------------\n",
      "EPOCH 34\n"
     ]
    },
    {
     "data": {
      "application/vnd.jupyter.widget-view+json": {
       "model_id": "fd291171a45c4cb5bf35a003c8fd6a81",
       "version_major": 2,
       "version_minor": 0
      },
      "text/plain": [
       "  0%|          | 0/976 [00:00<?, ?it/s]"
      ]
     },
     "metadata": {},
     "output_type": "display_data"
    },
    {
     "data": {
      "application/vnd.jupyter.widget-view+json": {
       "model_id": "8ee2df34390041f89a495b42426f02db",
       "version_major": 2,
       "version_minor": 0
      },
      "text/plain": [
       "  0%|          | 0/50 [00:00<?, ?it/s]"
      ]
     },
     "metadata": {},
     "output_type": "display_data"
    },
    {
     "name": "stdout",
     "output_type": "stream",
     "text": [
      "L2 of 54483.5859375\n",
      "TEST ERROR OF 2.55198\n",
      "Generating samples with temp of 0 topk of 5 and topp of 0.75\n"
     ]
    },
    {
     "data": {
      "application/vnd.jupyter.widget-view+json": {
       "model_id": "b7d53d9da88449ee8ae480b9a59f7b71",
       "version_major": 2,
       "version_minor": 0
      },
      "text/plain": [
       "  0%|          | 0/9 [00:00<?, ?it/s]"
      ]
     },
     "metadata": {},
     "output_type": "display_data"
    },
    {
     "name": "stdout",
     "output_type": "stream",
     "text": [
      "0.369140625 ARE TRUE\n",
      "6.95405669599218 AVG DIFF\n",
      "34 EPOCHS SINCE BEST LOSS OF 1.1750994539260864\n",
      "--------------------------------------\n",
      "EPOCH 35\n"
     ]
    },
    {
     "data": {
      "application/vnd.jupyter.widget-view+json": {
       "model_id": "1b5f88e240aa4c30a709bc4385036f6c",
       "version_major": 2,
       "version_minor": 0
      },
      "text/plain": [
       "  0%|          | 0/976 [00:00<?, ?it/s]"
      ]
     },
     "metadata": {},
     "output_type": "display_data"
    },
    {
     "data": {
      "application/vnd.jupyter.widget-view+json": {
       "model_id": "34dcb01288e24f0cb22c6e353cc272d5",
       "version_major": 2,
       "version_minor": 0
      },
      "text/plain": [
       "  0%|          | 0/50 [00:00<?, ?it/s]"
      ]
     },
     "metadata": {},
     "output_type": "display_data"
    },
    {
     "name": "stdout",
     "output_type": "stream",
     "text": [
      "L2 of 54034.33203125\n",
      "TEST ERROR OF 2.6406\n",
      "Generating samples with temp of 0 topk of 5 and topp of 0.75\n"
     ]
    },
    {
     "data": {
      "application/vnd.jupyter.widget-view+json": {
       "model_id": "3133912b0c3e45d891590bde7d37275e",
       "version_major": 2,
       "version_minor": 0
      },
      "text/plain": [
       "  0%|          | 0/9 [00:00<?, ?it/s]"
      ]
     },
     "metadata": {},
     "output_type": "display_data"
    },
    {
     "name": "stdout",
     "output_type": "stream",
     "text": [
      "0.3701171875 ARE TRUE\n",
      "7.437806072477962 AVG DIFF\n",
      "35 EPOCHS SINCE BEST LOSS OF 1.1750994539260864\n",
      "--------------------------------------\n",
      "EPOCH 36\n"
     ]
    },
    {
     "data": {
      "application/vnd.jupyter.widget-view+json": {
       "model_id": "e05dbd9d15e5483ab7271c0ed14f68af",
       "version_major": 2,
       "version_minor": 0
      },
      "text/plain": [
       "  0%|          | 0/976 [00:00<?, ?it/s]"
      ]
     },
     "metadata": {},
     "output_type": "display_data"
    },
    {
     "data": {
      "application/vnd.jupyter.widget-view+json": {
       "model_id": "1f37c9bccc4f4e0ca14f49c6c5616f03",
       "version_major": 2,
       "version_minor": 0
      },
      "text/plain": [
       "  0%|          | 0/50 [00:00<?, ?it/s]"
      ]
     },
     "metadata": {},
     "output_type": "display_data"
    },
    {
     "name": "stdout",
     "output_type": "stream",
     "text": [
      "L2 of 53965.5390625\n",
      "TEST ERROR OF 2.60903\n",
      "Generating samples with temp of 0 topk of 5 and topp of 0.75\n"
     ]
    },
    {
     "data": {
      "application/vnd.jupyter.widget-view+json": {
       "model_id": "3614d03654e1420ea9887afb67f49a30",
       "version_major": 2,
       "version_minor": 0
      },
      "text/plain": [
       "  0%|          | 0/9 [00:00<?, ?it/s]"
      ]
     },
     "metadata": {},
     "output_type": "display_data"
    },
    {
     "name": "stdout",
     "output_type": "stream",
     "text": [
      "0.37890625 ARE TRUE\n",
      "7.466731898238748 AVG DIFF\n",
      "36 EPOCHS SINCE BEST LOSS OF 1.1750994539260864\n",
      "--------------------------------------\n",
      "EPOCH 37\n"
     ]
    },
    {
     "data": {
      "application/vnd.jupyter.widget-view+json": {
       "model_id": "14d5df6b0281449f894cdb205be8dbc6",
       "version_major": 2,
       "version_minor": 0
      },
      "text/plain": [
       "  0%|          | 0/976 [00:00<?, ?it/s]"
      ]
     },
     "metadata": {},
     "output_type": "display_data"
    },
    {
     "data": {
      "application/vnd.jupyter.widget-view+json": {
       "model_id": "a9821789db9c4c3a95e7085f7436a49d",
       "version_major": 2,
       "version_minor": 0
      },
      "text/plain": [
       "  0%|          | 0/50 [00:00<?, ?it/s]"
      ]
     },
     "metadata": {},
     "output_type": "display_data"
    },
    {
     "name": "stdout",
     "output_type": "stream",
     "text": [
      "L2 of 54038.95703125\n",
      "TEST ERROR OF 2.5655\n",
      "Generating samples with temp of 0 topk of 5 and topp of 0.75\n"
     ]
    },
    {
     "data": {
      "application/vnd.jupyter.widget-view+json": {
       "model_id": "fc29f89625fd4e8c8cc7a92a48995d9b",
       "version_major": 2,
       "version_minor": 0
      },
      "text/plain": [
       "  0%|          | 0/9 [00:00<?, ?it/s]"
      ]
     },
     "metadata": {},
     "output_type": "display_data"
    },
    {
     "name": "stdout",
     "output_type": "stream",
     "text": [
      "0.353515625 ARE TRUE\n",
      "7.702252693437806 AVG DIFF\n",
      "37 EPOCHS SINCE BEST LOSS OF 1.1750994539260864\n",
      "--------------------------------------\n",
      "EPOCH 38\n"
     ]
    },
    {
     "data": {
      "application/vnd.jupyter.widget-view+json": {
       "model_id": "0cbe80dc6c7f47359be67e4ce2c812a4",
       "version_major": 2,
       "version_minor": 0
      },
      "text/plain": [
       "  0%|          | 0/976 [00:00<?, ?it/s]"
      ]
     },
     "metadata": {},
     "output_type": "display_data"
    },
    {
     "data": {
      "application/vnd.jupyter.widget-view+json": {
       "model_id": "362783cdf07143c38e5feb6975efc696",
       "version_major": 2,
       "version_minor": 0
      },
      "text/plain": [
       "  0%|          | 0/50 [00:00<?, ?it/s]"
      ]
     },
     "metadata": {},
     "output_type": "display_data"
    },
    {
     "name": "stdout",
     "output_type": "stream",
     "text": [
      "L2 of 53877.81640625\n",
      "TEST ERROR OF 2.53956\n",
      "Generating samples with temp of 0 topk of 5 and topp of 0.75\n"
     ]
    },
    {
     "data": {
      "application/vnd.jupyter.widget-view+json": {
       "model_id": "02a78cf5810e436dab65556f7889d24a",
       "version_major": 2,
       "version_minor": 0
      },
      "text/plain": [
       "  0%|          | 0/9 [00:00<?, ?it/s]"
      ]
     },
     "metadata": {},
     "output_type": "display_data"
    },
    {
     "name": "stdout",
     "output_type": "stream",
     "text": [
      "0.3515625 ARE TRUE\n",
      "7.570450097847358 AVG DIFF\n",
      "38 EPOCHS SINCE BEST LOSS OF 1.1750994539260864\n",
      "--------------------------------------\n",
      "EPOCH 39\n"
     ]
    },
    {
     "data": {
      "application/vnd.jupyter.widget-view+json": {
       "model_id": "1d44324f5cc74b5c855eac7779e0c1ff",
       "version_major": 2,
       "version_minor": 0
      },
      "text/plain": [
       "  0%|          | 0/976 [00:00<?, ?it/s]"
      ]
     },
     "metadata": {},
     "output_type": "display_data"
    },
    {
     "data": {
      "application/vnd.jupyter.widget-view+json": {
       "model_id": "68d30d2538714ee3b22e7f7837813c10",
       "version_major": 2,
       "version_minor": 0
      },
      "text/plain": [
       "  0%|          | 0/50 [00:00<?, ?it/s]"
      ]
     },
     "metadata": {},
     "output_type": "display_data"
    },
    {
     "name": "stdout",
     "output_type": "stream",
     "text": [
      "L2 of 54127.73046875\n",
      "TEST ERROR OF 2.39827\n",
      "Generating samples with temp of 0 topk of 5 and topp of 0.75\n"
     ]
    },
    {
     "data": {
      "application/vnd.jupyter.widget-view+json": {
       "model_id": "12ff35b1e95d4be08ae9dedfb32fb9fe",
       "version_major": 2,
       "version_minor": 0
      },
      "text/plain": [
       "  0%|          | 0/9 [00:00<?, ?it/s]"
      ]
     },
     "metadata": {},
     "output_type": "display_data"
    },
    {
     "name": "stdout",
     "output_type": "stream",
     "text": [
      "0.375 ARE TRUE\n",
      "8.625490196078431 AVG DIFF\n",
      "39 EPOCHS SINCE BEST LOSS OF 1.1750994539260864\n",
      "--------------------------------------\n",
      "EPOCH 40\n"
     ]
    },
    {
     "data": {
      "application/vnd.jupyter.widget-view+json": {
       "model_id": "0c6d9c084c564fada2107103a8676cec",
       "version_major": 2,
       "version_minor": 0
      },
      "text/plain": [
       "  0%|          | 0/976 [00:00<?, ?it/s]"
      ]
     },
     "metadata": {},
     "output_type": "display_data"
    },
    {
     "data": {
      "application/vnd.jupyter.widget-view+json": {
       "model_id": "f88be0e61e1344b09986f473bec0aeff",
       "version_major": 2,
       "version_minor": 0
      },
      "text/plain": [
       "  0%|          | 0/50 [00:00<?, ?it/s]"
      ]
     },
     "metadata": {},
     "output_type": "display_data"
    },
    {
     "name": "stdout",
     "output_type": "stream",
     "text": [
      "L2 of 53575.0\n",
      "TEST ERROR OF 2.6474\n",
      "Generating samples with temp of 0 topk of 5 and topp of 0.75\n"
     ]
    },
    {
     "data": {
      "application/vnd.jupyter.widget-view+json": {
       "model_id": "4276fad5c0b74b88a08a5714cb9aa177",
       "version_major": 2,
       "version_minor": 0
      },
      "text/plain": [
       "  0%|          | 0/9 [00:00<?, ?it/s]"
      ]
     },
     "metadata": {},
     "output_type": "display_data"
    },
    {
     "name": "stdout",
     "output_type": "stream",
     "text": [
      "0.3662109375 ARE TRUE\n",
      "7.0724070450097845 AVG DIFF\n",
      "40 EPOCHS SINCE BEST LOSS OF 1.1750994539260864\n",
      "--------------------------------------\n",
      "EPOCH 41\n"
     ]
    },
    {
     "data": {
      "application/vnd.jupyter.widget-view+json": {
       "model_id": "d1f1510eb42844108aa40aa45f2d2b05",
       "version_major": 2,
       "version_minor": 0
      },
      "text/plain": [
       "  0%|          | 0/976 [00:00<?, ?it/s]"
      ]
     },
     "metadata": {},
     "output_type": "display_data"
    },
    {
     "data": {
      "application/vnd.jupyter.widget-view+json": {
       "model_id": "063cbb95fe76403381c58cd20c0bd0dd",
       "version_major": 2,
       "version_minor": 0
      },
      "text/plain": [
       "  0%|          | 0/50 [00:00<?, ?it/s]"
      ]
     },
     "metadata": {},
     "output_type": "display_data"
    },
    {
     "name": "stdout",
     "output_type": "stream",
     "text": [
      "L2 of 53683.15625\n",
      "TEST ERROR OF 2.67407\n",
      "Generating samples with temp of 0 topk of 5 and topp of 0.75\n"
     ]
    },
    {
     "data": {
      "application/vnd.jupyter.widget-view+json": {
       "model_id": "57fd03c12afa4c799cb6c8f482678bc3",
       "version_major": 2,
       "version_minor": 0
      },
      "text/plain": [
       "  0%|          | 0/9 [00:00<?, ?it/s]"
      ]
     },
     "metadata": {},
     "output_type": "display_data"
    },
    {
     "name": "stdout",
     "output_type": "stream",
     "text": [
      "0.376953125 ARE TRUE\n",
      "7.792156862745098 AVG DIFF\n",
      "41 EPOCHS SINCE BEST LOSS OF 1.1750994539260864\n",
      "--------------------------------------\n",
      "EPOCH 42\n"
     ]
    },
    {
     "data": {
      "application/vnd.jupyter.widget-view+json": {
       "model_id": "a528f6d634d14666b1d3eef4c8bc0848",
       "version_major": 2,
       "version_minor": 0
      },
      "text/plain": [
       "  0%|          | 0/976 [00:00<?, ?it/s]"
      ]
     },
     "metadata": {},
     "output_type": "display_data"
    },
    {
     "data": {
      "application/vnd.jupyter.widget-view+json": {
       "model_id": "481752fb5b624c53a6e0a066289e2dbe",
       "version_major": 2,
       "version_minor": 0
      },
      "text/plain": [
       "  0%|          | 0/50 [00:00<?, ?it/s]"
      ]
     },
     "metadata": {},
     "output_type": "display_data"
    },
    {
     "name": "stdout",
     "output_type": "stream",
     "text": [
      "L2 of 53897.80078125\n",
      "TEST ERROR OF 2.56487\n",
      "Generating samples with temp of 0 topk of 5 and topp of 0.75\n"
     ]
    },
    {
     "data": {
      "application/vnd.jupyter.widget-view+json": {
       "model_id": "0a762550d23e4e78abcba90beab0b5b0",
       "version_major": 2,
       "version_minor": 0
      },
      "text/plain": [
       "  0%|          | 0/9 [00:00<?, ?it/s]"
      ]
     },
     "metadata": {},
     "output_type": "display_data"
    },
    {
     "name": "stdout",
     "output_type": "stream",
     "text": [
      "0.3916015625 ARE TRUE\n",
      "11.74705882352941 AVG DIFF\n",
      "42 EPOCHS SINCE BEST LOSS OF 1.1750994539260864\n",
      "--------------------------------------\n",
      "EPOCH 43\n"
     ]
    },
    {
     "data": {
      "application/vnd.jupyter.widget-view+json": {
       "model_id": "2181f362f036409d8f7d721cd23b87e8",
       "version_major": 2,
       "version_minor": 0
      },
      "text/plain": [
       "  0%|          | 0/976 [00:00<?, ?it/s]"
      ]
     },
     "metadata": {},
     "output_type": "display_data"
    },
    {
     "data": {
      "application/vnd.jupyter.widget-view+json": {
       "model_id": "13b1db150bdc4eb5aa79ea437daf2adb",
       "version_major": 2,
       "version_minor": 0
      },
      "text/plain": [
       "  0%|          | 0/50 [00:00<?, ?it/s]"
      ]
     },
     "metadata": {},
     "output_type": "display_data"
    },
    {
     "name": "stdout",
     "output_type": "stream",
     "text": [
      "L2 of 53661.10546875\n",
      "TEST ERROR OF 2.62253\n",
      "Generating samples with temp of 0 topk of 5 and topp of 0.75\n"
     ]
    },
    {
     "data": {
      "application/vnd.jupyter.widget-view+json": {
       "model_id": "8766ce6f6d0147a5801ee3001c3cd623",
       "version_major": 2,
       "version_minor": 0
      },
      "text/plain": [
       "  0%|          | 0/9 [00:00<?, ?it/s]"
      ]
     },
     "metadata": {},
     "output_type": "display_data"
    },
    {
     "name": "stdout",
     "output_type": "stream",
     "text": [
      "0.361328125 ARE TRUE\n",
      "7.6330724070450096 AVG DIFF\n",
      "43 EPOCHS SINCE BEST LOSS OF 1.1750994539260864\n",
      "--------------------------------------\n",
      "EPOCH 44\n"
     ]
    },
    {
     "data": {
      "application/vnd.jupyter.widget-view+json": {
       "model_id": "707f8382b7e145039f8a9694d149cddb",
       "version_major": 2,
       "version_minor": 0
      },
      "text/plain": [
       "  0%|          | 0/976 [00:00<?, ?it/s]"
      ]
     },
     "metadata": {},
     "output_type": "display_data"
    },
    {
     "data": {
      "application/vnd.jupyter.widget-view+json": {
       "model_id": "500ef3e99a7d45158ab3d08039c001b3",
       "version_major": 2,
       "version_minor": 0
      },
      "text/plain": [
       "  0%|          | 0/50 [00:00<?, ?it/s]"
      ]
     },
     "metadata": {},
     "output_type": "display_data"
    },
    {
     "name": "stdout",
     "output_type": "stream",
     "text": [
      "L2 of 53532.09375\n",
      "TEST ERROR OF 2.60102\n",
      "Generating samples with temp of 0 topk of 5 and topp of 0.75\n"
     ]
    },
    {
     "data": {
      "application/vnd.jupyter.widget-view+json": {
       "model_id": "30be82e7b1cf41b18cadb2a7b3558760",
       "version_major": 2,
       "version_minor": 0
      },
      "text/plain": [
       "  0%|          | 0/9 [00:00<?, ?it/s]"
      ]
     },
     "metadata": {},
     "output_type": "display_data"
    },
    {
     "name": "stdout",
     "output_type": "stream",
     "text": [
      "0.36328125 ARE TRUE\n",
      "6.938295788442703 AVG DIFF\n",
      "44 EPOCHS SINCE BEST LOSS OF 1.1750994539260864\n",
      "--------------------------------------\n",
      "EPOCH 45\n"
     ]
    },
    {
     "data": {
      "application/vnd.jupyter.widget-view+json": {
       "model_id": "c4c6fef6e3e34f1e897b2441f1610631",
       "version_major": 2,
       "version_minor": 0
      },
      "text/plain": [
       "  0%|          | 0/976 [00:00<?, ?it/s]"
      ]
     },
     "metadata": {},
     "output_type": "display_data"
    },
    {
     "data": {
      "application/vnd.jupyter.widget-view+json": {
       "model_id": "cbebab9db35c4d3c995fdb919c2e2653",
       "version_major": 2,
       "version_minor": 0
      },
      "text/plain": [
       "  0%|          | 0/50 [00:00<?, ?it/s]"
      ]
     },
     "metadata": {},
     "output_type": "display_data"
    },
    {
     "name": "stdout",
     "output_type": "stream",
     "text": [
      "L2 of 53651.0390625\n",
      "TEST ERROR OF 2.65984\n",
      "Generating samples with temp of 0 topk of 5 and topp of 0.75\n"
     ]
    },
    {
     "data": {
      "application/vnd.jupyter.widget-view+json": {
       "model_id": "b5ac7cf891ff4e70b4d38c76d8425a11",
       "version_major": 2,
       "version_minor": 0
      },
      "text/plain": [
       "  0%|          | 0/9 [00:00<?, ?it/s]"
      ]
     },
     "metadata": {},
     "output_type": "display_data"
    },
    {
     "name": "stdout",
     "output_type": "stream",
     "text": [
      "0.3671875 ARE TRUE\n",
      "8.437927663734115 AVG DIFF\n",
      "45 EPOCHS SINCE BEST LOSS OF 1.1750994539260864\n",
      "--------------------------------------\n",
      "EPOCH 46\n"
     ]
    },
    {
     "data": {
      "application/vnd.jupyter.widget-view+json": {
       "model_id": "0c2a824f30824abd804cb4f35d7b28a3",
       "version_major": 2,
       "version_minor": 0
      },
      "text/plain": [
       "  0%|          | 0/976 [00:00<?, ?it/s]"
      ]
     },
     "metadata": {},
     "output_type": "display_data"
    },
    {
     "data": {
      "application/vnd.jupyter.widget-view+json": {
       "model_id": "1599819f08254eb881540e88ff155768",
       "version_major": 2,
       "version_minor": 0
      },
      "text/plain": [
       "  0%|          | 0/50 [00:00<?, ?it/s]"
      ]
     },
     "metadata": {},
     "output_type": "display_data"
    },
    {
     "name": "stdout",
     "output_type": "stream",
     "text": [
      "L2 of 53765.953125\n",
      "TEST ERROR OF 2.60105\n",
      "Generating samples with temp of 0 topk of 5 and topp of 0.75\n"
     ]
    },
    {
     "data": {
      "application/vnd.jupyter.widget-view+json": {
       "model_id": "939ec88e49e147af824569c733990b5a",
       "version_major": 2,
       "version_minor": 0
      },
      "text/plain": [
       "  0%|          | 0/9 [00:00<?, ?it/s]"
      ]
     },
     "metadata": {},
     "output_type": "display_data"
    },
    {
     "name": "stdout",
     "output_type": "stream",
     "text": [
      "0.3544921875 ARE TRUE\n",
      "8.5830078125 AVG DIFF\n",
      "46 EPOCHS SINCE BEST LOSS OF 1.1750994539260864\n",
      "--------------------------------------\n",
      "EPOCH 47\n"
     ]
    },
    {
     "data": {
      "application/vnd.jupyter.widget-view+json": {
       "model_id": "622726e4c0d74862ad4f6b305ea9c520",
       "version_major": 2,
       "version_minor": 0
      },
      "text/plain": [
       "  0%|          | 0/976 [00:00<?, ?it/s]"
      ]
     },
     "metadata": {},
     "output_type": "display_data"
    },
    {
     "data": {
      "application/vnd.jupyter.widget-view+json": {
       "model_id": "2e3fb963c6c84c95ace5ed6ae1f6eda9",
       "version_major": 2,
       "version_minor": 0
      },
      "text/plain": [
       "  0%|          | 0/50 [00:00<?, ?it/s]"
      ]
     },
     "metadata": {},
     "output_type": "display_data"
    },
    {
     "name": "stdout",
     "output_type": "stream",
     "text": [
      "L2 of 53866.4140625\n",
      "TEST ERROR OF 2.60857\n",
      "Generating samples with temp of 0 topk of 5 and topp of 0.75\n"
     ]
    },
    {
     "data": {
      "application/vnd.jupyter.widget-view+json": {
       "model_id": "c138e3b46a954af590b5e9fdb9f0529f",
       "version_major": 2,
       "version_minor": 0
      },
      "text/plain": [
       "  0%|          | 0/9 [00:00<?, ?it/s]"
      ]
     },
     "metadata": {},
     "output_type": "display_data"
    },
    {
     "name": "stdout",
     "output_type": "stream",
     "text": [
      "0.3662109375 ARE TRUE\n",
      "7.88050930460333 AVG DIFF\n",
      "47 EPOCHS SINCE BEST LOSS OF 1.1750994539260864\n",
      "--------------------------------------\n",
      "EPOCH 48\n"
     ]
    },
    {
     "data": {
      "application/vnd.jupyter.widget-view+json": {
       "model_id": "8dadcc70c49542af8ead268d811e6207",
       "version_major": 2,
       "version_minor": 0
      },
      "text/plain": [
       "  0%|          | 0/976 [00:00<?, ?it/s]"
      ]
     },
     "metadata": {},
     "output_type": "display_data"
    },
    {
     "data": {
      "application/vnd.jupyter.widget-view+json": {
       "model_id": "c69b1046d0754046a0c91f7081edc2b1",
       "version_major": 2,
       "version_minor": 0
      },
      "text/plain": [
       "  0%|          | 0/50 [00:00<?, ?it/s]"
      ]
     },
     "metadata": {},
     "output_type": "display_data"
    },
    {
     "name": "stdout",
     "output_type": "stream",
     "text": [
      "L2 of 53708.54296875\n",
      "TEST ERROR OF 2.63113\n",
      "Generating samples with temp of 0 topk of 5 and topp of 0.75\n"
     ]
    },
    {
     "data": {
      "application/vnd.jupyter.widget-view+json": {
       "model_id": "d8f7e0aaf09445fba45f9fbf35d52d49",
       "version_major": 2,
       "version_minor": 0
      },
      "text/plain": [
       "  0%|          | 0/9 [00:00<?, ?it/s]"
      ]
     },
     "metadata": {},
     "output_type": "display_data"
    },
    {
     "name": "stdout",
     "output_type": "stream",
     "text": [
      "0.357421875 ARE TRUE\n",
      "7.490234375 AVG DIFF\n",
      "48 EPOCHS SINCE BEST LOSS OF 1.1750994539260864\n",
      "--------------------------------------\n",
      "EPOCH 49\n"
     ]
    },
    {
     "data": {
      "application/vnd.jupyter.widget-view+json": {
       "model_id": "323067a4413b47619de9f698cc80efc1",
       "version_major": 2,
       "version_minor": 0
      },
      "text/plain": [
       "  0%|          | 0/976 [00:00<?, ?it/s]"
      ]
     },
     "metadata": {},
     "output_type": "display_data"
    },
    {
     "data": {
      "application/vnd.jupyter.widget-view+json": {
       "model_id": "43f2336138ef4d7cab53c10268e79b5c",
       "version_major": 2,
       "version_minor": 0
      },
      "text/plain": [
       "  0%|          | 0/50 [00:00<?, ?it/s]"
      ]
     },
     "metadata": {},
     "output_type": "display_data"
    },
    {
     "name": "stdout",
     "output_type": "stream",
     "text": [
      "L2 of 53696.25\n",
      "TEST ERROR OF 2.65728\n",
      "Generating samples with temp of 0 topk of 5 and topp of 0.75\n"
     ]
    },
    {
     "data": {
      "application/vnd.jupyter.widget-view+json": {
       "model_id": "f7bebafe498245679d5d87ebcccbcf98",
       "version_major": 2,
       "version_minor": 0
      },
      "text/plain": [
       "  0%|          | 0/9 [00:00<?, ?it/s]"
      ]
     },
     "metadata": {},
     "output_type": "display_data"
    },
    {
     "name": "stdout",
     "output_type": "stream",
     "text": [
      "0.341796875 ARE TRUE\n",
      "7.488258317025441 AVG DIFF\n",
      "49 EPOCHS SINCE BEST LOSS OF 1.1750994539260864\n",
      "--------------------------------------\n",
      "EPOCH 50\n"
     ]
    },
    {
     "data": {
      "application/vnd.jupyter.widget-view+json": {
       "model_id": "eea11c6317f947b7a0b35e9916d1f4c4",
       "version_major": 2,
       "version_minor": 0
      },
      "text/plain": [
       "  0%|          | 0/976 [00:00<?, ?it/s]"
      ]
     },
     "metadata": {},
     "output_type": "display_data"
    },
    {
     "name": "stderr",
     "output_type": "stream",
     "text": [
      "IOPub message rate exceeded.\n",
      "The Jupyter server will temporarily stop sending output\n",
      "to the client in order to avoid crashing it.\n",
      "To change this limit, set the config variable\n",
      "`--ServerApp.iopub_msg_rate_limit`.\n",
      "\n",
      "Current values:\n",
      "ServerApp.iopub_msg_rate_limit=1000.0 (msgs/sec)\n",
      "ServerApp.rate_limit_window=3.0 (secs)\n",
      "\n"
     ]
    },
    {
     "data": {
      "application/vnd.jupyter.widget-view+json": {
       "model_id": "4acc29c43ebd4a8a800baf8eb75724db",
       "version_major": 2,
       "version_minor": 0
      },
      "text/plain": [
       "  0%|          | 0/50 [00:00<?, ?it/s]"
      ]
     },
     "metadata": {},
     "output_type": "display_data"
    },
    {
     "name": "stdout",
     "output_type": "stream",
     "text": [
      "L2 of 53357.234375\n",
      "TEST ERROR OF 2.63943\n",
      "Generating samples with temp of 0 topk of 5 and topp of 0.75\n"
     ]
    },
    {
     "data": {
      "application/vnd.jupyter.widget-view+json": {
       "model_id": "6dd769ebadae416f83a5a35ec1441d36",
       "version_major": 2,
       "version_minor": 0
      },
      "text/plain": [
       "  0%|          | 0/9 [00:00<?, ?it/s]"
      ]
     },
     "metadata": {},
     "output_type": "display_data"
    },
    {
     "name": "stdout",
     "output_type": "stream",
     "text": [
      "0.3525390625 ARE TRUE\n",
      "7.194906953966699 AVG DIFF\n",
      "50 EPOCHS SINCE BEST LOSS OF 1.1750994539260864\n",
      "--------------------------------------\n",
      "EPOCH 51\n"
     ]
    },
    {
     "data": {
      "application/vnd.jupyter.widget-view+json": {
       "model_id": "26fbfafe37be438fb6df1c867523d55a",
       "version_major": 2,
       "version_minor": 0
      },
      "text/plain": [
       "  0%|          | 0/976 [00:00<?, ?it/s]"
      ]
     },
     "metadata": {},
     "output_type": "display_data"
    },
    {
     "data": {
      "application/vnd.jupyter.widget-view+json": {
       "model_id": "fecf481ab48244e887779bc3a46d32cd",
       "version_major": 2,
       "version_minor": 0
      },
      "text/plain": [
       "  0%|          | 0/50 [00:00<?, ?it/s]"
      ]
     },
     "metadata": {},
     "output_type": "display_data"
    },
    {
     "name": "stdout",
     "output_type": "stream",
     "text": [
      "L2 of 53244.26171875\n",
      "TEST ERROR OF 2.70014\n",
      "Generating samples with temp of 0 topk of 5 and topp of 0.75\n"
     ]
    },
    {
     "data": {
      "application/vnd.jupyter.widget-view+json": {
       "model_id": "2f91774288204a8492370b02804536f5",
       "version_major": 2,
       "version_minor": 0
      },
      "text/plain": [
       "  0%|          | 0/9 [00:00<?, ?it/s]"
      ]
     },
     "metadata": {},
     "output_type": "display_data"
    },
    {
     "name": "stdout",
     "output_type": "stream",
     "text": [
      "0.36328125 ARE TRUE\n",
      "7.94140625 AVG DIFF\n",
      "51 EPOCHS SINCE BEST LOSS OF 1.1750994539260864\n",
      "--------------------------------------\n",
      "EPOCH 52\n"
     ]
    },
    {
     "data": {
      "application/vnd.jupyter.widget-view+json": {
       "model_id": "2cee4b475f274c00ae002bfdb16a8a70",
       "version_major": 2,
       "version_minor": 0
      },
      "text/plain": [
       "  0%|          | 0/976 [00:00<?, ?it/s]"
      ]
     },
     "metadata": {},
     "output_type": "display_data"
    },
    {
     "data": {
      "application/vnd.jupyter.widget-view+json": {
       "model_id": "3aa74a8eec4940d1964afdbe1850f32b",
       "version_major": 2,
       "version_minor": 0
      },
      "text/plain": [
       "  0%|          | 0/50 [00:00<?, ?it/s]"
      ]
     },
     "metadata": {},
     "output_type": "display_data"
    },
    {
     "name": "stdout",
     "output_type": "stream",
     "text": [
      "L2 of 53207.2734375\n",
      "TEST ERROR OF 2.63074\n",
      "Generating samples with temp of 0 topk of 5 and topp of 0.75\n"
     ]
    },
    {
     "data": {
      "application/vnd.jupyter.widget-view+json": {
       "model_id": "a0bfd0838b584725a515868f0f5c79cf",
       "version_major": 2,
       "version_minor": 0
      },
      "text/plain": [
       "  0%|          | 0/9 [00:00<?, ?it/s]"
      ]
     },
     "metadata": {},
     "output_type": "display_data"
    },
    {
     "name": "stdout",
     "output_type": "stream",
     "text": [
      "0.365234375 ARE TRUE\n",
      "7.906158357771261 AVG DIFF\n",
      "52 EPOCHS SINCE BEST LOSS OF 1.1750994539260864\n",
      "--------------------------------------\n",
      "EPOCH 53\n"
     ]
    },
    {
     "data": {
      "application/vnd.jupyter.widget-view+json": {
       "model_id": "8925977416f2498ea947887c4469b747",
       "version_major": 2,
       "version_minor": 0
      },
      "text/plain": [
       "  0%|          | 0/976 [00:00<?, ?it/s]"
      ]
     },
     "metadata": {},
     "output_type": "display_data"
    },
    {
     "data": {
      "application/vnd.jupyter.widget-view+json": {
       "model_id": "6867a77dc5334428b808628d3354fd36",
       "version_major": 2,
       "version_minor": 0
      },
      "text/plain": [
       "  0%|          | 0/50 [00:00<?, ?it/s]"
      ]
     },
     "metadata": {},
     "output_type": "display_data"
    },
    {
     "name": "stdout",
     "output_type": "stream",
     "text": [
      "L2 of 53028.078125\n",
      "TEST ERROR OF 2.61356\n",
      "Generating samples with temp of 0 topk of 5 and topp of 0.75\n"
     ]
    },
    {
     "data": {
      "application/vnd.jupyter.widget-view+json": {
       "model_id": "9ee73c9356ac443a9f1e51119158b391",
       "version_major": 2,
       "version_minor": 0
      },
      "text/plain": [
       "  0%|          | 0/9 [00:00<?, ?it/s]"
      ]
     },
     "metadata": {},
     "output_type": "display_data"
    },
    {
     "name": "stdout",
     "output_type": "stream",
     "text": [
      "0.36328125 ARE TRUE\n",
      "7.359882005899705 AVG DIFF\n",
      "53 EPOCHS SINCE BEST LOSS OF 1.1750994539260864\n",
      "--------------------------------------\n",
      "EPOCH 54\n"
     ]
    },
    {
     "data": {
      "application/vnd.jupyter.widget-view+json": {
       "model_id": "d786d4b8e8df45d281c00063db0a772b",
       "version_major": 2,
       "version_minor": 0
      },
      "text/plain": [
       "  0%|          | 0/976 [00:00<?, ?it/s]"
      ]
     },
     "metadata": {},
     "output_type": "display_data"
    },
    {
     "data": {
      "application/vnd.jupyter.widget-view+json": {
       "model_id": "eefd298d173247d5bd2bf12625ed0e6d",
       "version_major": 2,
       "version_minor": 0
      },
      "text/plain": [
       "  0%|          | 0/50 [00:00<?, ?it/s]"
      ]
     },
     "metadata": {},
     "output_type": "display_data"
    },
    {
     "name": "stdout",
     "output_type": "stream",
     "text": [
      "L2 of 53308.23828125\n",
      "TEST ERROR OF 2.60725\n",
      "Generating samples with temp of 0 topk of 5 and topp of 0.75\n"
     ]
    },
    {
     "data": {
      "application/vnd.jupyter.widget-view+json": {
       "model_id": "75350ecc9860428f8750161b39d34074",
       "version_major": 2,
       "version_minor": 0
      },
      "text/plain": [
       "  0%|          | 0/9 [00:00<?, ?it/s]"
      ]
     },
     "metadata": {},
     "output_type": "display_data"
    },
    {
     "name": "stdout",
     "output_type": "stream",
     "text": [
      "0.3583984375 ARE TRUE\n",
      "7.613188976377953 AVG DIFF\n",
      "54 EPOCHS SINCE BEST LOSS OF 1.1750994539260864\n",
      "--------------------------------------\n",
      "EPOCH 55\n"
     ]
    },
    {
     "data": {
      "application/vnd.jupyter.widget-view+json": {
       "model_id": "17666a12e4a34a8ea2e980add873e5a9",
       "version_major": 2,
       "version_minor": 0
      },
      "text/plain": [
       "  0%|          | 0/976 [00:00<?, ?it/s]"
      ]
     },
     "metadata": {},
     "output_type": "display_data"
    },
    {
     "data": {
      "application/vnd.jupyter.widget-view+json": {
       "model_id": "2446125b0a3349d7a34c5388d86dcb82",
       "version_major": 2,
       "version_minor": 0
      },
      "text/plain": [
       "  0%|          | 0/50 [00:00<?, ?it/s]"
      ]
     },
     "metadata": {},
     "output_type": "display_data"
    },
    {
     "name": "stdout",
     "output_type": "stream",
     "text": [
      "L2 of 52582.3203125\n",
      "TEST ERROR OF 2.67539\n",
      "Generating samples with temp of 0 topk of 5 and topp of 0.75\n"
     ]
    },
    {
     "data": {
      "application/vnd.jupyter.widget-view+json": {
       "model_id": "172a268182f148d2a38718735e743599",
       "version_major": 2,
       "version_minor": 0
      },
      "text/plain": [
       "  0%|          | 0/9 [00:00<?, ?it/s]"
      ]
     },
     "metadata": {},
     "output_type": "display_data"
    },
    {
     "name": "stdout",
     "output_type": "stream",
     "text": [
      "0.33984375 ARE TRUE\n",
      "8.68235294117647 AVG DIFF\n",
      "55 EPOCHS SINCE BEST LOSS OF 1.1750994539260864\n",
      "--------------------------------------\n",
      "EPOCH 56\n"
     ]
    },
    {
     "data": {
      "application/vnd.jupyter.widget-view+json": {
       "model_id": "2dd817bf49aa44868c4995f836b02974",
       "version_major": 2,
       "version_minor": 0
      },
      "text/plain": [
       "  0%|          | 0/976 [00:00<?, ?it/s]"
      ]
     },
     "metadata": {},
     "output_type": "display_data"
    },
    {
     "data": {
      "application/vnd.jupyter.widget-view+json": {
       "model_id": "162e0fc1c326486aa5ecd95d6d5512a0",
       "version_major": 2,
       "version_minor": 0
      },
      "text/plain": [
       "  0%|          | 0/50 [00:00<?, ?it/s]"
      ]
     },
     "metadata": {},
     "output_type": "display_data"
    },
    {
     "name": "stdout",
     "output_type": "stream",
     "text": [
      "L2 of 52449.12109375\n",
      "TEST ERROR OF 2.61918\n",
      "Generating samples with temp of 0 topk of 5 and topp of 0.75\n"
     ]
    },
    {
     "data": {
      "application/vnd.jupyter.widget-view+json": {
       "model_id": "fae4a19b73be40daacca2a083f472a79",
       "version_major": 2,
       "version_minor": 0
      },
      "text/plain": [
       "  0%|          | 0/9 [00:00<?, ?it/s]"
      ]
     },
     "metadata": {},
     "output_type": "display_data"
    },
    {
     "name": "stdout",
     "output_type": "stream",
     "text": [
      "0.3828125 ARE TRUE\n",
      "7.069471624266145 AVG DIFF\n",
      "56 EPOCHS SINCE BEST LOSS OF 1.1750994539260864\n",
      "--------------------------------------\n",
      "EPOCH 57\n"
     ]
    },
    {
     "data": {
      "application/vnd.jupyter.widget-view+json": {
       "model_id": "b42211c355ed4a58bec96047cfea6c02",
       "version_major": 2,
       "version_minor": 0
      },
      "text/plain": [
       "  0%|          | 0/976 [00:00<?, ?it/s]"
      ]
     },
     "metadata": {},
     "output_type": "display_data"
    },
    {
     "data": {
      "application/vnd.jupyter.widget-view+json": {
       "model_id": "abd39dcd5aee48608e9d97f5084aafff",
       "version_major": 2,
       "version_minor": 0
      },
      "text/plain": [
       "  0%|          | 0/50 [00:00<?, ?it/s]"
      ]
     },
     "metadata": {},
     "output_type": "display_data"
    },
    {
     "name": "stdout",
     "output_type": "stream",
     "text": [
      "L2 of 51905.3828125\n",
      "TEST ERROR OF 2.6291\n",
      "Generating samples with temp of 0 topk of 5 and topp of 0.75\n"
     ]
    },
    {
     "data": {
      "application/vnd.jupyter.widget-view+json": {
       "model_id": "64b0b7dcea004693b60e8873d9405719",
       "version_major": 2,
       "version_minor": 0
      },
      "text/plain": [
       "  0%|          | 0/9 [00:00<?, ?it/s]"
      ]
     },
     "metadata": {},
     "output_type": "display_data"
    },
    {
     "name": "stdout",
     "output_type": "stream",
     "text": [
      "0.3505859375 ARE TRUE\n",
      "7.955034213098729 AVG DIFF\n",
      "57 EPOCHS SINCE BEST LOSS OF 1.1750994539260864\n",
      "--------------------------------------\n",
      "EPOCH 58\n"
     ]
    },
    {
     "data": {
      "application/vnd.jupyter.widget-view+json": {
       "model_id": "3fb8ecf959cf46908f4a11f86ea5e9e8",
       "version_major": 2,
       "version_minor": 0
      },
      "text/plain": [
       "  0%|          | 0/976 [00:00<?, ?it/s]"
      ]
     },
     "metadata": {},
     "output_type": "display_data"
    },
    {
     "data": {
      "application/vnd.jupyter.widget-view+json": {
       "model_id": "43f84db75eca4e5eb1c77cdd20a37fd6",
       "version_major": 2,
       "version_minor": 0
      },
      "text/plain": [
       "  0%|          | 0/50 [00:00<?, ?it/s]"
      ]
     },
     "metadata": {},
     "output_type": "display_data"
    },
    {
     "name": "stdout",
     "output_type": "stream",
     "text": [
      "L2 of 52036.171875\n",
      "TEST ERROR OF 2.54254\n",
      "Generating samples with temp of 0 topk of 5 and topp of 0.75\n"
     ]
    },
    {
     "data": {
      "application/vnd.jupyter.widget-view+json": {
       "model_id": "c3c84e8ecdc24cba9a4ebfdc0959cfbd",
       "version_major": 2,
       "version_minor": 0
      },
      "text/plain": [
       "  0%|          | 0/9 [00:00<?, ?it/s]"
      ]
     },
     "metadata": {},
     "output_type": "display_data"
    },
    {
     "name": "stdout",
     "output_type": "stream",
     "text": [
      "0.3857421875 ARE TRUE\n",
      "6.8916015625 AVG DIFF\n",
      "58 EPOCHS SINCE BEST LOSS OF 1.1750994539260864\n",
      "--------------------------------------\n",
      "EPOCH 59\n"
     ]
    },
    {
     "data": {
      "application/vnd.jupyter.widget-view+json": {
       "model_id": "33f8efb1f23c447da64f8cae21eb3c2c",
       "version_major": 2,
       "version_minor": 0
      },
      "text/plain": [
       "  0%|          | 0/976 [00:00<?, ?it/s]"
      ]
     },
     "metadata": {},
     "output_type": "display_data"
    },
    {
     "data": {
      "application/vnd.jupyter.widget-view+json": {
       "model_id": "33ab176dcb6048fda5ec3fd3fa4b6af3",
       "version_major": 2,
       "version_minor": 0
      },
      "text/plain": [
       "  0%|          | 0/50 [00:00<?, ?it/s]"
      ]
     },
     "metadata": {},
     "output_type": "display_data"
    },
    {
     "name": "stdout",
     "output_type": "stream",
     "text": [
      "L2 of 51791.3046875\n",
      "TEST ERROR OF 2.65275\n",
      "Generating samples with temp of 0 topk of 5 and topp of 0.75\n"
     ]
    },
    {
     "data": {
      "application/vnd.jupyter.widget-view+json": {
       "model_id": "3de4f53bcce94839bbf951bcd2ee65a4",
       "version_major": 2,
       "version_minor": 0
      },
      "text/plain": [
       "  0%|          | 0/9 [00:00<?, ?it/s]"
      ]
     },
     "metadata": {},
     "output_type": "display_data"
    },
    {
     "name": "stdout",
     "output_type": "stream",
     "text": [
      "0.388671875 ARE TRUE\n",
      "7.973607038123167 AVG DIFF\n",
      "59 EPOCHS SINCE BEST LOSS OF 1.1750994539260864\n",
      "--------------------------------------\n",
      "EPOCH 60\n"
     ]
    },
    {
     "data": {
      "application/vnd.jupyter.widget-view+json": {
       "model_id": "c4bbe4f4861342228881f2c93d2b90f1",
       "version_major": 2,
       "version_minor": 0
      },
      "text/plain": [
       "  0%|          | 0/976 [00:00<?, ?it/s]"
      ]
     },
     "metadata": {},
     "output_type": "display_data"
    },
    {
     "data": {
      "application/vnd.jupyter.widget-view+json": {
       "model_id": "05542c1862cf4b6db4448462624482a2",
       "version_major": 2,
       "version_minor": 0
      },
      "text/plain": [
       "  0%|          | 0/50 [00:00<?, ?it/s]"
      ]
     },
     "metadata": {},
     "output_type": "display_data"
    },
    {
     "name": "stdout",
     "output_type": "stream",
     "text": [
      "L2 of 51941.35546875\n",
      "TEST ERROR OF 2.566\n",
      "Generating samples with temp of 0 topk of 5 and topp of 0.75\n"
     ]
    },
    {
     "data": {
      "application/vnd.jupyter.widget-view+json": {
       "model_id": "6570026301ef4e2a9f50a49a11625393",
       "version_major": 2,
       "version_minor": 0
      },
      "text/plain": [
       "  0%|          | 0/9 [00:00<?, ?it/s]"
      ]
     },
     "metadata": {},
     "output_type": "display_data"
    },
    {
     "name": "stdout",
     "output_type": "stream",
     "text": [
      "0.390625 ARE TRUE\n",
      "7.5019607843137255 AVG DIFF\n",
      "60 EPOCHS SINCE BEST LOSS OF 1.1750994539260864\n",
      "--------------------------------------\n",
      "EPOCH 61\n"
     ]
    },
    {
     "data": {
      "application/vnd.jupyter.widget-view+json": {
       "model_id": "c37d5a0c723b449698e9638021c8b718",
       "version_major": 2,
       "version_minor": 0
      },
      "text/plain": [
       "  0%|          | 0/976 [00:00<?, ?it/s]"
      ]
     },
     "metadata": {},
     "output_type": "display_data"
    },
    {
     "data": {
      "application/vnd.jupyter.widget-view+json": {
       "model_id": "a3113337000d4adf9e154df9d49e44c3",
       "version_major": 2,
       "version_minor": 0
      },
      "text/plain": [
       "  0%|          | 0/50 [00:00<?, ?it/s]"
      ]
     },
     "metadata": {},
     "output_type": "display_data"
    },
    {
     "name": "stdout",
     "output_type": "stream",
     "text": [
      "L2 of 51778.91015625\n",
      "TEST ERROR OF 2.62846\n",
      "Generating samples with temp of 0 topk of 5 and topp of 0.75\n"
     ]
    },
    {
     "data": {
      "application/vnd.jupyter.widget-view+json": {
       "model_id": "587963a1341c4cafa0582ae8b22f9762",
       "version_major": 2,
       "version_minor": 0
      },
      "text/plain": [
       "  0%|          | 0/9 [00:00<?, ?it/s]"
      ]
     },
     "metadata": {},
     "output_type": "display_data"
    },
    {
     "name": "stdout",
     "output_type": "stream",
     "text": [
      "0.37890625 ARE TRUE\n",
      "7.2900390625 AVG DIFF\n",
      "61 EPOCHS SINCE BEST LOSS OF 1.1750994539260864\n",
      "--------------------------------------\n",
      "EPOCH 62\n"
     ]
    },
    {
     "data": {
      "application/vnd.jupyter.widget-view+json": {
       "model_id": "112893b1c1ce46b8bfd7c3a66162acad",
       "version_major": 2,
       "version_minor": 0
      },
      "text/plain": [
       "  0%|          | 0/976 [00:00<?, ?it/s]"
      ]
     },
     "metadata": {},
     "output_type": "display_data"
    },
    {
     "data": {
      "application/vnd.jupyter.widget-view+json": {
       "model_id": "d83d7b4ad916437287cb1ee8414baa89",
       "version_major": 2,
       "version_minor": 0
      },
      "text/plain": [
       "  0%|          | 0/50 [00:00<?, ?it/s]"
      ]
     },
     "metadata": {},
     "output_type": "display_data"
    },
    {
     "name": "stdout",
     "output_type": "stream",
     "text": [
      "L2 of 51968.71875\n",
      "TEST ERROR OF 2.61763\n",
      "Generating samples with temp of 0 topk of 5 and topp of 0.75\n"
     ]
    },
    {
     "data": {
      "application/vnd.jupyter.widget-view+json": {
       "model_id": "fca59f8d2c864b3bad667d2e6e22cc5a",
       "version_major": 2,
       "version_minor": 0
      },
      "text/plain": [
       "  0%|          | 0/9 [00:00<?, ?it/s]"
      ]
     },
     "metadata": {},
     "output_type": "display_data"
    },
    {
     "name": "stdout",
     "output_type": "stream",
     "text": [
      "0.388671875 ARE TRUE\n",
      "8.493150684931507 AVG DIFF\n",
      "62 EPOCHS SINCE BEST LOSS OF 1.1750994539260864\n",
      "--------------------------------------\n",
      "EPOCH 63\n"
     ]
    },
    {
     "data": {
      "application/vnd.jupyter.widget-view+json": {
       "model_id": "9a35410ccf854a619d00d26baa49fb4f",
       "version_major": 2,
       "version_minor": 0
      },
      "text/plain": [
       "  0%|          | 0/976 [00:00<?, ?it/s]"
      ]
     },
     "metadata": {},
     "output_type": "display_data"
    },
    {
     "data": {
      "application/vnd.jupyter.widget-view+json": {
       "model_id": "58e1f72b3a454b82882c20baaab1e856",
       "version_major": 2,
       "version_minor": 0
      },
      "text/plain": [
       "  0%|          | 0/50 [00:00<?, ?it/s]"
      ]
     },
     "metadata": {},
     "output_type": "display_data"
    },
    {
     "name": "stdout",
     "output_type": "stream",
     "text": [
      "L2 of 51852.9140625\n",
      "TEST ERROR OF 2.58333\n",
      "Generating samples with temp of 0 topk of 5 and topp of 0.75\n"
     ]
    },
    {
     "data": {
      "application/vnd.jupyter.widget-view+json": {
       "model_id": "be388b06dfaa4cd3868ac1692a14e844",
       "version_major": 2,
       "version_minor": 0
      },
      "text/plain": [
       "  0%|          | 0/9 [00:00<?, ?it/s]"
      ]
     },
     "metadata": {},
     "output_type": "display_data"
    },
    {
     "name": "stdout",
     "output_type": "stream",
     "text": [
      "0.375 ARE TRUE\n",
      "7.566797642436149 AVG DIFF\n",
      "63 EPOCHS SINCE BEST LOSS OF 1.1750994539260864\n",
      "--------------------------------------\n",
      "EPOCH 64\n"
     ]
    },
    {
     "data": {
      "application/vnd.jupyter.widget-view+json": {
       "model_id": "a9fe90a3fde343319c296024b1391439",
       "version_major": 2,
       "version_minor": 0
      },
      "text/plain": [
       "  0%|          | 0/976 [00:00<?, ?it/s]"
      ]
     },
     "metadata": {},
     "output_type": "display_data"
    },
    {
     "data": {
      "application/vnd.jupyter.widget-view+json": {
       "model_id": "bfd7d7c04829453892cb77a6e5e5db60",
       "version_major": 2,
       "version_minor": 0
      },
      "text/plain": [
       "  0%|          | 0/50 [00:00<?, ?it/s]"
      ]
     },
     "metadata": {},
     "output_type": "display_data"
    },
    {
     "name": "stdout",
     "output_type": "stream",
     "text": [
      "L2 of 51869.6171875\n",
      "TEST ERROR OF 2.61829\n",
      "Generating samples with temp of 0 topk of 5 and topp of 0.75\n"
     ]
    },
    {
     "data": {
      "application/vnd.jupyter.widget-view+json": {
       "model_id": "11a88bab7d894ce8b1c82dea37db45d4",
       "version_major": 2,
       "version_minor": 0
      },
      "text/plain": [
       "  0%|          | 0/9 [00:00<?, ?it/s]"
      ]
     },
     "metadata": {},
     "output_type": "display_data"
    },
    {
     "name": "stdout",
     "output_type": "stream",
     "text": [
      "0.3779296875 ARE TRUE\n",
      "8.69208211143695 AVG DIFF\n",
      "64 EPOCHS SINCE BEST LOSS OF 1.1750994539260864\n",
      "--------------------------------------\n",
      "EPOCH 65\n"
     ]
    },
    {
     "data": {
      "application/vnd.jupyter.widget-view+json": {
       "model_id": "f3c75917807442ceaa98cd59420a8c53",
       "version_major": 2,
       "version_minor": 0
      },
      "text/plain": [
       "  0%|          | 0/976 [00:00<?, ?it/s]"
      ]
     },
     "metadata": {},
     "output_type": "display_data"
    },
    {
     "data": {
      "application/vnd.jupyter.widget-view+json": {
       "model_id": "003999063097495e824301e81e292b1c",
       "version_major": 2,
       "version_minor": 0
      },
      "text/plain": [
       "  0%|          | 0/50 [00:00<?, ?it/s]"
      ]
     },
     "metadata": {},
     "output_type": "display_data"
    },
    {
     "name": "stdout",
     "output_type": "stream",
     "text": [
      "L2 of 51866.46484375\n",
      "TEST ERROR OF 2.54701\n",
      "Generating samples with temp of 0 topk of 5 and topp of 0.75\n"
     ]
    },
    {
     "data": {
      "application/vnd.jupyter.widget-view+json": {
       "model_id": "b6dd3dc2a8f3435388f0f36ff60d1bb4",
       "version_major": 2,
       "version_minor": 0
      },
      "text/plain": [
       "  0%|          | 0/9 [00:00<?, ?it/s]"
      ]
     },
     "metadata": {},
     "output_type": "display_data"
    },
    {
     "name": "stdout",
     "output_type": "stream",
     "text": [
      "0.3798828125 ARE TRUE\n",
      "7.62133072407045 AVG DIFF\n",
      "65 EPOCHS SINCE BEST LOSS OF 1.1750994539260864\n",
      "--------------------------------------\n",
      "EPOCH 66\n"
     ]
    },
    {
     "data": {
      "application/vnd.jupyter.widget-view+json": {
       "model_id": "69f0242b534d4034925bac9d17231767",
       "version_major": 2,
       "version_minor": 0
      },
      "text/plain": [
       "  0%|          | 0/976 [00:00<?, ?it/s]"
      ]
     },
     "metadata": {},
     "output_type": "display_data"
    },
    {
     "data": {
      "application/vnd.jupyter.widget-view+json": {
       "model_id": "9fc25e8edc8d4bd897f889c69dea62ea",
       "version_major": 2,
       "version_minor": 0
      },
      "text/plain": [
       "  0%|          | 0/50 [00:00<?, ?it/s]"
      ]
     },
     "metadata": {},
     "output_type": "display_data"
    },
    {
     "name": "stdout",
     "output_type": "stream",
     "text": [
      "L2 of 52114.94140625\n",
      "TEST ERROR OF 2.67024\n",
      "Generating samples with temp of 0 topk of 5 and topp of 0.75\n"
     ]
    },
    {
     "data": {
      "application/vnd.jupyter.widget-view+json": {
       "model_id": "2f607e29d1884ef08e7e7ce73b7f452e",
       "version_major": 2,
       "version_minor": 0
      },
      "text/plain": [
       "  0%|          | 0/9 [00:00<?, ?it/s]"
      ]
     },
     "metadata": {},
     "output_type": "display_data"
    },
    {
     "name": "stdout",
     "output_type": "stream",
     "text": [
      "0.3662109375 ARE TRUE\n",
      "7.621939275220372 AVG DIFF\n",
      "66 EPOCHS SINCE BEST LOSS OF 1.1750994539260864\n",
      "--------------------------------------\n",
      "EPOCH 67\n"
     ]
    },
    {
     "data": {
      "application/vnd.jupyter.widget-view+json": {
       "model_id": "0a3552ebcd4f45dcbdc6c96a84ee9a87",
       "version_major": 2,
       "version_minor": 0
      },
      "text/plain": [
       "  0%|          | 0/976 [00:00<?, ?it/s]"
      ]
     },
     "metadata": {},
     "output_type": "display_data"
    },
    {
     "data": {
      "application/vnd.jupyter.widget-view+json": {
       "model_id": "6761a161b64744d989b549b0c7ead3e4",
       "version_major": 2,
       "version_minor": 0
      },
      "text/plain": [
       "  0%|          | 0/50 [00:00<?, ?it/s]"
      ]
     },
     "metadata": {},
     "output_type": "display_data"
    },
    {
     "name": "stdout",
     "output_type": "stream",
     "text": [
      "L2 of 52112.6171875\n",
      "TEST ERROR OF 2.58575\n",
      "Generating samples with temp of 0 topk of 5 and topp of 0.75\n"
     ]
    },
    {
     "data": {
      "application/vnd.jupyter.widget-view+json": {
       "model_id": "d64d3119963d4d9db28e87ebb843dd64",
       "version_major": 2,
       "version_minor": 0
      },
      "text/plain": [
       "  0%|          | 0/9 [00:00<?, ?it/s]"
      ]
     },
     "metadata": {},
     "output_type": "display_data"
    },
    {
     "name": "stdout",
     "output_type": "stream",
     "text": [
      "0.390625 ARE TRUE\n",
      "8.933398628795299 AVG DIFF\n",
      "67 EPOCHS SINCE BEST LOSS OF 1.1750994539260864\n",
      "--------------------------------------\n",
      "EPOCH 68\n"
     ]
    },
    {
     "data": {
      "application/vnd.jupyter.widget-view+json": {
       "model_id": "5d311f79b7504b62bff95feafc82dd95",
       "version_major": 2,
       "version_minor": 0
      },
      "text/plain": [
       "  0%|          | 0/976 [00:00<?, ?it/s]"
      ]
     },
     "metadata": {},
     "output_type": "display_data"
    },
    {
     "data": {
      "application/vnd.jupyter.widget-view+json": {
       "model_id": "db7b1b08b24b4441895221831dff2165",
       "version_major": 2,
       "version_minor": 0
      },
      "text/plain": [
       "  0%|          | 0/50 [00:00<?, ?it/s]"
      ]
     },
     "metadata": {},
     "output_type": "display_data"
    },
    {
     "name": "stdout",
     "output_type": "stream",
     "text": [
      "L2 of 52208.00390625\n",
      "TEST ERROR OF 2.57938\n",
      "Generating samples with temp of 0 topk of 5 and topp of 0.75\n"
     ]
    },
    {
     "data": {
      "application/vnd.jupyter.widget-view+json": {
       "model_id": "b5c7a6d31fc64e37bd01da4312210b99",
       "version_major": 2,
       "version_minor": 0
      },
      "text/plain": [
       "  0%|          | 0/9 [00:00<?, ?it/s]"
      ]
     },
     "metadata": {},
     "output_type": "display_data"
    },
    {
     "name": "stdout",
     "output_type": "stream",
     "text": [
      "0.3818359375 ARE TRUE\n",
      "7.989236790606654 AVG DIFF\n",
      "68 EPOCHS SINCE BEST LOSS OF 1.1750994539260864\n",
      "--------------------------------------\n",
      "EPOCH 69\n"
     ]
    },
    {
     "data": {
      "application/vnd.jupyter.widget-view+json": {
       "model_id": "a8bad13ce230439987f194773b95d874",
       "version_major": 2,
       "version_minor": 0
      },
      "text/plain": [
       "  0%|          | 0/976 [00:00<?, ?it/s]"
      ]
     },
     "metadata": {},
     "output_type": "display_data"
    },
    {
     "data": {
      "application/vnd.jupyter.widget-view+json": {
       "model_id": "019a832c930b48608c3a6683c4724eba",
       "version_major": 2,
       "version_minor": 0
      },
      "text/plain": [
       "  0%|          | 0/50 [00:00<?, ?it/s]"
      ]
     },
     "metadata": {},
     "output_type": "display_data"
    },
    {
     "name": "stdout",
     "output_type": "stream",
     "text": [
      "L2 of 51819.1953125\n",
      "TEST ERROR OF 2.64147\n",
      "Generating samples with temp of 0 topk of 5 and topp of 0.75\n"
     ]
    },
    {
     "data": {
      "application/vnd.jupyter.widget-view+json": {
       "model_id": "a1ef44e6ea004be98f8b171d0d203ae5",
       "version_major": 2,
       "version_minor": 0
      },
      "text/plain": [
       "  0%|          | 0/9 [00:00<?, ?it/s]"
      ]
     },
     "metadata": {},
     "output_type": "display_data"
    },
    {
     "name": "stdout",
     "output_type": "stream",
     "text": [
      "0.369140625 ARE TRUE\n",
      "9.022504892367905 AVG DIFF\n",
      "69 EPOCHS SINCE BEST LOSS OF 1.1750994539260864\n",
      "--------------------------------------\n",
      "EPOCH 70\n"
     ]
    },
    {
     "data": {
      "application/vnd.jupyter.widget-view+json": {
       "model_id": "bcfae2aa935b418ea1b10b24e9bd4c62",
       "version_major": 2,
       "version_minor": 0
      },
      "text/plain": [
       "  0%|          | 0/976 [00:00<?, ?it/s]"
      ]
     },
     "metadata": {},
     "output_type": "display_data"
    },
    {
     "data": {
      "application/vnd.jupyter.widget-view+json": {
       "model_id": "199a0c50f49e4957a395958a5e28d9f6",
       "version_major": 2,
       "version_minor": 0
      },
      "text/plain": [
       "  0%|          | 0/50 [00:00<?, ?it/s]"
      ]
     },
     "metadata": {},
     "output_type": "display_data"
    },
    {
     "name": "stdout",
     "output_type": "stream",
     "text": [
      "L2 of 51969.9296875\n",
      "TEST ERROR OF 2.59403\n",
      "Generating samples with temp of 0 topk of 5 and topp of 0.75\n"
     ]
    },
    {
     "data": {
      "application/vnd.jupyter.widget-view+json": {
       "model_id": "e48afe198e7445e39b5c30de690367e6",
       "version_major": 2,
       "version_minor": 0
      },
      "text/plain": [
       "  0%|          | 0/9 [00:00<?, ?it/s]"
      ]
     },
     "metadata": {},
     "output_type": "display_data"
    },
    {
     "name": "stdout",
     "output_type": "stream",
     "text": [
      "0.3759765625 ARE TRUE\n",
      "17.518084066471165 AVG DIFF\n",
      "70 EPOCHS SINCE BEST LOSS OF 1.1750994539260864\n",
      "--------------------------------------\n",
      "EPOCH 71\n"
     ]
    },
    {
     "data": {
      "application/vnd.jupyter.widget-view+json": {
       "model_id": "8c885f18c4b64f7787c5f65d1dfc2def",
       "version_major": 2,
       "version_minor": 0
      },
      "text/plain": [
       "  0%|          | 0/976 [00:00<?, ?it/s]"
      ]
     },
     "metadata": {},
     "output_type": "display_data"
    },
    {
     "data": {
      "application/vnd.jupyter.widget-view+json": {
       "model_id": "5bdcdb37da1f4d5991c13073974127d3",
       "version_major": 2,
       "version_minor": 0
      },
      "text/plain": [
       "  0%|          | 0/50 [00:00<?, ?it/s]"
      ]
     },
     "metadata": {},
     "output_type": "display_data"
    },
    {
     "name": "stdout",
     "output_type": "stream",
     "text": [
      "L2 of 51794.5625\n",
      "TEST ERROR OF 2.62842\n",
      "Generating samples with temp of 0 topk of 5 and topp of 0.75\n"
     ]
    },
    {
     "data": {
      "application/vnd.jupyter.widget-view+json": {
       "model_id": "ff94c68f28c440cfa1781fda6f70182d",
       "version_major": 2,
       "version_minor": 0
      },
      "text/plain": [
       "  0%|          | 0/9 [00:00<?, ?it/s]"
      ]
     },
     "metadata": {},
     "output_type": "display_data"
    },
    {
     "name": "stdout",
     "output_type": "stream",
     "text": [
      "0.37890625 ARE TRUE\n",
      "7.312805474095796 AVG DIFF\n",
      "71 EPOCHS SINCE BEST LOSS OF 1.1750994539260864\n",
      "--------------------------------------\n",
      "EPOCH 72\n"
     ]
    },
    {
     "data": {
      "application/vnd.jupyter.widget-view+json": {
       "model_id": "b1b3f98f2f6b425caa68b36273319182",
       "version_major": 2,
       "version_minor": 0
      },
      "text/plain": [
       "  0%|          | 0/976 [00:00<?, ?it/s]"
      ]
     },
     "metadata": {},
     "output_type": "display_data"
    },
    {
     "data": {
      "application/vnd.jupyter.widget-view+json": {
       "model_id": "b4d658b3450345839708a662e603f5ec",
       "version_major": 2,
       "version_minor": 0
      },
      "text/plain": [
       "  0%|          | 0/50 [00:00<?, ?it/s]"
      ]
     },
     "metadata": {},
     "output_type": "display_data"
    },
    {
     "name": "stdout",
     "output_type": "stream",
     "text": [
      "L2 of 51654.15234375\n",
      "TEST ERROR OF 2.6867\n",
      "Generating samples with temp of 0 topk of 5 and topp of 0.75\n"
     ]
    },
    {
     "data": {
      "application/vnd.jupyter.widget-view+json": {
       "model_id": "222ca239de4d419d8c3018e5bb4e696f",
       "version_major": 2,
       "version_minor": 0
      },
      "text/plain": [
       "  0%|          | 0/9 [00:00<?, ?it/s]"
      ]
     },
     "metadata": {},
     "output_type": "display_data"
    },
    {
     "name": "stdout",
     "output_type": "stream",
     "text": [
      "0.3837890625 ARE TRUE\n",
      "7.453294001966569 AVG DIFF\n",
      "72 EPOCHS SINCE BEST LOSS OF 1.1750994539260864\n",
      "--------------------------------------\n",
      "EPOCH 73\n"
     ]
    },
    {
     "data": {
      "application/vnd.jupyter.widget-view+json": {
       "model_id": "def45ca9f4f546df9ed0f0e5d26c5129",
       "version_major": 2,
       "version_minor": 0
      },
      "text/plain": [
       "  0%|          | 0/976 [00:00<?, ?it/s]"
      ]
     },
     "metadata": {},
     "output_type": "display_data"
    },
    {
     "data": {
      "application/vnd.jupyter.widget-view+json": {
       "model_id": "6eafad4859e64de28131cd33fc11fbaa",
       "version_major": 2,
       "version_minor": 0
      },
      "text/plain": [
       "  0%|          | 0/50 [00:00<?, ?it/s]"
      ]
     },
     "metadata": {},
     "output_type": "display_data"
    },
    {
     "name": "stdout",
     "output_type": "stream",
     "text": [
      "L2 of 51668.11328125\n",
      "TEST ERROR OF 2.59132\n",
      "Generating samples with temp of 0 topk of 5 and topp of 0.75\n"
     ]
    },
    {
     "data": {
      "application/vnd.jupyter.widget-view+json": {
       "model_id": "5302fe801c0b437a8eef3436e910f5ac",
       "version_major": 2,
       "version_minor": 0
      },
      "text/plain": [
       "  0%|          | 0/9 [00:00<?, ?it/s]"
      ]
     },
     "metadata": {},
     "output_type": "display_data"
    },
    {
     "name": "stdout",
     "output_type": "stream",
     "text": [
      "0.40625 ARE TRUE\n",
      "7.162109375 AVG DIFF\n",
      "73 EPOCHS SINCE BEST LOSS OF 1.1750994539260864\n",
      "--------------------------------------\n",
      "EPOCH 74\n"
     ]
    },
    {
     "data": {
      "application/vnd.jupyter.widget-view+json": {
       "model_id": "484844b7558b44cf82c91ff7954252b0",
       "version_major": 2,
       "version_minor": 0
      },
      "text/plain": [
       "  0%|          | 0/976 [00:00<?, ?it/s]"
      ]
     },
     "metadata": {},
     "output_type": "display_data"
    },
    {
     "data": {
      "application/vnd.jupyter.widget-view+json": {
       "model_id": "593aaf7489254e9a90192dd60f54bf1b",
       "version_major": 2,
       "version_minor": 0
      },
      "text/plain": [
       "  0%|          | 0/50 [00:00<?, ?it/s]"
      ]
     },
     "metadata": {},
     "output_type": "display_data"
    },
    {
     "name": "stdout",
     "output_type": "stream",
     "text": [
      "L2 of 51922.390625\n",
      "TEST ERROR OF 2.56863\n",
      "Generating samples with temp of 0 topk of 5 and topp of 0.75\n"
     ]
    },
    {
     "data": {
      "application/vnd.jupyter.widget-view+json": {
       "model_id": "3ad60277a71a4f049748d81143d88e3a",
       "version_major": 2,
       "version_minor": 0
      },
      "text/plain": [
       "  0%|          | 0/9 [00:00<?, ?it/s]"
      ]
     },
     "metadata": {},
     "output_type": "display_data"
    },
    {
     "name": "stdout",
     "output_type": "stream",
     "text": [
      "0.3837890625 ARE TRUE\n",
      "8.901077375122428 AVG DIFF\n",
      "74 EPOCHS SINCE BEST LOSS OF 1.1750994539260864\n",
      "--------------------------------------\n",
      "EPOCH 75\n"
     ]
    },
    {
     "data": {
      "application/vnd.jupyter.widget-view+json": {
       "model_id": "c9eb2df0343a481882e8a6e8ce0bc49f",
       "version_major": 2,
       "version_minor": 0
      },
      "text/plain": [
       "  0%|          | 0/976 [00:00<?, ?it/s]"
      ]
     },
     "metadata": {},
     "output_type": "display_data"
    },
    {
     "data": {
      "application/vnd.jupyter.widget-view+json": {
       "model_id": "57937b2f9041495893ce64e5aec6901b",
       "version_major": 2,
       "version_minor": 0
      },
      "text/plain": [
       "  0%|          | 0/50 [00:00<?, ?it/s]"
      ]
     },
     "metadata": {},
     "output_type": "display_data"
    },
    {
     "name": "stdout",
     "output_type": "stream",
     "text": [
      "L2 of 51545.01953125\n",
      "TEST ERROR OF 2.63706\n",
      "Generating samples with temp of 0 topk of 5 and topp of 0.75\n"
     ]
    },
    {
     "data": {
      "application/vnd.jupyter.widget-view+json": {
       "model_id": "594fd8f4f92a4b959fe52ee4629d8950",
       "version_major": 2,
       "version_minor": 0
      },
      "text/plain": [
       "  0%|          | 0/9 [00:00<?, ?it/s]"
      ]
     },
     "metadata": {},
     "output_type": "display_data"
    },
    {
     "name": "stdout",
     "output_type": "stream",
     "text": [
      "0.380859375 ARE TRUE\n",
      "8.332679097154072 AVG DIFF\n",
      "75 EPOCHS SINCE BEST LOSS OF 1.1750994539260864\n",
      "--------------------------------------\n",
      "EPOCH 76\n"
     ]
    },
    {
     "data": {
      "application/vnd.jupyter.widget-view+json": {
       "model_id": "a7d4bc2bcea342b79fb5ef61ce17c7ee",
       "version_major": 2,
       "version_minor": 0
      },
      "text/plain": [
       "  0%|          | 0/976 [00:00<?, ?it/s]"
      ]
     },
     "metadata": {},
     "output_type": "display_data"
    },
    {
     "data": {
      "application/vnd.jupyter.widget-view+json": {
       "model_id": "6d84c8139a604be2986b8c9e3f0b496d",
       "version_major": 2,
       "version_minor": 0
      },
      "text/plain": [
       "  0%|          | 0/50 [00:00<?, ?it/s]"
      ]
     },
     "metadata": {},
     "output_type": "display_data"
    },
    {
     "name": "stdout",
     "output_type": "stream",
     "text": [
      "L2 of 51640.07421875\n",
      "TEST ERROR OF 2.71967\n",
      "Generating samples with temp of 0 topk of 5 and topp of 0.75\n"
     ]
    },
    {
     "data": {
      "application/vnd.jupyter.widget-view+json": {
       "model_id": "b2041529b31d4eb58efe32fa98cccfb5",
       "version_major": 2,
       "version_minor": 0
      },
      "text/plain": [
       "  0%|          | 0/9 [00:00<?, ?it/s]"
      ]
     },
     "metadata": {},
     "output_type": "display_data"
    },
    {
     "name": "stdout",
     "output_type": "stream",
     "text": [
      "0.3916015625 ARE TRUE\n",
      "8.510263929618768 AVG DIFF\n",
      "76 EPOCHS SINCE BEST LOSS OF 1.1750994539260864\n",
      "--------------------------------------\n",
      "EPOCH 77\n"
     ]
    },
    {
     "data": {
      "application/vnd.jupyter.widget-view+json": {
       "model_id": "aeb0c94fa5514291bd7624b1b640ef4c",
       "version_major": 2,
       "version_minor": 0
      },
      "text/plain": [
       "  0%|          | 0/976 [00:00<?, ?it/s]"
      ]
     },
     "metadata": {},
     "output_type": "display_data"
    },
    {
     "data": {
      "application/vnd.jupyter.widget-view+json": {
       "model_id": "222242b29e57473e9c776b7d6ca8fcdb",
       "version_major": 2,
       "version_minor": 0
      },
      "text/plain": [
       "  0%|          | 0/50 [00:00<?, ?it/s]"
      ]
     },
     "metadata": {},
     "output_type": "display_data"
    },
    {
     "name": "stdout",
     "output_type": "stream",
     "text": [
      "L2 of 51633.40234375\n",
      "TEST ERROR OF 2.55484\n",
      "Generating samples with temp of 0 topk of 5 and topp of 0.75\n"
     ]
    },
    {
     "data": {
      "application/vnd.jupyter.widget-view+json": {
       "model_id": "4272e11d5fe14d99a822646aa8360344",
       "version_major": 2,
       "version_minor": 0
      },
      "text/plain": [
       "  0%|          | 0/9 [00:00<?, ?it/s]"
      ]
     },
     "metadata": {},
     "output_type": "display_data"
    },
    {
     "name": "stdout",
     "output_type": "stream",
     "text": [
      "0.37890625 ARE TRUE\n",
      "7.901174168297456 AVG DIFF\n",
      "77 EPOCHS SINCE BEST LOSS OF 1.1750994539260864\n",
      "--------------------------------------\n",
      "EPOCH 78\n"
     ]
    },
    {
     "data": {
      "application/vnd.jupyter.widget-view+json": {
       "model_id": "68371f6a46a3487dad4ec87114220bbb",
       "version_major": 2,
       "version_minor": 0
      },
      "text/plain": [
       "  0%|          | 0/976 [00:00<?, ?it/s]"
      ]
     },
     "metadata": {},
     "output_type": "display_data"
    },
    {
     "data": {
      "application/vnd.jupyter.widget-view+json": {
       "model_id": "b64b854cc8b34f658e475cca46f2799b",
       "version_major": 2,
       "version_minor": 0
      },
      "text/plain": [
       "  0%|          | 0/50 [00:00<?, ?it/s]"
      ]
     },
     "metadata": {},
     "output_type": "display_data"
    },
    {
     "name": "stdout",
     "output_type": "stream",
     "text": [
      "L2 of 51744.53125\n",
      "TEST ERROR OF 2.56251\n",
      "Generating samples with temp of 0 topk of 5 and topp of 0.75\n"
     ]
    },
    {
     "data": {
      "application/vnd.jupyter.widget-view+json": {
       "model_id": "91eb0b280f0440e1859c647b8a6a9d77",
       "version_major": 2,
       "version_minor": 0
      },
      "text/plain": [
       "  0%|          | 0/9 [00:00<?, ?it/s]"
      ]
     },
     "metadata": {},
     "output_type": "display_data"
    },
    {
     "name": "stdout",
     "output_type": "stream",
     "text": [
      "0.392578125 ARE TRUE\n",
      "7.829912023460411 AVG DIFF\n",
      "78 EPOCHS SINCE BEST LOSS OF 1.1750994539260864\n",
      "--------------------------------------\n",
      "EPOCH 79\n"
     ]
    },
    {
     "data": {
      "application/vnd.jupyter.widget-view+json": {
       "model_id": "3139f2b8e5914be4a79c7e1539bbd28a",
       "version_major": 2,
       "version_minor": 0
      },
      "text/plain": [
       "  0%|          | 0/976 [00:00<?, ?it/s]"
      ]
     },
     "metadata": {},
     "output_type": "display_data"
    },
    {
     "data": {
      "application/vnd.jupyter.widget-view+json": {
       "model_id": "5424cbed0a8646f8bbc93596cf9b2362",
       "version_major": 2,
       "version_minor": 0
      },
      "text/plain": [
       "  0%|          | 0/50 [00:00<?, ?it/s]"
      ]
     },
     "metadata": {},
     "output_type": "display_data"
    },
    {
     "name": "stdout",
     "output_type": "stream",
     "text": [
      "L2 of 51757.5390625\n",
      "TEST ERROR OF 2.57684\n",
      "Generating samples with temp of 0 topk of 5 and topp of 0.75\n"
     ]
    },
    {
     "data": {
      "application/vnd.jupyter.widget-view+json": {
       "model_id": "f8c4568726f84b51b597fcf61ad1eeec",
       "version_major": 2,
       "version_minor": 0
      },
      "text/plain": [
       "  0%|          | 0/9 [00:00<?, ?it/s]"
      ]
     },
     "metadata": {},
     "output_type": "display_data"
    },
    {
     "name": "stdout",
     "output_type": "stream",
     "text": [
      "0.3837890625 ARE TRUE\n",
      "7.181372549019608 AVG DIFF\n",
      "79 EPOCHS SINCE BEST LOSS OF 1.1750994539260864\n",
      "--------------------------------------\n",
      "EPOCH 80\n"
     ]
    },
    {
     "data": {
      "application/vnd.jupyter.widget-view+json": {
       "model_id": "da3e31877dfa426c80c5c2e8490aacb0",
       "version_major": 2,
       "version_minor": 0
      },
      "text/plain": [
       "  0%|          | 0/976 [00:00<?, ?it/s]"
      ]
     },
     "metadata": {},
     "output_type": "display_data"
    },
    {
     "data": {
      "application/vnd.jupyter.widget-view+json": {
       "model_id": "5149adee8d0e4188bb0f4f314bdf60d5",
       "version_major": 2,
       "version_minor": 0
      },
      "text/plain": [
       "  0%|          | 0/50 [00:00<?, ?it/s]"
      ]
     },
     "metadata": {},
     "output_type": "display_data"
    },
    {
     "name": "stdout",
     "output_type": "stream",
     "text": [
      "L2 of 51662.01953125\n",
      "TEST ERROR OF 2.6419\n",
      "Generating samples with temp of 0 topk of 5 and topp of 0.75\n"
     ]
    },
    {
     "data": {
      "application/vnd.jupyter.widget-view+json": {
       "model_id": "cf26815aaba347038fcf067017edfede",
       "version_major": 2,
       "version_minor": 0
      },
      "text/plain": [
       "  0%|          | 0/9 [00:00<?, ?it/s]"
      ]
     },
     "metadata": {},
     "output_type": "display_data"
    },
    {
     "name": "stdout",
     "output_type": "stream",
     "text": [
      "0.4169921875 ARE TRUE\n",
      "7.5234375 AVG DIFF\n",
      "80 EPOCHS SINCE BEST LOSS OF 1.1750994539260864\n",
      "--------------------------------------\n",
      "EPOCH 81\n"
     ]
    },
    {
     "data": {
      "application/vnd.jupyter.widget-view+json": {
       "model_id": "e924f348a08445329152cccd10a12876",
       "version_major": 2,
       "version_minor": 0
      },
      "text/plain": [
       "  0%|          | 0/976 [00:00<?, ?it/s]"
      ]
     },
     "metadata": {},
     "output_type": "display_data"
    },
    {
     "data": {
      "application/vnd.jupyter.widget-view+json": {
       "model_id": "0675c759ae654dd8ae3dac9f6ac97bca",
       "version_major": 2,
       "version_minor": 0
      },
      "text/plain": [
       "  0%|          | 0/50 [00:00<?, ?it/s]"
      ]
     },
     "metadata": {},
     "output_type": "display_data"
    },
    {
     "name": "stdout",
     "output_type": "stream",
     "text": [
      "L2 of 51798.69140625\n",
      "TEST ERROR OF 2.63896\n",
      "Generating samples with temp of 0 topk of 5 and topp of 0.75\n"
     ]
    },
    {
     "data": {
      "application/vnd.jupyter.widget-view+json": {
       "model_id": "4b1f544268ae48be9f7a6bd1f7e7689b",
       "version_major": 2,
       "version_minor": 0
      },
      "text/plain": [
       "  0%|          | 0/9 [00:00<?, ?it/s]"
      ]
     },
     "metadata": {},
     "output_type": "display_data"
    },
    {
     "name": "stdout",
     "output_type": "stream",
     "text": [
      "0.4072265625 ARE TRUE\n",
      "8.455882352941176 AVG DIFF\n",
      "81 EPOCHS SINCE BEST LOSS OF 1.1750994539260864\n",
      "--------------------------------------\n",
      "EPOCH 82\n"
     ]
    },
    {
     "data": {
      "application/vnd.jupyter.widget-view+json": {
       "model_id": "f0c5bdcba4764045b79f16aa72368958",
       "version_major": 2,
       "version_minor": 0
      },
      "text/plain": [
       "  0%|          | 0/976 [00:00<?, ?it/s]"
      ]
     },
     "metadata": {},
     "output_type": "display_data"
    },
    {
     "data": {
      "application/vnd.jupyter.widget-view+json": {
       "model_id": "f42d5ef7a8fc4e9fb3603497d3b88744",
       "version_major": 2,
       "version_minor": 0
      },
      "text/plain": [
       "  0%|          | 0/50 [00:00<?, ?it/s]"
      ]
     },
     "metadata": {},
     "output_type": "display_data"
    },
    {
     "name": "stdout",
     "output_type": "stream",
     "text": [
      "L2 of 52098.69921875\n",
      "TEST ERROR OF 2.61074\n",
      "Generating samples with temp of 0 topk of 5 and topp of 0.75\n"
     ]
    },
    {
     "data": {
      "application/vnd.jupyter.widget-view+json": {
       "model_id": "20fa1d29d3af47d39d9e116e3b36a792",
       "version_major": 2,
       "version_minor": 0
      },
      "text/plain": [
       "  0%|          | 0/9 [00:00<?, ?it/s]"
      ]
     },
     "metadata": {},
     "output_type": "display_data"
    },
    {
     "name": "stdout",
     "output_type": "stream",
     "text": [
      "0.423828125 ARE TRUE\n",
      "8.261040235525025 AVG DIFF\n",
      "82 EPOCHS SINCE BEST LOSS OF 1.1750994539260864\n",
      "--------------------------------------\n",
      "EPOCH 83\n"
     ]
    },
    {
     "data": {
      "application/vnd.jupyter.widget-view+json": {
       "model_id": "ca8b11f1632845da89dd721fd90f663e",
       "version_major": 2,
       "version_minor": 0
      },
      "text/plain": [
       "  0%|          | 0/976 [00:00<?, ?it/s]"
      ]
     },
     "metadata": {},
     "output_type": "display_data"
    },
    {
     "data": {
      "application/vnd.jupyter.widget-view+json": {
       "model_id": "87ab0795848e449eb719950c6de8cfaa",
       "version_major": 2,
       "version_minor": 0
      },
      "text/plain": [
       "  0%|          | 0/50 [00:00<?, ?it/s]"
      ]
     },
     "metadata": {},
     "output_type": "display_data"
    },
    {
     "name": "stdout",
     "output_type": "stream",
     "text": [
      "L2 of 50637.42578125\n",
      "TEST ERROR OF 2.45562\n",
      "Generating samples with temp of 0 topk of 5 and topp of 0.75\n"
     ]
    },
    {
     "data": {
      "application/vnd.jupyter.widget-view+json": {
       "model_id": "dcbc46416dd544b7bffa1e9a65c2f4d6",
       "version_major": 2,
       "version_minor": 0
      },
      "text/plain": [
       "  0%|          | 0/9 [00:00<?, ?it/s]"
      ]
     },
     "metadata": {},
     "output_type": "display_data"
    },
    {
     "name": "stdout",
     "output_type": "stream",
     "text": [
      "0.4697265625 ARE TRUE\n",
      "8.346379647749512 AVG DIFF\n",
      "83 EPOCHS SINCE BEST LOSS OF 1.1750994539260864\n",
      "--------------------------------------\n",
      "EPOCH 84\n"
     ]
    },
    {
     "data": {
      "application/vnd.jupyter.widget-view+json": {
       "model_id": "37a4b002c7214945a6c5543fc830af98",
       "version_major": 2,
       "version_minor": 0
      },
      "text/plain": [
       "  0%|          | 0/976 [00:00<?, ?it/s]"
      ]
     },
     "metadata": {},
     "output_type": "display_data"
    },
    {
     "data": {
      "application/vnd.jupyter.widget-view+json": {
       "model_id": "568d4986ab624eb3b5d3096322c648c5",
       "version_major": 2,
       "version_minor": 0
      },
      "text/plain": [
       "  0%|          | 0/50 [00:00<?, ?it/s]"
      ]
     },
     "metadata": {},
     "output_type": "display_data"
    },
    {
     "name": "stdout",
     "output_type": "stream",
     "text": [
      "L2 of 50585.09765625\n",
      "TEST ERROR OF 2.47314\n",
      "Generating samples with temp of 0 topk of 5 and topp of 0.75\n"
     ]
    },
    {
     "data": {
      "application/vnd.jupyter.widget-view+json": {
       "model_id": "558d76613282489d9641e9f9a67dd47b",
       "version_major": 2,
       "version_minor": 0
      },
      "text/plain": [
       "  0%|          | 0/9 [00:00<?, ?it/s]"
      ]
     },
     "metadata": {},
     "output_type": "display_data"
    },
    {
     "name": "stdout",
     "output_type": "stream",
     "text": [
      "0.4697265625 ARE TRUE\n",
      "9.685966633954857 AVG DIFF\n",
      "84 EPOCHS SINCE BEST LOSS OF 1.1750994539260864\n",
      "--------------------------------------\n",
      "EPOCH 85\n"
     ]
    },
    {
     "data": {
      "application/vnd.jupyter.widget-view+json": {
       "model_id": "dad2478e7bd7418a96c8d6c495b33c8a",
       "version_major": 2,
       "version_minor": 0
      },
      "text/plain": [
       "  0%|          | 0/976 [00:00<?, ?it/s]"
      ]
     },
     "metadata": {},
     "output_type": "display_data"
    },
    {
     "data": {
      "application/vnd.jupyter.widget-view+json": {
       "model_id": "1b6a06c1824247d1b7ef34bceb8796f5",
       "version_major": 2,
       "version_minor": 0
      },
      "text/plain": [
       "  0%|          | 0/50 [00:00<?, ?it/s]"
      ]
     },
     "metadata": {},
     "output_type": "display_data"
    },
    {
     "name": "stdout",
     "output_type": "stream",
     "text": [
      "L2 of 50685.8515625\n",
      "TEST ERROR OF 2.40594\n",
      "Generating samples with temp of 0 topk of 5 and topp of 0.75\n"
     ]
    },
    {
     "data": {
      "application/vnd.jupyter.widget-view+json": {
       "model_id": "8619846dbeb74ef09ab126f397a5ed7e",
       "version_major": 2,
       "version_minor": 0
      },
      "text/plain": [
       "  0%|          | 0/9 [00:00<?, ?it/s]"
      ]
     },
     "metadata": {},
     "output_type": "display_data"
    },
    {
     "name": "stdout",
     "output_type": "stream",
     "text": [
      "0.4990234375 ARE TRUE\n",
      "7.304007820136852 AVG DIFF\n",
      "85 EPOCHS SINCE BEST LOSS OF 1.1750994539260864\n",
      "--------------------------------------\n",
      "EPOCH 86\n"
     ]
    },
    {
     "data": {
      "application/vnd.jupyter.widget-view+json": {
       "model_id": "17f3a5e502c542c7a21d0f83793ba240",
       "version_major": 2,
       "version_minor": 0
      },
      "text/plain": [
       "  0%|          | 0/976 [00:00<?, ?it/s]"
      ]
     },
     "metadata": {},
     "output_type": "display_data"
    },
    {
     "data": {
      "application/vnd.jupyter.widget-view+json": {
       "model_id": "7e2b5863744c4c3d8b4a670a757ebec9",
       "version_major": 2,
       "version_minor": 0
      },
      "text/plain": [
       "  0%|          | 0/50 [00:00<?, ?it/s]"
      ]
     },
     "metadata": {},
     "output_type": "display_data"
    },
    {
     "name": "stdout",
     "output_type": "stream",
     "text": [
      "L2 of 50637.1640625\n",
      "TEST ERROR OF 2.37543\n",
      "Generating samples with temp of 0 topk of 5 and topp of 0.75\n"
     ]
    },
    {
     "data": {
      "application/vnd.jupyter.widget-view+json": {
       "model_id": "630675bbbed8487d9fc6e1d82c3d7ed2",
       "version_major": 2,
       "version_minor": 0
      },
      "text/plain": [
       "  0%|          | 0/9 [00:00<?, ?it/s]"
      ]
     },
     "metadata": {},
     "output_type": "display_data"
    },
    {
     "name": "stdout",
     "output_type": "stream",
     "text": [
      "0.501953125 ARE TRUE\n",
      "16.41153470185728 AVG DIFF\n",
      "86 EPOCHS SINCE BEST LOSS OF 1.1750994539260864\n",
      "--------------------------------------\n",
      "EPOCH 87\n"
     ]
    },
    {
     "data": {
      "application/vnd.jupyter.widget-view+json": {
       "model_id": "62613a6bf6484d2296cf6ad641039ed8",
       "version_major": 2,
       "version_minor": 0
      },
      "text/plain": [
       "  0%|          | 0/976 [00:00<?, ?it/s]"
      ]
     },
     "metadata": {},
     "output_type": "display_data"
    },
    {
     "data": {
      "application/vnd.jupyter.widget-view+json": {
       "model_id": "8749ea2a63604fdc9275cd85985ab845",
       "version_major": 2,
       "version_minor": 0
      },
      "text/plain": [
       "  0%|          | 0/50 [00:00<?, ?it/s]"
      ]
     },
     "metadata": {},
     "output_type": "display_data"
    },
    {
     "name": "stdout",
     "output_type": "stream",
     "text": [
      "L2 of 49842.375\n",
      "TEST ERROR OF 2.37412\n",
      "Generating samples with temp of 0 topk of 5 and topp of 0.75\n"
     ]
    },
    {
     "data": {
      "application/vnd.jupyter.widget-view+json": {
       "model_id": "b973a564bd5f4fb69c4b6bd4ad9bbf6c",
       "version_major": 2,
       "version_minor": 0
      },
      "text/plain": [
       "  0%|          | 0/9 [00:00<?, ?it/s]"
      ]
     },
     "metadata": {},
     "output_type": "display_data"
    },
    {
     "name": "stdout",
     "output_type": "stream",
     "text": [
      "0.5234375 ARE TRUE\n",
      "9.180039138943249 AVG DIFF\n",
      "87 EPOCHS SINCE BEST LOSS OF 1.1750994539260864\n",
      "--------------------------------------\n",
      "EPOCH 88\n"
     ]
    },
    {
     "data": {
      "application/vnd.jupyter.widget-view+json": {
       "model_id": "9370f999aae0493db1a2b314955519d8",
       "version_major": 2,
       "version_minor": 0
      },
      "text/plain": [
       "  0%|          | 0/976 [00:00<?, ?it/s]"
      ]
     },
     "metadata": {},
     "output_type": "display_data"
    },
    {
     "data": {
      "application/vnd.jupyter.widget-view+json": {
       "model_id": "02bd03e7173740cbb6bfa1ddc3278c62",
       "version_major": 2,
       "version_minor": 0
      },
      "text/plain": [
       "  0%|          | 0/50 [00:00<?, ?it/s]"
      ]
     },
     "metadata": {},
     "output_type": "display_data"
    },
    {
     "name": "stdout",
     "output_type": "stream",
     "text": [
      "L2 of 50296.140625\n",
      "TEST ERROR OF 2.38243\n",
      "Generating samples with temp of 0 topk of 5 and topp of 0.75\n"
     ]
    },
    {
     "data": {
      "application/vnd.jupyter.widget-view+json": {
       "model_id": "4576f63abf5a4cbc8ace8753ca7a2e7f",
       "version_major": 2,
       "version_minor": 0
      },
      "text/plain": [
       "  0%|          | 0/9 [00:00<?, ?it/s]"
      ]
     },
     "metadata": {},
     "output_type": "display_data"
    },
    {
     "name": "stdout",
     "output_type": "stream",
     "text": [
      "0.525390625 ARE TRUE\n",
      "7.6611328125 AVG DIFF\n",
      "88 EPOCHS SINCE BEST LOSS OF 1.1750994539260864\n",
      "--------------------------------------\n",
      "EPOCH 89\n"
     ]
    },
    {
     "data": {
      "application/vnd.jupyter.widget-view+json": {
       "model_id": "9a7674ce7da94b399d949de8bd66f4ff",
       "version_major": 2,
       "version_minor": 0
      },
      "text/plain": [
       "  0%|          | 0/976 [00:00<?, ?it/s]"
      ]
     },
     "metadata": {},
     "output_type": "display_data"
    },
    {
     "data": {
      "application/vnd.jupyter.widget-view+json": {
       "model_id": "59e39617fecd4a81804b6d1dcae71178",
       "version_major": 2,
       "version_minor": 0
      },
      "text/plain": [
       "  0%|          | 0/50 [00:00<?, ?it/s]"
      ]
     },
     "metadata": {},
     "output_type": "display_data"
    },
    {
     "name": "stdout",
     "output_type": "stream",
     "text": [
      "L2 of 49528.16015625\n",
      "TEST ERROR OF 2.33701\n",
      "Generating samples with temp of 0 topk of 5 and topp of 0.75\n"
     ]
    },
    {
     "data": {
      "application/vnd.jupyter.widget-view+json": {
       "model_id": "f6560cde4a244ee0a5b51bb426d3a341",
       "version_major": 2,
       "version_minor": 0
      },
      "text/plain": [
       "  0%|          | 0/9 [00:00<?, ?it/s]"
      ]
     },
     "metadata": {},
     "output_type": "display_data"
    },
    {
     "name": "stdout",
     "output_type": "stream",
     "text": [
      "0.5400390625 ARE TRUE\n",
      "16.271037181996086 AVG DIFF\n",
      "89 EPOCHS SINCE BEST LOSS OF 1.1750994539260864\n",
      "--------------------------------------\n",
      "EPOCH 90\n"
     ]
    },
    {
     "data": {
      "application/vnd.jupyter.widget-view+json": {
       "model_id": "701ebc75a1d2473ca19fe69e61980222",
       "version_major": 2,
       "version_minor": 0
      },
      "text/plain": [
       "  0%|          | 0/976 [00:00<?, ?it/s]"
      ]
     },
     "metadata": {},
     "output_type": "display_data"
    },
    {
     "data": {
      "application/vnd.jupyter.widget-view+json": {
       "model_id": "e16ccf6514c3450d8f8534a8976381a5",
       "version_major": 2,
       "version_minor": 0
      },
      "text/plain": [
       "  0%|          | 0/50 [00:00<?, ?it/s]"
      ]
     },
     "metadata": {},
     "output_type": "display_data"
    },
    {
     "name": "stdout",
     "output_type": "stream",
     "text": [
      "L2 of 49543.5390625\n",
      "TEST ERROR OF 2.35286\n",
      "Generating samples with temp of 0 topk of 5 and topp of 0.75\n"
     ]
    },
    {
     "data": {
      "application/vnd.jupyter.widget-view+json": {
       "model_id": "245ca8d072eb4d9195c6efed199719dc",
       "version_major": 2,
       "version_minor": 0
      },
      "text/plain": [
       "  0%|          | 0/9 [00:00<?, ?it/s]"
      ]
     },
     "metadata": {},
     "output_type": "display_data"
    },
    {
     "name": "stdout",
     "output_type": "stream",
     "text": [
      "0.5185546875 ARE TRUE\n",
      "8.52297165200391 AVG DIFF\n",
      "90 EPOCHS SINCE BEST LOSS OF 1.1750994539260864\n",
      "--------------------------------------\n",
      "EPOCH 91\n"
     ]
    },
    {
     "data": {
      "application/vnd.jupyter.widget-view+json": {
       "model_id": "abb0fd02f5dc4de08046e5f18582f90c",
       "version_major": 2,
       "version_minor": 0
      },
      "text/plain": [
       "  0%|          | 0/976 [00:00<?, ?it/s]"
      ]
     },
     "metadata": {},
     "output_type": "display_data"
    },
    {
     "data": {
      "application/vnd.jupyter.widget-view+json": {
       "model_id": "75db81299c814b209c7121124c1eb9d2",
       "version_major": 2,
       "version_minor": 0
      },
      "text/plain": [
       "  0%|          | 0/50 [00:00<?, ?it/s]"
      ]
     },
     "metadata": {},
     "output_type": "display_data"
    },
    {
     "name": "stdout",
     "output_type": "stream",
     "text": [
      "L2 of 49606.95703125\n",
      "TEST ERROR OF 2.37445\n",
      "Generating samples with temp of 0 topk of 5 and topp of 0.75\n"
     ]
    },
    {
     "data": {
      "application/vnd.jupyter.widget-view+json": {
       "model_id": "95e38b331b7040d383e9597fd6d1ee2d",
       "version_major": 2,
       "version_minor": 0
      },
      "text/plain": [
       "  0%|          | 0/9 [00:00<?, ?it/s]"
      ]
     },
     "metadata": {},
     "output_type": "display_data"
    },
    {
     "name": "stdout",
     "output_type": "stream",
     "text": [
      "0.53125 ARE TRUE\n",
      "8.856304985337243 AVG DIFF\n",
      "91 EPOCHS SINCE BEST LOSS OF 1.1750994539260864\n",
      "--------------------------------------\n",
      "EPOCH 92\n"
     ]
    },
    {
     "data": {
      "application/vnd.jupyter.widget-view+json": {
       "model_id": "c993a1bd9e9845699cd9a775f9395853",
       "version_major": 2,
       "version_minor": 0
      },
      "text/plain": [
       "  0%|          | 0/976 [00:00<?, ?it/s]"
      ]
     },
     "metadata": {},
     "output_type": "display_data"
    },
    {
     "data": {
      "application/vnd.jupyter.widget-view+json": {
       "model_id": "bd7fe5c3f8b14cf3871bb23863e3202b",
       "version_major": 2,
       "version_minor": 0
      },
      "text/plain": [
       "  0%|          | 0/50 [00:00<?, ?it/s]"
      ]
     },
     "metadata": {},
     "output_type": "display_data"
    },
    {
     "name": "stdout",
     "output_type": "stream",
     "text": [
      "L2 of 49505.609375\n",
      "TEST ERROR OF 2.40163\n",
      "Generating samples with temp of 0 topk of 5 and topp of 0.75\n"
     ]
    },
    {
     "data": {
      "application/vnd.jupyter.widget-view+json": {
       "model_id": "26814cf5c06a402aa0fda09af5f727ec",
       "version_major": 2,
       "version_minor": 0
      },
      "text/plain": [
       "  0%|          | 0/9 [00:00<?, ?it/s]"
      ]
     },
     "metadata": {},
     "output_type": "display_data"
    },
    {
     "name": "stdout",
     "output_type": "stream",
     "text": [
      "0.5166015625 ARE TRUE\n",
      "11.142576204523108 AVG DIFF\n",
      "92 EPOCHS SINCE BEST LOSS OF 1.1750994539260864\n",
      "--------------------------------------\n",
      "EPOCH 93\n"
     ]
    },
    {
     "data": {
      "application/vnd.jupyter.widget-view+json": {
       "model_id": "4552fdd53bd6493381f1bd3084b77450",
       "version_major": 2,
       "version_minor": 0
      },
      "text/plain": [
       "  0%|          | 0/976 [00:00<?, ?it/s]"
      ]
     },
     "metadata": {},
     "output_type": "display_data"
    },
    {
     "data": {
      "application/vnd.jupyter.widget-view+json": {
       "model_id": "5028ecce7f204073a9cec722720dee1e",
       "version_major": 2,
       "version_minor": 0
      },
      "text/plain": [
       "  0%|          | 0/50 [00:00<?, ?it/s]"
      ]
     },
     "metadata": {},
     "output_type": "display_data"
    },
    {
     "name": "stdout",
     "output_type": "stream",
     "text": [
      "L2 of 49321.625\n",
      "TEST ERROR OF 2.36137\n",
      "Generating samples with temp of 0 topk of 5 and topp of 0.75\n"
     ]
    },
    {
     "data": {
      "application/vnd.jupyter.widget-view+json": {
       "model_id": "9cef85e1362f4fc8bc46c694aa889db5",
       "version_major": 2,
       "version_minor": 0
      },
      "text/plain": [
       "  0%|          | 0/9 [00:00<?, ?it/s]"
      ]
     },
     "metadata": {},
     "output_type": "display_data"
    },
    {
     "name": "stdout",
     "output_type": "stream",
     "text": [
      "0.541015625 ARE TRUE\n",
      "7.669607843137255 AVG DIFF\n",
      "93 EPOCHS SINCE BEST LOSS OF 1.1750994539260864\n",
      "--------------------------------------\n",
      "EPOCH 94\n"
     ]
    },
    {
     "data": {
      "application/vnd.jupyter.widget-view+json": {
       "model_id": "fcd767be0ee1440080224aec50e35ec8",
       "version_major": 2,
       "version_minor": 0
      },
      "text/plain": [
       "  0%|          | 0/976 [00:00<?, ?it/s]"
      ]
     },
     "metadata": {},
     "output_type": "display_data"
    },
    {
     "data": {
      "application/vnd.jupyter.widget-view+json": {
       "model_id": "61abee52bf954328bc0909ac8021eadc",
       "version_major": 2,
       "version_minor": 0
      },
      "text/plain": [
       "  0%|          | 0/50 [00:00<?, ?it/s]"
      ]
     },
     "metadata": {},
     "output_type": "display_data"
    },
    {
     "name": "stdout",
     "output_type": "stream",
     "text": [
      "L2 of 49458.5546875\n",
      "TEST ERROR OF 2.4149\n",
      "Generating samples with temp of 0 topk of 5 and topp of 0.75\n"
     ]
    },
    {
     "data": {
      "application/vnd.jupyter.widget-view+json": {
       "model_id": "e11e327ca1b5436392cdfe6b26abb68f",
       "version_major": 2,
       "version_minor": 0
      },
      "text/plain": [
       "  0%|          | 0/9 [00:00<?, ?it/s]"
      ]
     },
     "metadata": {},
     "output_type": "display_data"
    },
    {
     "name": "stdout",
     "output_type": "stream",
     "text": [
      "0.529296875 ARE TRUE\n",
      "8.26027397260274 AVG DIFF\n",
      "94 EPOCHS SINCE BEST LOSS OF 1.1750994539260864\n",
      "--------------------------------------\n",
      "EPOCH 95\n"
     ]
    },
    {
     "data": {
      "application/vnd.jupyter.widget-view+json": {
       "model_id": "0a286836a54f4179bb7283e6e0a5cc44",
       "version_major": 2,
       "version_minor": 0
      },
      "text/plain": [
       "  0%|          | 0/976 [00:00<?, ?it/s]"
      ]
     },
     "metadata": {},
     "output_type": "display_data"
    },
    {
     "data": {
      "application/vnd.jupyter.widget-view+json": {
       "model_id": "d9d9351878ef452fab1da0d4df04ccad",
       "version_major": 2,
       "version_minor": 0
      },
      "text/plain": [
       "  0%|          | 0/50 [00:00<?, ?it/s]"
      ]
     },
     "metadata": {},
     "output_type": "display_data"
    },
    {
     "name": "stdout",
     "output_type": "stream",
     "text": [
      "L2 of 49437.87890625\n",
      "TEST ERROR OF 2.40637\n",
      "Generating samples with temp of 0 topk of 5 and topp of 0.75\n"
     ]
    },
    {
     "data": {
      "application/vnd.jupyter.widget-view+json": {
       "model_id": "9ee78080a7ab4a1ea67ed44dc40ea813",
       "version_major": 2,
       "version_minor": 0
      },
      "text/plain": [
       "  0%|          | 0/9 [00:00<?, ?it/s]"
      ]
     },
     "metadata": {},
     "output_type": "display_data"
    },
    {
     "name": "stdout",
     "output_type": "stream",
     "text": [
      "0.5078125 ARE TRUE\n",
      "10.4072265625 AVG DIFF\n",
      "95 EPOCHS SINCE BEST LOSS OF 1.1750994539260864\n",
      "--------------------------------------\n",
      "EPOCH 96\n"
     ]
    },
    {
     "data": {
      "application/vnd.jupyter.widget-view+json": {
       "model_id": "04e0f1885677418ba7b5917d0b335d47",
       "version_major": 2,
       "version_minor": 0
      },
      "text/plain": [
       "  0%|          | 0/976 [00:00<?, ?it/s]"
      ]
     },
     "metadata": {},
     "output_type": "display_data"
    },
    {
     "data": {
      "application/vnd.jupyter.widget-view+json": {
       "model_id": "710814baee4f480583d83150a8e91df6",
       "version_major": 2,
       "version_minor": 0
      },
      "text/plain": [
       "  0%|          | 0/50 [00:00<?, ?it/s]"
      ]
     },
     "metadata": {},
     "output_type": "display_data"
    },
    {
     "name": "stdout",
     "output_type": "stream",
     "text": [
      "L2 of 49969.6953125\n",
      "TEST ERROR OF 2.32854\n",
      "Generating samples with temp of 0 topk of 5 and topp of 0.75\n"
     ]
    },
    {
     "data": {
      "application/vnd.jupyter.widget-view+json": {
       "model_id": "a82bc55d0c9a43bfab4894bf3a13195a",
       "version_major": 2,
       "version_minor": 0
      },
      "text/plain": [
       "  0%|          | 0/9 [00:00<?, ?it/s]"
      ]
     },
     "metadata": {},
     "output_type": "display_data"
    },
    {
     "name": "stdout",
     "output_type": "stream",
     "text": [
      "0.5263671875 ARE TRUE\n",
      "8.63600782778865 AVG DIFF\n",
      "96 EPOCHS SINCE BEST LOSS OF 1.1750994539260864\n",
      "--------------------------------------\n",
      "EPOCH 97\n"
     ]
    },
    {
     "data": {
      "application/vnd.jupyter.widget-view+json": {
       "model_id": "75f7f762f57b49a8bc8a55c003de70ef",
       "version_major": 2,
       "version_minor": 0
      },
      "text/plain": [
       "  0%|          | 0/976 [00:00<?, ?it/s]"
      ]
     },
     "metadata": {},
     "output_type": "display_data"
    },
    {
     "data": {
      "application/vnd.jupyter.widget-view+json": {
       "model_id": "30d9b6bf693548c885a7159c4a7e6c4b",
       "version_major": 2,
       "version_minor": 0
      },
      "text/plain": [
       "  0%|          | 0/50 [00:00<?, ?it/s]"
      ]
     },
     "metadata": {},
     "output_type": "display_data"
    },
    {
     "name": "stdout",
     "output_type": "stream",
     "text": [
      "L2 of 49748.109375\n",
      "TEST ERROR OF 2.3723\n",
      "Generating samples with temp of 0 topk of 5 and topp of 0.75\n"
     ]
    },
    {
     "data": {
      "application/vnd.jupyter.widget-view+json": {
       "model_id": "535343ee8274427aa287afd353c8a99f",
       "version_major": 2,
       "version_minor": 0
      },
      "text/plain": [
       "  0%|          | 0/9 [00:00<?, ?it/s]"
      ]
     },
     "metadata": {},
     "output_type": "display_data"
    },
    {
     "name": "stdout",
     "output_type": "stream",
     "text": [
      "0.4931640625 ARE TRUE\n",
      "9.3837890625 AVG DIFF\n",
      "97 EPOCHS SINCE BEST LOSS OF 1.1750994539260864\n",
      "--------------------------------------\n",
      "EPOCH 98\n"
     ]
    },
    {
     "data": {
      "application/vnd.jupyter.widget-view+json": {
       "model_id": "92b0c47dc17c477cba149308b24e6e00",
       "version_major": 2,
       "version_minor": 0
      },
      "text/plain": [
       "  0%|          | 0/976 [00:00<?, ?it/s]"
      ]
     },
     "metadata": {},
     "output_type": "display_data"
    },
    {
     "data": {
      "application/vnd.jupyter.widget-view+json": {
       "model_id": "b58adfdc2eb44aa69372f70ca6a7a382",
       "version_major": 2,
       "version_minor": 0
      },
      "text/plain": [
       "  0%|          | 0/50 [00:00<?, ?it/s]"
      ]
     },
     "metadata": {},
     "output_type": "display_data"
    },
    {
     "name": "stdout",
     "output_type": "stream",
     "text": [
      "L2 of 50388.734375\n",
      "TEST ERROR OF 2.43922\n",
      "Generating samples with temp of 0 topk of 5 and topp of 0.75\n"
     ]
    },
    {
     "data": {
      "application/vnd.jupyter.widget-view+json": {
       "model_id": "9a9b8fd2eb0440aca7551e87d5e203a2",
       "version_major": 2,
       "version_minor": 0
      },
      "text/plain": [
       "  0%|          | 0/9 [00:00<?, ?it/s]"
      ]
     },
     "metadata": {},
     "output_type": "display_data"
    },
    {
     "name": "stdout",
     "output_type": "stream",
     "text": [
      "0.515625 ARE TRUE\n",
      "26.50439882697947 AVG DIFF\n",
      "98 EPOCHS SINCE BEST LOSS OF 1.1750994539260864\n",
      "--------------------------------------\n",
      "EPOCH 99\n"
     ]
    },
    {
     "data": {
      "application/vnd.jupyter.widget-view+json": {
       "model_id": "77c3cb3a2234421880c6a91470d4944d",
       "version_major": 2,
       "version_minor": 0
      },
      "text/plain": [
       "  0%|          | 0/976 [00:00<?, ?it/s]"
      ]
     },
     "metadata": {},
     "output_type": "display_data"
    },
    {
     "data": {
      "application/vnd.jupyter.widget-view+json": {
       "model_id": "a7ae8ab0ecc44d78aff181032942b743",
       "version_major": 2,
       "version_minor": 0
      },
      "text/plain": [
       "  0%|          | 0/50 [00:00<?, ?it/s]"
      ]
     },
     "metadata": {},
     "output_type": "display_data"
    },
    {
     "name": "stdout",
     "output_type": "stream",
     "text": [
      "L2 of 49320.84375\n",
      "TEST ERROR OF 2.34846\n",
      "Generating samples with temp of 0 topk of 5 and topp of 0.75\n"
     ]
    },
    {
     "data": {
      "application/vnd.jupyter.widget-view+json": {
       "model_id": "1fe40ba985e64ec3a7eee26b7de287b0",
       "version_major": 2,
       "version_minor": 0
      },
      "text/plain": [
       "  0%|          | 0/9 [00:00<?, ?it/s]"
      ]
     },
     "metadata": {},
     "output_type": "display_data"
    },
    {
     "name": "stdout",
     "output_type": "stream",
     "text": [
      "0.5205078125 ARE TRUE\n",
      "8.73972602739726 AVG DIFF\n",
      "99 EPOCHS SINCE BEST LOSS OF 1.1750994539260864\n",
      "--------------------------------------\n",
      "EPOCH 100\n"
     ]
    },
    {
     "data": {
      "application/vnd.jupyter.widget-view+json": {
       "model_id": "09312122365e43fbb7930d32cd78c228",
       "version_major": 2,
       "version_minor": 0
      },
      "text/plain": [
       "  0%|          | 0/976 [00:00<?, ?it/s]"
      ]
     },
     "metadata": {},
     "output_type": "display_data"
    },
    {
     "data": {
      "application/vnd.jupyter.widget-view+json": {
       "model_id": "6168ab0311674fbdadeef4eeff72efdc",
       "version_major": 2,
       "version_minor": 0
      },
      "text/plain": [
       "  0%|          | 0/50 [00:00<?, ?it/s]"
      ]
     },
     "metadata": {},
     "output_type": "display_data"
    },
    {
     "name": "stdout",
     "output_type": "stream",
     "text": [
      "L2 of 49850.6875\n",
      "TEST ERROR OF 2.34311\n",
      "Generating samples with temp of 0 topk of 5 and topp of 0.75\n"
     ]
    },
    {
     "data": {
      "application/vnd.jupyter.widget-view+json": {
       "model_id": "7735390030784718acc887e0f7332655",
       "version_major": 2,
       "version_minor": 0
      },
      "text/plain": [
       "  0%|          | 0/9 [00:00<?, ?it/s]"
      ]
     },
     "metadata": {},
     "output_type": "display_data"
    },
    {
     "name": "stdout",
     "output_type": "stream",
     "text": [
      "0.525390625 ARE TRUE\n",
      "7.550342130987293 AVG DIFF\n",
      "100 EPOCHS SINCE BEST LOSS OF 1.1750994539260864\n",
      "--------------------------------------\n",
      "EPOCH 101\n"
     ]
    },
    {
     "data": {
      "application/vnd.jupyter.widget-view+json": {
       "model_id": "2d15b1de99e1412ba769a89bae3e3e83",
       "version_major": 2,
       "version_minor": 0
      },
      "text/plain": [
       "  0%|          | 0/976 [00:00<?, ?it/s]"
      ]
     },
     "metadata": {},
     "output_type": "display_data"
    },
    {
     "data": {
      "application/vnd.jupyter.widget-view+json": {
       "model_id": "f8b251ffa92d455aad5d6286be1ee797",
       "version_major": 2,
       "version_minor": 0
      },
      "text/plain": [
       "  0%|          | 0/50 [00:00<?, ?it/s]"
      ]
     },
     "metadata": {},
     "output_type": "display_data"
    },
    {
     "name": "stdout",
     "output_type": "stream",
     "text": [
      "L2 of 49342.9921875\n",
      "TEST ERROR OF 2.35684\n",
      "Generating samples with temp of 0 topk of 5 and topp of 0.75\n"
     ]
    },
    {
     "data": {
      "application/vnd.jupyter.widget-view+json": {
       "model_id": "34e7e27f867d4e8b8b4a22959d578a99",
       "version_major": 2,
       "version_minor": 0
      },
      "text/plain": [
       "  0%|          | 0/9 [00:00<?, ?it/s]"
      ]
     },
     "metadata": {},
     "output_type": "display_data"
    },
    {
     "name": "stdout",
     "output_type": "stream",
     "text": [
      "0.5126953125 ARE TRUE\n",
      "8.313667649950835 AVG DIFF\n",
      "101 EPOCHS SINCE BEST LOSS OF 1.1750994539260864\n",
      "--------------------------------------\n",
      "EPOCH 102\n"
     ]
    },
    {
     "data": {
      "application/vnd.jupyter.widget-view+json": {
       "model_id": "c533936920a0490ba28553c84530603e",
       "version_major": 2,
       "version_minor": 0
      },
      "text/plain": [
       "  0%|          | 0/976 [00:00<?, ?it/s]"
      ]
     },
     "metadata": {},
     "output_type": "display_data"
    },
    {
     "data": {
      "application/vnd.jupyter.widget-view+json": {
       "model_id": "a5a7d46159764fbdb6ede5f53182ecf8",
       "version_major": 2,
       "version_minor": 0
      },
      "text/plain": [
       "  0%|          | 0/50 [00:00<?, ?it/s]"
      ]
     },
     "metadata": {},
     "output_type": "display_data"
    },
    {
     "name": "stdout",
     "output_type": "stream",
     "text": [
      "L2 of 49464.984375\n",
      "TEST ERROR OF 2.42107\n",
      "Generating samples with temp of 0 topk of 5 and topp of 0.75\n"
     ]
    },
    {
     "data": {
      "application/vnd.jupyter.widget-view+json": {
       "model_id": "48c4832d35da463d8a605e24d41c27b8",
       "version_major": 2,
       "version_minor": 0
      },
      "text/plain": [
       "  0%|          | 0/9 [00:00<?, ?it/s]"
      ]
     },
     "metadata": {},
     "output_type": "display_data"
    },
    {
     "name": "stdout",
     "output_type": "stream",
     "text": [
      "0.541015625 ARE TRUE\n",
      "9.21484375 AVG DIFF\n",
      "102 EPOCHS SINCE BEST LOSS OF 1.1750994539260864\n",
      "--------------------------------------\n",
      "EPOCH 103\n"
     ]
    },
    {
     "data": {
      "application/vnd.jupyter.widget-view+json": {
       "model_id": "e57f519fe8694eb7a10aace5c9deeca3",
       "version_major": 2,
       "version_minor": 0
      },
      "text/plain": [
       "  0%|          | 0/976 [00:00<?, ?it/s]"
      ]
     },
     "metadata": {},
     "output_type": "display_data"
    },
    {
     "data": {
      "application/vnd.jupyter.widget-view+json": {
       "model_id": "b398c1dd56a94aada514b342e06af042",
       "version_major": 2,
       "version_minor": 0
      },
      "text/plain": [
       "  0%|          | 0/50 [00:00<?, ?it/s]"
      ]
     },
     "metadata": {},
     "output_type": "display_data"
    },
    {
     "name": "stdout",
     "output_type": "stream",
     "text": [
      "L2 of 49120.19921875\n",
      "TEST ERROR OF 2.37943\n",
      "Generating samples with temp of 0 topk of 5 and topp of 0.75\n"
     ]
    },
    {
     "data": {
      "application/vnd.jupyter.widget-view+json": {
       "model_id": "d549139733844fd48a8f437ea05fea41",
       "version_major": 2,
       "version_minor": 0
      },
      "text/plain": [
       "  0%|          | 0/9 [00:00<?, ?it/s]"
      ]
     },
     "metadata": {},
     "output_type": "display_data"
    },
    {
     "name": "stdout",
     "output_type": "stream",
     "text": [
      "0.5166015625 ARE TRUE\n",
      "7.356793743890518 AVG DIFF\n",
      "103 EPOCHS SINCE BEST LOSS OF 1.1750994539260864\n",
      "--------------------------------------\n",
      "EPOCH 104\n"
     ]
    },
    {
     "data": {
      "application/vnd.jupyter.widget-view+json": {
       "model_id": "85180b85ab74467cb16ec6905811e9e3",
       "version_major": 2,
       "version_minor": 0
      },
      "text/plain": [
       "  0%|          | 0/976 [00:00<?, ?it/s]"
      ]
     },
     "metadata": {},
     "output_type": "display_data"
    },
    {
     "data": {
      "application/vnd.jupyter.widget-view+json": {
       "model_id": "f41a7c81b8eb44f38fe740e38223121e",
       "version_major": 2,
       "version_minor": 0
      },
      "text/plain": [
       "  0%|          | 0/50 [00:00<?, ?it/s]"
      ]
     },
     "metadata": {},
     "output_type": "display_data"
    },
    {
     "name": "stdout",
     "output_type": "stream",
     "text": [
      "L2 of 49224.25\n",
      "TEST ERROR OF 2.31472\n",
      "Generating samples with temp of 0 topk of 5 and topp of 0.75\n"
     ]
    },
    {
     "data": {
      "application/vnd.jupyter.widget-view+json": {
       "model_id": "9f75f7b4e29a47d78b6542065af28f32",
       "version_major": 2,
       "version_minor": 0
      },
      "text/plain": [
       "  0%|          | 0/9 [00:00<?, ?it/s]"
      ]
     },
     "metadata": {},
     "output_type": "display_data"
    },
    {
     "name": "stdout",
     "output_type": "stream",
     "text": [
      "0.529296875 ARE TRUE\n",
      "8.706457925636007 AVG DIFF\n",
      "104 EPOCHS SINCE BEST LOSS OF 1.1750994539260864\n",
      "--------------------------------------\n",
      "EPOCH 105\n"
     ]
    },
    {
     "data": {
      "application/vnd.jupyter.widget-view+json": {
       "model_id": "bc013efcc1db43a5b00b2094d7d8e7ce",
       "version_major": 2,
       "version_minor": 0
      },
      "text/plain": [
       "  0%|          | 0/976 [00:00<?, ?it/s]"
      ]
     },
     "metadata": {},
     "output_type": "display_data"
    },
    {
     "data": {
      "application/vnd.jupyter.widget-view+json": {
       "model_id": "872680496b4e4714a89d14a747b8ba44",
       "version_major": 2,
       "version_minor": 0
      },
      "text/plain": [
       "  0%|          | 0/50 [00:00<?, ?it/s]"
      ]
     },
     "metadata": {},
     "output_type": "display_data"
    },
    {
     "name": "stdout",
     "output_type": "stream",
     "text": [
      "L2 of 49446.765625\n",
      "TEST ERROR OF 2.33054\n",
      "Generating samples with temp of 0 topk of 5 and topp of 0.75\n"
     ]
    },
    {
     "data": {
      "application/vnd.jupyter.widget-view+json": {
       "model_id": "f5ebd528259e434b9b7e5102b6042773",
       "version_major": 2,
       "version_minor": 0
      },
      "text/plain": [
       "  0%|          | 0/9 [00:00<?, ?it/s]"
      ]
     },
     "metadata": {},
     "output_type": "display_data"
    },
    {
     "name": "stdout",
     "output_type": "stream",
     "text": [
      "0.5361328125 ARE TRUE\n",
      "8.982387475538161 AVG DIFF\n",
      "105 EPOCHS SINCE BEST LOSS OF 1.1750994539260864\n",
      "--------------------------------------\n",
      "EPOCH 106\n"
     ]
    },
    {
     "data": {
      "application/vnd.jupyter.widget-view+json": {
       "model_id": "05c6d218d30241288e1c59dc1b209e42",
       "version_major": 2,
       "version_minor": 0
      },
      "text/plain": [
       "  0%|          | 0/976 [00:00<?, ?it/s]"
      ]
     },
     "metadata": {},
     "output_type": "display_data"
    },
    {
     "data": {
      "application/vnd.jupyter.widget-view+json": {
       "model_id": "44d9072a87ba485cb2ba630c397c6582",
       "version_major": 2,
       "version_minor": 0
      },
      "text/plain": [
       "  0%|          | 0/50 [00:00<?, ?it/s]"
      ]
     },
     "metadata": {},
     "output_type": "display_data"
    },
    {
     "name": "stdout",
     "output_type": "stream",
     "text": [
      "L2 of 49725.6484375\n",
      "TEST ERROR OF 2.45573\n",
      "Generating samples with temp of 0 topk of 5 and topp of 0.75\n"
     ]
    },
    {
     "data": {
      "application/vnd.jupyter.widget-view+json": {
       "model_id": "d46c1c0421a943dba6cd7356c1804b81",
       "version_major": 2,
       "version_minor": 0
      },
      "text/plain": [
       "  0%|          | 0/9 [00:00<?, ?it/s]"
      ]
     },
     "metadata": {},
     "output_type": "display_data"
    },
    {
     "name": "stdout",
     "output_type": "stream",
     "text": [
      "0.525390625 ARE TRUE\n",
      "8.548387096774194 AVG DIFF\n",
      "106 EPOCHS SINCE BEST LOSS OF 1.1750994539260864\n",
      "--------------------------------------\n",
      "EPOCH 107\n"
     ]
    },
    {
     "data": {
      "application/vnd.jupyter.widget-view+json": {
       "model_id": "40ddce66d51946dc895db21b8122de3b",
       "version_major": 2,
       "version_minor": 0
      },
      "text/plain": [
       "  0%|          | 0/976 [00:00<?, ?it/s]"
      ]
     },
     "metadata": {},
     "output_type": "display_data"
    },
    {
     "data": {
      "application/vnd.jupyter.widget-view+json": {
       "model_id": "7091493e367d4b3fb3e64b386426a539",
       "version_major": 2,
       "version_minor": 0
      },
      "text/plain": [
       "  0%|          | 0/50 [00:00<?, ?it/s]"
      ]
     },
     "metadata": {},
     "output_type": "display_data"
    },
    {
     "name": "stdout",
     "output_type": "stream",
     "text": [
      "L2 of 49692.9296875\n",
      "TEST ERROR OF 2.45321\n",
      "Generating samples with temp of 0 topk of 5 and topp of 0.75\n"
     ]
    },
    {
     "data": {
      "application/vnd.jupyter.widget-view+json": {
       "model_id": "6575dfe247c24b8e839daad1fe44283b",
       "version_major": 2,
       "version_minor": 0
      },
      "text/plain": [
       "  0%|          | 0/9 [00:00<?, ?it/s]"
      ]
     },
     "metadata": {},
     "output_type": "display_data"
    },
    {
     "name": "stdout",
     "output_type": "stream",
     "text": [
      "0.541015625 ARE TRUE\n",
      "7.737978410206084 AVG DIFF\n",
      "107 EPOCHS SINCE BEST LOSS OF 1.1750994539260864\n",
      "--------------------------------------\n",
      "EPOCH 108\n"
     ]
    },
    {
     "data": {
      "application/vnd.jupyter.widget-view+json": {
       "model_id": "bdd87af538f744d19f31014e6524227a",
       "version_major": 2,
       "version_minor": 0
      },
      "text/plain": [
       "  0%|          | 0/976 [00:00<?, ?it/s]"
      ]
     },
     "metadata": {},
     "output_type": "display_data"
    },
    {
     "data": {
      "application/vnd.jupyter.widget-view+json": {
       "model_id": "b0175a9ace7d4781b9de5870ca059093",
       "version_major": 2,
       "version_minor": 0
      },
      "text/plain": [
       "  0%|          | 0/50 [00:00<?, ?it/s]"
      ]
     },
     "metadata": {},
     "output_type": "display_data"
    },
    {
     "name": "stdout",
     "output_type": "stream",
     "text": [
      "L2 of 50184.62890625\n",
      "TEST ERROR OF 2.37876\n",
      "Generating samples with temp of 0 topk of 5 and topp of 0.75\n"
     ]
    },
    {
     "data": {
      "application/vnd.jupyter.widget-view+json": {
       "model_id": "29119f532f7e4fee9be73339733a6ec4",
       "version_major": 2,
       "version_minor": 0
      },
      "text/plain": [
       "  0%|          | 0/9 [00:00<?, ?it/s]"
      ]
     },
     "metadata": {},
     "output_type": "display_data"
    },
    {
     "name": "stdout",
     "output_type": "stream",
     "text": [
      "0.5576171875 ARE TRUE\n",
      "8.732876712328768 AVG DIFF\n",
      "108 EPOCHS SINCE BEST LOSS OF 1.1750994539260864\n",
      "--------------------------------------\n",
      "EPOCH 109\n"
     ]
    },
    {
     "data": {
      "application/vnd.jupyter.widget-view+json": {
       "model_id": "4d3b22cad50841a58c14c24d7643e23e",
       "version_major": 2,
       "version_minor": 0
      },
      "text/plain": [
       "  0%|          | 0/976 [00:00<?, ?it/s]"
      ]
     },
     "metadata": {},
     "output_type": "display_data"
    },
    {
     "data": {
      "application/vnd.jupyter.widget-view+json": {
       "model_id": "573951de9e2344879f7f34a0ac192ff8",
       "version_major": 2,
       "version_minor": 0
      },
      "text/plain": [
       "  0%|          | 0/50 [00:00<?, ?it/s]"
      ]
     },
     "metadata": {},
     "output_type": "display_data"
    },
    {
     "name": "stdout",
     "output_type": "stream",
     "text": [
      "L2 of 50019.9375\n",
      "TEST ERROR OF 2.36582\n",
      "Generating samples with temp of 0 topk of 5 and topp of 0.75\n"
     ]
    },
    {
     "data": {
      "application/vnd.jupyter.widget-view+json": {
       "model_id": "52329290c35145e9a732d9eaa6f586c6",
       "version_major": 2,
       "version_minor": 0
      },
      "text/plain": [
       "  0%|          | 0/9 [00:00<?, ?it/s]"
      ]
     },
     "metadata": {},
     "output_type": "display_data"
    },
    {
     "name": "stdout",
     "output_type": "stream",
     "text": [
      "0.5166015625 ARE TRUE\n",
      "9.2119140625 AVG DIFF\n",
      "109 EPOCHS SINCE BEST LOSS OF 1.1750994539260864\n",
      "--------------------------------------\n",
      "EPOCH 110\n"
     ]
    },
    {
     "data": {
      "application/vnd.jupyter.widget-view+json": {
       "model_id": "a855bda375da4474a601ffa39f28f63d",
       "version_major": 2,
       "version_minor": 0
      },
      "text/plain": [
       "  0%|          | 0/976 [00:00<?, ?it/s]"
      ]
     },
     "metadata": {},
     "output_type": "display_data"
    },
    {
     "data": {
      "application/vnd.jupyter.widget-view+json": {
       "model_id": "2fe06d128d3a437b943177ef8365050c",
       "version_major": 2,
       "version_minor": 0
      },
      "text/plain": [
       "  0%|          | 0/50 [00:00<?, ?it/s]"
      ]
     },
     "metadata": {},
     "output_type": "display_data"
    },
    {
     "name": "stdout",
     "output_type": "stream",
     "text": [
      "L2 of 49485.61328125\n",
      "TEST ERROR OF 2.33739\n",
      "Generating samples with temp of 0 topk of 5 and topp of 0.75\n"
     ]
    },
    {
     "data": {
      "application/vnd.jupyter.widget-view+json": {
       "model_id": "30704a2445854bad9d3ab15e088833c5",
       "version_major": 2,
       "version_minor": 0
      },
      "text/plain": [
       "  0%|          | 0/9 [00:00<?, ?it/s]"
      ]
     },
     "metadata": {},
     "output_type": "display_data"
    },
    {
     "name": "stdout",
     "output_type": "stream",
     "text": [
      "0.53125 ARE TRUE\n",
      "7.824853228962818 AVG DIFF\n",
      "110 EPOCHS SINCE BEST LOSS OF 1.1750994539260864\n",
      "--------------------------------------\n",
      "EPOCH 111\n"
     ]
    },
    {
     "data": {
      "application/vnd.jupyter.widget-view+json": {
       "model_id": "4f521cc871e74d0ab8a8ff84ec7387d5",
       "version_major": 2,
       "version_minor": 0
      },
      "text/plain": [
       "  0%|          | 0/976 [00:00<?, ?it/s]"
      ]
     },
     "metadata": {},
     "output_type": "display_data"
    },
    {
     "data": {
      "application/vnd.jupyter.widget-view+json": {
       "model_id": "4f78d012df8341eebb49c5e1d51a4ab0",
       "version_major": 2,
       "version_minor": 0
      },
      "text/plain": [
       "  0%|          | 0/50 [00:00<?, ?it/s]"
      ]
     },
     "metadata": {},
     "output_type": "display_data"
    },
    {
     "name": "stdout",
     "output_type": "stream",
     "text": [
      "L2 of 49694.4296875\n",
      "TEST ERROR OF 2.22674\n",
      "Generating samples with temp of 0 topk of 5 and topp of 0.75\n"
     ]
    },
    {
     "data": {
      "application/vnd.jupyter.widget-view+json": {
       "model_id": "0ef7835e71b54f2bbcfe7721e6aade62",
       "version_major": 2,
       "version_minor": 0
      },
      "text/plain": [
       "  0%|          | 0/9 [00:00<?, ?it/s]"
      ]
     },
     "metadata": {},
     "output_type": "display_data"
    },
    {
     "name": "stdout",
     "output_type": "stream",
     "text": [
      "0.513671875 ARE TRUE\n",
      "9.6728515625 AVG DIFF\n",
      "111 EPOCHS SINCE BEST LOSS OF 1.1750994539260864\n",
      "--------------------------------------\n",
      "EPOCH 112\n"
     ]
    },
    {
     "data": {
      "application/vnd.jupyter.widget-view+json": {
       "model_id": "894d7e11221040998fca00f9a5e2afcb",
       "version_major": 2,
       "version_minor": 0
      },
      "text/plain": [
       "  0%|          | 0/976 [00:00<?, ?it/s]"
      ]
     },
     "metadata": {},
     "output_type": "display_data"
    },
    {
     "data": {
      "application/vnd.jupyter.widget-view+json": {
       "model_id": "1eeab98a48e342d481cf86d27ad9ddaf",
       "version_major": 2,
       "version_minor": 0
      },
      "text/plain": [
       "  0%|          | 0/50 [00:00<?, ?it/s]"
      ]
     },
     "metadata": {},
     "output_type": "display_data"
    },
    {
     "name": "stdout",
     "output_type": "stream",
     "text": [
      "L2 of 49518.66015625\n",
      "TEST ERROR OF 2.37241\n",
      "Generating samples with temp of 0 topk of 5 and topp of 0.75\n"
     ]
    },
    {
     "data": {
      "application/vnd.jupyter.widget-view+json": {
       "model_id": "c27bf817f6fc462e8c0f4dcf006ad0a3",
       "version_major": 2,
       "version_minor": 0
      },
      "text/plain": [
       "  0%|          | 0/9 [00:00<?, ?it/s]"
      ]
     },
     "metadata": {},
     "output_type": "display_data"
    },
    {
     "name": "stdout",
     "output_type": "stream",
     "text": [
      "0.521484375 ARE TRUE\n",
      "8.486328125 AVG DIFF\n",
      "112 EPOCHS SINCE BEST LOSS OF 1.1750994539260864\n",
      "--------------------------------------\n",
      "EPOCH 113\n"
     ]
    },
    {
     "data": {
      "application/vnd.jupyter.widget-view+json": {
       "model_id": "aa7e0e670866435c97a7ff437fe683b9",
       "version_major": 2,
       "version_minor": 0
      },
      "text/plain": [
       "  0%|          | 0/976 [00:00<?, ?it/s]"
      ]
     },
     "metadata": {},
     "output_type": "display_data"
    },
    {
     "data": {
      "application/vnd.jupyter.widget-view+json": {
       "model_id": "bfac9d0c461a420c8872f8f31ddd1b74",
       "version_major": 2,
       "version_minor": 0
      },
      "text/plain": [
       "  0%|          | 0/50 [00:00<?, ?it/s]"
      ]
     },
     "metadata": {},
     "output_type": "display_data"
    },
    {
     "name": "stdout",
     "output_type": "stream",
     "text": [
      "L2 of 49310.140625\n",
      "TEST ERROR OF 2.3451\n",
      "Generating samples with temp of 0 topk of 5 and topp of 0.75\n"
     ]
    },
    {
     "data": {
      "application/vnd.jupyter.widget-view+json": {
       "model_id": "3da38bbed87f4e30b827e0d1b2ad92bd",
       "version_major": 2,
       "version_minor": 0
      },
      "text/plain": [
       "  0%|          | 0/9 [00:00<?, ?it/s]"
      ]
     },
     "metadata": {},
     "output_type": "display_data"
    },
    {
     "name": "stdout",
     "output_type": "stream",
     "text": [
      "0.5478515625 ARE TRUE\n",
      "7.204301075268817 AVG DIFF\n",
      "113 EPOCHS SINCE BEST LOSS OF 1.1750994539260864\n",
      "--------------------------------------\n",
      "EPOCH 114\n"
     ]
    },
    {
     "data": {
      "application/vnd.jupyter.widget-view+json": {
       "model_id": "dfef7462f740478b8c894e49fc98fdd6",
       "version_major": 2,
       "version_minor": 0
      },
      "text/plain": [
       "  0%|          | 0/976 [00:00<?, ?it/s]"
      ]
     },
     "metadata": {},
     "output_type": "display_data"
    },
    {
     "data": {
      "application/vnd.jupyter.widget-view+json": {
       "model_id": "9a61fc5d110f4b478a13cce5f1bb415b",
       "version_major": 2,
       "version_minor": 0
      },
      "text/plain": [
       "  0%|          | 0/50 [00:00<?, ?it/s]"
      ]
     },
     "metadata": {},
     "output_type": "display_data"
    },
    {
     "name": "stdout",
     "output_type": "stream",
     "text": [
      "L2 of 49395.421875\n",
      "TEST ERROR OF 2.42475\n",
      "Generating samples with temp of 0 topk of 5 and topp of 0.75\n"
     ]
    },
    {
     "data": {
      "application/vnd.jupyter.widget-view+json": {
       "model_id": "accfa20f7b184bc5851fc3ebcfe1f676",
       "version_major": 2,
       "version_minor": 0
      },
      "text/plain": [
       "  0%|          | 0/9 [00:00<?, ?it/s]"
      ]
     },
     "metadata": {},
     "output_type": "display_data"
    },
    {
     "name": "stdout",
     "output_type": "stream",
     "text": [
      "0.5 ARE TRUE\n",
      "8.17106549364614 AVG DIFF\n",
      "114 EPOCHS SINCE BEST LOSS OF 1.1750994539260864\n",
      "--------------------------------------\n",
      "EPOCH 115\n"
     ]
    },
    {
     "data": {
      "application/vnd.jupyter.widget-view+json": {
       "model_id": "dcd6738a440f4b97af4547c9532a1377",
       "version_major": 2,
       "version_minor": 0
      },
      "text/plain": [
       "  0%|          | 0/976 [00:00<?, ?it/s]"
      ]
     },
     "metadata": {},
     "output_type": "display_data"
    },
    {
     "data": {
      "application/vnd.jupyter.widget-view+json": {
       "model_id": "c0ac8e45555d48a8aad41b5d2976f1d1",
       "version_major": 2,
       "version_minor": 0
      },
      "text/plain": [
       "  0%|          | 0/50 [00:00<?, ?it/s]"
      ]
     },
     "metadata": {},
     "output_type": "display_data"
    },
    {
     "name": "stdout",
     "output_type": "stream",
     "text": [
      "L2 of 49552.24609375\n",
      "TEST ERROR OF 2.38303\n",
      "Generating samples with temp of 0 topk of 5 and topp of 0.75\n"
     ]
    },
    {
     "data": {
      "application/vnd.jupyter.widget-view+json": {
       "model_id": "619b07a1e06d419e961cad2296a6ce25",
       "version_major": 2,
       "version_minor": 0
      },
      "text/plain": [
       "  0%|          | 0/9 [00:00<?, ?it/s]"
      ]
     },
     "metadata": {},
     "output_type": "display_data"
    },
    {
     "name": "stdout",
     "output_type": "stream",
     "text": [
      "0.5126953125 ARE TRUE\n",
      "8.592156862745098 AVG DIFF\n",
      "115 EPOCHS SINCE BEST LOSS OF 1.1750994539260864\n",
      "--------------------------------------\n",
      "EPOCH 116\n"
     ]
    },
    {
     "data": {
      "application/vnd.jupyter.widget-view+json": {
       "model_id": "8b5ee23295624308a3fc8d11eacc4755",
       "version_major": 2,
       "version_minor": 0
      },
      "text/plain": [
       "  0%|          | 0/976 [00:00<?, ?it/s]"
      ]
     },
     "metadata": {},
     "output_type": "display_data"
    },
    {
     "data": {
      "application/vnd.jupyter.widget-view+json": {
       "model_id": "23f36543596e4ace98bcd79fd20fb963",
       "version_major": 2,
       "version_minor": 0
      },
      "text/plain": [
       "  0%|          | 0/50 [00:00<?, ?it/s]"
      ]
     },
     "metadata": {},
     "output_type": "display_data"
    },
    {
     "name": "stdout",
     "output_type": "stream",
     "text": [
      "L2 of 49480.2734375\n",
      "TEST ERROR OF 2.32758\n",
      "Generating samples with temp of 0 topk of 5 and topp of 0.75\n"
     ]
    },
    {
     "data": {
      "application/vnd.jupyter.widget-view+json": {
       "model_id": "d73d08fca1c24194bc104d8d7a0403a0",
       "version_major": 2,
       "version_minor": 0
      },
      "text/plain": [
       "  0%|          | 0/9 [00:00<?, ?it/s]"
      ]
     },
     "metadata": {},
     "output_type": "display_data"
    },
    {
     "name": "stdout",
     "output_type": "stream",
     "text": [
      "0.5283203125 ARE TRUE\n",
      "7.749510763209393 AVG DIFF\n",
      "116 EPOCHS SINCE BEST LOSS OF 1.1750994539260864\n",
      "--------------------------------------\n",
      "EPOCH 117\n"
     ]
    },
    {
     "data": {
      "application/vnd.jupyter.widget-view+json": {
       "model_id": "8f630641b2f64a33983c45f4992eaff4",
       "version_major": 2,
       "version_minor": 0
      },
      "text/plain": [
       "  0%|          | 0/976 [00:00<?, ?it/s]"
      ]
     },
     "metadata": {},
     "output_type": "display_data"
    },
    {
     "data": {
      "application/vnd.jupyter.widget-view+json": {
       "model_id": "4d74afabdc154ea9ad568eaa7e60c79f",
       "version_major": 2,
       "version_minor": 0
      },
      "text/plain": [
       "  0%|          | 0/50 [00:00<?, ?it/s]"
      ]
     },
     "metadata": {},
     "output_type": "display_data"
    },
    {
     "name": "stdout",
     "output_type": "stream",
     "text": [
      "L2 of 49892.03515625\n",
      "TEST ERROR OF 2.31513\n",
      "Generating samples with temp of 0 topk of 5 and topp of 0.75\n"
     ]
    },
    {
     "data": {
      "application/vnd.jupyter.widget-view+json": {
       "model_id": "a6b61fa13fdc4769ad07fac152246197",
       "version_major": 2,
       "version_minor": 0
      },
      "text/plain": [
       "  0%|          | 0/9 [00:00<?, ?it/s]"
      ]
     },
     "metadata": {},
     "output_type": "display_data"
    },
    {
     "name": "stdout",
     "output_type": "stream",
     "text": [
      "0.537109375 ARE TRUE\n",
      "10.356793743890519 AVG DIFF\n",
      "117 EPOCHS SINCE BEST LOSS OF 1.1750994539260864\n",
      "--------------------------------------\n",
      "EPOCH 118\n"
     ]
    },
    {
     "data": {
      "application/vnd.jupyter.widget-view+json": {
       "model_id": "c9730411f3d44b04baa96325fd3e451c",
       "version_major": 2,
       "version_minor": 0
      },
      "text/plain": [
       "  0%|          | 0/976 [00:00<?, ?it/s]"
      ]
     },
     "metadata": {},
     "output_type": "display_data"
    },
    {
     "data": {
      "application/vnd.jupyter.widget-view+json": {
       "model_id": "14893dff93904cd3a7ff82f00a796f1d",
       "version_major": 2,
       "version_minor": 0
      },
      "text/plain": [
       "  0%|          | 0/50 [00:00<?, ?it/s]"
      ]
     },
     "metadata": {},
     "output_type": "display_data"
    },
    {
     "name": "stdout",
     "output_type": "stream",
     "text": [
      "L2 of 49118.91015625\n",
      "TEST ERROR OF 2.24822\n",
      "Generating samples with temp of 0 topk of 5 and topp of 0.75\n"
     ]
    },
    {
     "data": {
      "application/vnd.jupyter.widget-view+json": {
       "model_id": "a783863a474e45439ff5fea86d5d0ed1",
       "version_major": 2,
       "version_minor": 0
      },
      "text/plain": [
       "  0%|          | 0/9 [00:00<?, ?it/s]"
      ]
     },
     "metadata": {},
     "output_type": "display_data"
    },
    {
     "name": "stdout",
     "output_type": "stream",
     "text": [
      "0.5400390625 ARE TRUE\n",
      "7.259765625 AVG DIFF\n",
      "118 EPOCHS SINCE BEST LOSS OF 1.1750994539260864\n",
      "--------------------------------------\n",
      "EPOCH 119\n"
     ]
    },
    {
     "data": {
      "application/vnd.jupyter.widget-view+json": {
       "model_id": "978db90854944983b37a90d3f1e19d5b",
       "version_major": 2,
       "version_minor": 0
      },
      "text/plain": [
       "  0%|          | 0/976 [00:00<?, ?it/s]"
      ]
     },
     "metadata": {},
     "output_type": "display_data"
    },
    {
     "data": {
      "application/vnd.jupyter.widget-view+json": {
       "model_id": "e6e1ded3f4ce4ab1a561368307121ccd",
       "version_major": 2,
       "version_minor": 0
      },
      "text/plain": [
       "  0%|          | 0/50 [00:00<?, ?it/s]"
      ]
     },
     "metadata": {},
     "output_type": "display_data"
    },
    {
     "name": "stdout",
     "output_type": "stream",
     "text": [
      "L2 of 48549.22265625\n",
      "TEST ERROR OF 2.3671\n",
      "Generating samples with temp of 0 topk of 5 and topp of 0.75\n"
     ]
    },
    {
     "data": {
      "application/vnd.jupyter.widget-view+json": {
       "model_id": "f998d43e494545c0bca94d3b3ea2933e",
       "version_major": 2,
       "version_minor": 0
      },
      "text/plain": [
       "  0%|          | 0/9 [00:00<?, ?it/s]"
      ]
     },
     "metadata": {},
     "output_type": "display_data"
    },
    {
     "name": "stdout",
     "output_type": "stream",
     "text": [
      "0.544921875 ARE TRUE\n",
      "7.3583984375 AVG DIFF\n",
      "119 EPOCHS SINCE BEST LOSS OF 1.1750994539260864\n",
      "--------------------------------------\n",
      "EPOCH 120\n"
     ]
    },
    {
     "data": {
      "application/vnd.jupyter.widget-view+json": {
       "model_id": "b04af3e7f30840588e564c4179ead24c",
       "version_major": 2,
       "version_minor": 0
      },
      "text/plain": [
       "  0%|          | 0/976 [00:00<?, ?it/s]"
      ]
     },
     "metadata": {},
     "output_type": "display_data"
    },
    {
     "data": {
      "application/vnd.jupyter.widget-view+json": {
       "model_id": "927128f4632548239002776feb101469",
       "version_major": 2,
       "version_minor": 0
      },
      "text/plain": [
       "  0%|          | 0/50 [00:00<?, ?it/s]"
      ]
     },
     "metadata": {},
     "output_type": "display_data"
    },
    {
     "name": "stdout",
     "output_type": "stream",
     "text": [
      "L2 of 48903.56640625\n",
      "TEST ERROR OF 2.29022\n",
      "Generating samples with temp of 0 topk of 5 and topp of 0.75\n"
     ]
    },
    {
     "data": {
      "application/vnd.jupyter.widget-view+json": {
       "model_id": "d0045cd5d86941eeb538c0bdee4bbe8f",
       "version_major": 2,
       "version_minor": 0
      },
      "text/plain": [
       "  0%|          | 0/9 [00:00<?, ?it/s]"
      ]
     },
     "metadata": {},
     "output_type": "display_data"
    },
    {
     "name": "stdout",
     "output_type": "stream",
     "text": [
      "0.5283203125 ARE TRUE\n",
      "8.080156402737048 AVG DIFF\n",
      "120 EPOCHS SINCE BEST LOSS OF 1.1750994539260864\n",
      "--------------------------------------\n",
      "EPOCH 121\n"
     ]
    },
    {
     "data": {
      "application/vnd.jupyter.widget-view+json": {
       "model_id": "2cf3da5344e04e028c98dabcec4b8545",
       "version_major": 2,
       "version_minor": 0
      },
      "text/plain": [
       "  0%|          | 0/976 [00:00<?, ?it/s]"
      ]
     },
     "metadata": {},
     "output_type": "display_data"
    },
    {
     "data": {
      "application/vnd.jupyter.widget-view+json": {
       "model_id": "e52b710629a941adaa9d863421867f76",
       "version_major": 2,
       "version_minor": 0
      },
      "text/plain": [
       "  0%|          | 0/50 [00:00<?, ?it/s]"
      ]
     },
     "metadata": {},
     "output_type": "display_data"
    },
    {
     "name": "stdout",
     "output_type": "stream",
     "text": [
      "L2 of 48394.56640625\n",
      "TEST ERROR OF 2.39348\n",
      "Generating samples with temp of 0 topk of 5 and topp of 0.75\n"
     ]
    },
    {
     "data": {
      "application/vnd.jupyter.widget-view+json": {
       "model_id": "502340f56ae84507878866de7bc4e15e",
       "version_major": 2,
       "version_minor": 0
      },
      "text/plain": [
       "  0%|          | 0/9 [00:00<?, ?it/s]"
      ]
     },
     "metadata": {},
     "output_type": "display_data"
    },
    {
     "name": "stdout",
     "output_type": "stream",
     "text": [
      "0.517578125 ARE TRUE\n",
      "10.662756598240469 AVG DIFF\n",
      "122 EPOCHS SINCE BEST LOSS OF 1.1750994539260864\n",
      "--------------------------------------\n",
      "EPOCH 123\n"
     ]
    },
    {
     "data": {
      "application/vnd.jupyter.widget-view+json": {
       "model_id": "8d010a2294224290b43f95b0a2bd38dc",
       "version_major": 2,
       "version_minor": 0
      },
      "text/plain": [
       "  0%|          | 0/976 [00:00<?, ?it/s]"
      ]
     },
     "metadata": {},
     "output_type": "display_data"
    },
    {
     "name": "stderr",
     "output_type": "stream",
     "text": [
      "IOPub message rate exceeded.\n",
      "The Jupyter server will temporarily stop sending output\n",
      "to the client in order to avoid crashing it.\n",
      "To change this limit, set the config variable\n",
      "`--ServerApp.iopub_msg_rate_limit`.\n",
      "\n",
      "Current values:\n",
      "ServerApp.iopub_msg_rate_limit=1000.0 (msgs/sec)\n",
      "ServerApp.rate_limit_window=3.0 (secs)\n",
      "\n"
     ]
    },
    {
     "data": {
      "application/vnd.jupyter.widget-view+json": {
       "model_id": "bc9298bde53c4e5cb4209f4291a25383",
       "version_major": 2,
       "version_minor": 0
      },
      "text/plain": [
       "  0%|          | 0/50 [00:00<?, ?it/s]"
      ]
     },
     "metadata": {},
     "output_type": "display_data"
    },
    {
     "name": "stdout",
     "output_type": "stream",
     "text": [
      "L2 of 47441.8046875\n",
      "TEST ERROR OF 2.18537\n",
      "Generating samples with temp of 0 topk of 5 and topp of 0.75\n"
     ]
    },
    {
     "data": {
      "application/vnd.jupyter.widget-view+json": {
       "model_id": "4a63d64828404bd898e334bbab153561",
       "version_major": 2,
       "version_minor": 0
      },
      "text/plain": [
       "  0%|          | 0/9 [00:00<?, ?it/s]"
      ]
     },
     "metadata": {},
     "output_type": "display_data"
    },
    {
     "name": "stdout",
     "output_type": "stream",
     "text": [
      "0.5322265625 ARE TRUE\n",
      "8.545009784735813 AVG DIFF\n",
      "137 EPOCHS SINCE BEST LOSS OF 1.1750994539260864\n",
      "--------------------------------------\n",
      "EPOCH 138\n"
     ]
    },
    {
     "data": {
      "application/vnd.jupyter.widget-view+json": {
       "model_id": "580ddb533aa64f18a81b9a3a34b93188",
       "version_major": 2,
       "version_minor": 0
      },
      "text/plain": [
       "  0%|          | 0/976 [00:00<?, ?it/s]"
      ]
     },
     "metadata": {},
     "output_type": "display_data"
    },
    {
     "data": {
      "application/vnd.jupyter.widget-view+json": {
       "model_id": "a6a932115a664c1faf5b567c8e611e8a",
       "version_major": 2,
       "version_minor": 0
      },
      "text/plain": [
       "  0%|          | 0/50 [00:00<?, ?it/s]"
      ]
     },
     "metadata": {},
     "output_type": "display_data"
    },
    {
     "name": "stdout",
     "output_type": "stream",
     "text": [
      "L2 of 47209.91796875\n",
      "TEST ERROR OF 2.34341\n",
      "Generating samples with temp of 0 topk of 5 and topp of 0.75\n"
     ]
    },
    {
     "data": {
      "application/vnd.jupyter.widget-view+json": {
       "model_id": "a81545f4cd824201adbd0d9fc254b426",
       "version_major": 2,
       "version_minor": 0
      },
      "text/plain": [
       "  0%|          | 0/9 [00:00<?, ?it/s]"
      ]
     },
     "metadata": {},
     "output_type": "display_data"
    },
    {
     "name": "stdout",
     "output_type": "stream",
     "text": [
      "0.517578125 ARE TRUE\n",
      "7.650390625 AVG DIFF\n",
      "138 EPOCHS SINCE BEST LOSS OF 1.1750994539260864\n",
      "--------------------------------------\n",
      "EPOCH 139\n"
     ]
    },
    {
     "data": {
      "application/vnd.jupyter.widget-view+json": {
       "model_id": "ee04cc7f0cfa4861903fe2f6676bf07a",
       "version_major": 2,
       "version_minor": 0
      },
      "text/plain": [
       "  0%|          | 0/976 [00:00<?, ?it/s]"
      ]
     },
     "metadata": {},
     "output_type": "display_data"
    },
    {
     "data": {
      "application/vnd.jupyter.widget-view+json": {
       "model_id": "2a4febbea9864e6a87f61a9670cc2077",
       "version_major": 2,
       "version_minor": 0
      },
      "text/plain": [
       "  0%|          | 0/50 [00:00<?, ?it/s]"
      ]
     },
     "metadata": {},
     "output_type": "display_data"
    },
    {
     "name": "stdout",
     "output_type": "stream",
     "text": [
      "L2 of 47526.12109375\n",
      "TEST ERROR OF 2.3008\n",
      "Generating samples with temp of 0 topk of 5 and topp of 0.75\n"
     ]
    },
    {
     "data": {
      "application/vnd.jupyter.widget-view+json": {
       "model_id": "6bfc49b362e64a559329d503947baee4",
       "version_major": 2,
       "version_minor": 0
      },
      "text/plain": [
       "  0%|          | 0/9 [00:00<?, ?it/s]"
      ]
     },
     "metadata": {},
     "output_type": "display_data"
    },
    {
     "name": "stdout",
     "output_type": "stream",
     "text": [
      "0.5380859375 ARE TRUE\n",
      "8.160626836434869 AVG DIFF\n",
      "139 EPOCHS SINCE BEST LOSS OF 1.1750994539260864\n",
      "--------------------------------------\n",
      "EPOCH 140\n"
     ]
    },
    {
     "data": {
      "application/vnd.jupyter.widget-view+json": {
       "model_id": "5163dee3b0b44682af3a01ba9e724378",
       "version_major": 2,
       "version_minor": 0
      },
      "text/plain": [
       "  0%|          | 0/976 [00:00<?, ?it/s]"
      ]
     },
     "metadata": {},
     "output_type": "display_data"
    },
    {
     "data": {
      "application/vnd.jupyter.widget-view+json": {
       "model_id": "d4027d30caad494b80164356e465854c",
       "version_major": 2,
       "version_minor": 0
      },
      "text/plain": [
       "  0%|          | 0/50 [00:00<?, ?it/s]"
      ]
     },
     "metadata": {},
     "output_type": "display_data"
    },
    {
     "name": "stdout",
     "output_type": "stream",
     "text": [
      "L2 of 47960.9296875\n",
      "TEST ERROR OF 2.31927\n",
      "Generating samples with temp of 0 topk of 5 and topp of 0.75\n"
     ]
    },
    {
     "data": {
      "application/vnd.jupyter.widget-view+json": {
       "model_id": "412dffdb799747f89955965e0ae885c8",
       "version_major": 2,
       "version_minor": 0
      },
      "text/plain": [
       "  0%|          | 0/9 [00:00<?, ?it/s]"
      ]
     },
     "metadata": {},
     "output_type": "display_data"
    },
    {
     "name": "stdout",
     "output_type": "stream",
     "text": [
      "0.5283203125 ARE TRUE\n",
      "10.188845401174168 AVG DIFF\n",
      "140 EPOCHS SINCE BEST LOSS OF 1.1750994539260864\n",
      "--------------------------------------\n",
      "EPOCH 141\n"
     ]
    },
    {
     "data": {
      "application/vnd.jupyter.widget-view+json": {
       "model_id": "1b9cac5befe84c49be4a7d85319ff913",
       "version_major": 2,
       "version_minor": 0
      },
      "text/plain": [
       "  0%|          | 0/976 [00:00<?, ?it/s]"
      ]
     },
     "metadata": {},
     "output_type": "display_data"
    },
    {
     "data": {
      "application/vnd.jupyter.widget-view+json": {
       "model_id": "51e7f08f922c4646b992eb6798a0f3c5",
       "version_major": 2,
       "version_minor": 0
      },
      "text/plain": [
       "  0%|          | 0/50 [00:00<?, ?it/s]"
      ]
     },
     "metadata": {},
     "output_type": "display_data"
    },
    {
     "name": "stdout",
     "output_type": "stream",
     "text": [
      "L2 of 47792.53125\n",
      "TEST ERROR OF 2.34751\n",
      "Generating samples with temp of 0 topk of 5 and topp of 0.75\n"
     ]
    },
    {
     "data": {
      "application/vnd.jupyter.widget-view+json": {
       "model_id": "90a609fd819b426fbf19a3497c0b93c9",
       "version_major": 2,
       "version_minor": 0
      },
      "text/plain": [
       "  0%|          | 0/9 [00:00<?, ?it/s]"
      ]
     },
     "metadata": {},
     "output_type": "display_data"
    },
    {
     "name": "stdout",
     "output_type": "stream",
     "text": [
      "0.5439453125 ARE TRUE\n",
      "8.619373776908024 AVG DIFF\n",
      "141 EPOCHS SINCE BEST LOSS OF 1.1750994539260864\n",
      "--------------------------------------\n",
      "EPOCH 142\n"
     ]
    },
    {
     "data": {
      "application/vnd.jupyter.widget-view+json": {
       "model_id": "d4d83e1f910b4520a2d3f14668272170",
       "version_major": 2,
       "version_minor": 0
      },
      "text/plain": [
       "  0%|          | 0/976 [00:00<?, ?it/s]"
      ]
     },
     "metadata": {},
     "output_type": "display_data"
    },
    {
     "data": {
      "application/vnd.jupyter.widget-view+json": {
       "model_id": "586ae37d4b8b4895985afe3dd73ef2c9",
       "version_major": 2,
       "version_minor": 0
      },
      "text/plain": [
       "  0%|          | 0/50 [00:00<?, ?it/s]"
      ]
     },
     "metadata": {},
     "output_type": "display_data"
    },
    {
     "name": "stdout",
     "output_type": "stream",
     "text": [
      "L2 of 47031.5625\n",
      "TEST ERROR OF 2.38568\n",
      "Generating samples with temp of 0 topk of 5 and topp of 0.75\n"
     ]
    },
    {
     "data": {
      "application/vnd.jupyter.widget-view+json": {
       "model_id": "e8ddb72854bc470392c8296c30fddf8b",
       "version_major": 2,
       "version_minor": 0
      },
      "text/plain": [
       "  0%|          | 0/9 [00:00<?, ?it/s]"
      ]
     },
     "metadata": {},
     "output_type": "display_data"
    },
    {
     "name": "stdout",
     "output_type": "stream",
     "text": [
      "0.5029296875 ARE TRUE\n",
      "7.690127077223852 AVG DIFF\n",
      "142 EPOCHS SINCE BEST LOSS OF 1.1750994539260864\n",
      "--------------------------------------\n",
      "EPOCH 143\n"
     ]
    },
    {
     "data": {
      "application/vnd.jupyter.widget-view+json": {
       "model_id": "a0cd93432d5841c3b5dd57c25d4d01b0",
       "version_major": 2,
       "version_minor": 0
      },
      "text/plain": [
       "  0%|          | 0/976 [00:00<?, ?it/s]"
      ]
     },
     "metadata": {},
     "output_type": "display_data"
    },
    {
     "data": {
      "application/vnd.jupyter.widget-view+json": {
       "model_id": "4115ee3852d7499b88ce2cef2e8d0e2a",
       "version_major": 2,
       "version_minor": 0
      },
      "text/plain": [
       "  0%|          | 0/50 [00:00<?, ?it/s]"
      ]
     },
     "metadata": {},
     "output_type": "display_data"
    },
    {
     "name": "stdout",
     "output_type": "stream",
     "text": [
      "L2 of 46769.80078125\n",
      "TEST ERROR OF 2.34464\n",
      "Generating samples with temp of 0 topk of 5 and topp of 0.75\n"
     ]
    },
    {
     "data": {
      "application/vnd.jupyter.widget-view+json": {
       "model_id": "dcb7f849bdc946c5b6eda8be7d2da825",
       "version_major": 2,
       "version_minor": 0
      },
      "text/plain": [
       "  0%|          | 0/9 [00:00<?, ?it/s]"
      ]
     },
     "metadata": {},
     "output_type": "display_data"
    },
    {
     "name": "stdout",
     "output_type": "stream",
     "text": [
      "0.51171875 ARE TRUE\n",
      "8.6015625 AVG DIFF\n",
      "143 EPOCHS SINCE BEST LOSS OF 1.1750994539260864\n",
      "--------------------------------------\n",
      "EPOCH 144\n"
     ]
    },
    {
     "data": {
      "application/vnd.jupyter.widget-view+json": {
       "model_id": "39245c528df648ad847759993d11f670",
       "version_major": 2,
       "version_minor": 0
      },
      "text/plain": [
       "  0%|          | 0/976 [00:00<?, ?it/s]"
      ]
     },
     "metadata": {},
     "output_type": "display_data"
    },
    {
     "data": {
      "application/vnd.jupyter.widget-view+json": {
       "model_id": "5b9b072619864ecf8bb4b3a9666c4e69",
       "version_major": 2,
       "version_minor": 0
      },
      "text/plain": [
       "  0%|          | 0/50 [00:00<?, ?it/s]"
      ]
     },
     "metadata": {},
     "output_type": "display_data"
    },
    {
     "name": "stdout",
     "output_type": "stream",
     "text": [
      "L2 of 46921.234375\n",
      "TEST ERROR OF 2.38875\n",
      "Generating samples with temp of 0 topk of 5 and topp of 0.75\n"
     ]
    },
    {
     "data": {
      "application/vnd.jupyter.widget-view+json": {
       "model_id": "8562ddc3f0cd4136a1d6494d1e599ff7",
       "version_major": 2,
       "version_minor": 0
      },
      "text/plain": [
       "  0%|          | 0/9 [00:00<?, ?it/s]"
      ]
     },
     "metadata": {},
     "output_type": "display_data"
    },
    {
     "name": "stdout",
     "output_type": "stream",
     "text": [
      "0.521484375 ARE TRUE\n",
      "9.42270058708415 AVG DIFF\n",
      "144 EPOCHS SINCE BEST LOSS OF 1.1750994539260864\n",
      "--------------------------------------\n",
      "EPOCH 145\n"
     ]
    },
    {
     "data": {
      "application/vnd.jupyter.widget-view+json": {
       "model_id": "7e683fd55a02404dad189116a9e1b71b",
       "version_major": 2,
       "version_minor": 0
      },
      "text/plain": [
       "  0%|          | 0/976 [00:00<?, ?it/s]"
      ]
     },
     "metadata": {},
     "output_type": "display_data"
    },
    {
     "data": {
      "application/vnd.jupyter.widget-view+json": {
       "model_id": "d77ae27743c645d48f6ff900eee425ca",
       "version_major": 2,
       "version_minor": 0
      },
      "text/plain": [
       "  0%|          | 0/50 [00:00<?, ?it/s]"
      ]
     },
     "metadata": {},
     "output_type": "display_data"
    },
    {
     "name": "stdout",
     "output_type": "stream",
     "text": [
      "L2 of 46792.73046875\n",
      "TEST ERROR OF 2.3776\n",
      "Generating samples with temp of 0 topk of 5 and topp of 0.75\n"
     ]
    },
    {
     "data": {
      "application/vnd.jupyter.widget-view+json": {
       "model_id": "233f199da5094b788e8cd28532c7de62",
       "version_major": 2,
       "version_minor": 0
      },
      "text/plain": [
       "  0%|          | 0/9 [00:00<?, ?it/s]"
      ]
     },
     "metadata": {},
     "output_type": "display_data"
    },
    {
     "name": "stdout",
     "output_type": "stream",
     "text": [
      "0.541015625 ARE TRUE\n",
      "7.204121687929343 AVG DIFF\n",
      "145 EPOCHS SINCE BEST LOSS OF 1.1750994539260864\n",
      "--------------------------------------\n",
      "EPOCH 146\n"
     ]
    },
    {
     "data": {
      "application/vnd.jupyter.widget-view+json": {
       "model_id": "0e834dfb99c14454a68b99e9b737fa93",
       "version_major": 2,
       "version_minor": 0
      },
      "text/plain": [
       "  0%|          | 0/976 [00:00<?, ?it/s]"
      ]
     },
     "metadata": {},
     "output_type": "display_data"
    },
    {
     "data": {
      "application/vnd.jupyter.widget-view+json": {
       "model_id": "4335409a42b34e91b12ca273de87313c",
       "version_major": 2,
       "version_minor": 0
      },
      "text/plain": [
       "  0%|          | 0/50 [00:00<?, ?it/s]"
      ]
     },
     "metadata": {},
     "output_type": "display_data"
    },
    {
     "name": "stdout",
     "output_type": "stream",
     "text": [
      "L2 of 46867.953125\n",
      "TEST ERROR OF 2.38574\n",
      "Generating samples with temp of 0 topk of 5 and topp of 0.75\n"
     ]
    },
    {
     "data": {
      "application/vnd.jupyter.widget-view+json": {
       "model_id": "ef132f47d4ea49c4a606b59b6a416764",
       "version_major": 2,
       "version_minor": 0
      },
      "text/plain": [
       "  0%|          | 0/9 [00:00<?, ?it/s]"
      ]
     },
     "metadata": {},
     "output_type": "display_data"
    },
    {
     "name": "stdout",
     "output_type": "stream",
     "text": [
      "0.5478515625 ARE TRUE\n",
      "9.289911851126346 AVG DIFF\n",
      "146 EPOCHS SINCE BEST LOSS OF 1.1750994539260864\n",
      "--------------------------------------\n",
      "EPOCH 147\n"
     ]
    },
    {
     "data": {
      "application/vnd.jupyter.widget-view+json": {
       "model_id": "0c12b32e52b84ea1be93e8c91c47642e",
       "version_major": 2,
       "version_minor": 0
      },
      "text/plain": [
       "  0%|          | 0/976 [00:00<?, ?it/s]"
      ]
     },
     "metadata": {},
     "output_type": "display_data"
    },
    {
     "data": {
      "application/vnd.jupyter.widget-view+json": {
       "model_id": "2bdeefd6f9e14f85ab3dc28cc897cc50",
       "version_major": 2,
       "version_minor": 0
      },
      "text/plain": [
       "  0%|          | 0/50 [00:00<?, ?it/s]"
      ]
     },
     "metadata": {},
     "output_type": "display_data"
    },
    {
     "name": "stdout",
     "output_type": "stream",
     "text": [
      "L2 of 46930.92578125\n",
      "TEST ERROR OF 2.37348\n",
      "Generating samples with temp of 0 topk of 5 and topp of 0.75\n"
     ]
    },
    {
     "data": {
      "application/vnd.jupyter.widget-view+json": {
       "model_id": "511d4246092a432dbb79cbbbf5bb6f56",
       "version_major": 2,
       "version_minor": 0
      },
      "text/plain": [
       "  0%|          | 0/9 [00:00<?, ?it/s]"
      ]
     },
     "metadata": {},
     "output_type": "display_data"
    },
    {
     "name": "stdout",
     "output_type": "stream",
     "text": [
      "0.5400390625 ARE TRUE\n",
      "7.526418786692759 AVG DIFF\n",
      "147 EPOCHS SINCE BEST LOSS OF 1.1750994539260864\n",
      "--------------------------------------\n",
      "EPOCH 148\n"
     ]
    },
    {
     "data": {
      "application/vnd.jupyter.widget-view+json": {
       "model_id": "595845f3d34b4842b5b1fcb7d62e1953",
       "version_major": 2,
       "version_minor": 0
      },
      "text/plain": [
       "  0%|          | 0/976 [00:00<?, ?it/s]"
      ]
     },
     "metadata": {},
     "output_type": "display_data"
    },
    {
     "data": {
      "application/vnd.jupyter.widget-view+json": {
       "model_id": "47e6d66e73c74075845108c5dbda2b7b",
       "version_major": 2,
       "version_minor": 0
      },
      "text/plain": [
       "  0%|          | 0/50 [00:00<?, ?it/s]"
      ]
     },
     "metadata": {},
     "output_type": "display_data"
    },
    {
     "name": "stdout",
     "output_type": "stream",
     "text": [
      "L2 of 46313.4296875\n",
      "TEST ERROR OF 2.28947\n",
      "Generating samples with temp of 0 topk of 5 and topp of 0.75\n"
     ]
    },
    {
     "data": {
      "application/vnd.jupyter.widget-view+json": {
       "model_id": "e00048168404429d8910dc1cf19e69ef",
       "version_major": 2,
       "version_minor": 0
      },
      "text/plain": [
       "  0%|          | 0/9 [00:00<?, ?it/s]"
      ]
     },
     "metadata": {},
     "output_type": "display_data"
    },
    {
     "name": "stdout",
     "output_type": "stream",
     "text": [
      "0.5400390625 ARE TRUE\n",
      "7.49412915851272 AVG DIFF\n",
      "148 EPOCHS SINCE BEST LOSS OF 1.1750994539260864\n",
      "--------------------------------------\n",
      "EPOCH 149\n"
     ]
    },
    {
     "data": {
      "application/vnd.jupyter.widget-view+json": {
       "model_id": "af93340f44a944ff9128698a45011e4a",
       "version_major": 2,
       "version_minor": 0
      },
      "text/plain": [
       "  0%|          | 0/976 [00:00<?, ?it/s]"
      ]
     },
     "metadata": {},
     "output_type": "display_data"
    },
    {
     "data": {
      "application/vnd.jupyter.widget-view+json": {
       "model_id": "c25f77db917d47ce8983f5ca25acb52d",
       "version_major": 2,
       "version_minor": 0
      },
      "text/plain": [
       "  0%|          | 0/50 [00:00<?, ?it/s]"
      ]
     },
     "metadata": {},
     "output_type": "display_data"
    },
    {
     "name": "stdout",
     "output_type": "stream",
     "text": [
      "L2 of 46506.92578125\n",
      "TEST ERROR OF 2.29921\n",
      "Generating samples with temp of 0 topk of 5 and topp of 0.75\n"
     ]
    },
    {
     "data": {
      "application/vnd.jupyter.widget-view+json": {
       "model_id": "42a82e41653742339ecacfb96f8242c7",
       "version_major": 2,
       "version_minor": 0
      },
      "text/plain": [
       "  0%|          | 0/9 [00:00<?, ?it/s]"
      ]
     },
     "metadata": {},
     "output_type": "display_data"
    },
    {
     "name": "stdout",
     "output_type": "stream",
     "text": [
      "0.53125 ARE TRUE\n",
      "8.7666015625 AVG DIFF\n",
      "149 EPOCHS SINCE BEST LOSS OF 1.1750994539260864\n",
      "--------------------------------------\n",
      "EPOCH 150\n"
     ]
    },
    {
     "data": {
      "application/vnd.jupyter.widget-view+json": {
       "model_id": "78fb25b90c5446a78368e8758779efb8",
       "version_major": 2,
       "version_minor": 0
      },
      "text/plain": [
       "  0%|          | 0/976 [00:00<?, ?it/s]"
      ]
     },
     "metadata": {},
     "output_type": "display_data"
    },
    {
     "data": {
      "application/vnd.jupyter.widget-view+json": {
       "model_id": "9ac7ec05236040b5adcaacb782080e76",
       "version_major": 2,
       "version_minor": 0
      },
      "text/plain": [
       "  0%|          | 0/50 [00:00<?, ?it/s]"
      ]
     },
     "metadata": {},
     "output_type": "display_data"
    },
    {
     "name": "stdout",
     "output_type": "stream",
     "text": [
      "L2 of 46217.75\n",
      "TEST ERROR OF 2.38475\n",
      "Generating samples with temp of 0 topk of 5 and topp of 0.75\n"
     ]
    },
    {
     "data": {
      "application/vnd.jupyter.widget-view+json": {
       "model_id": "0fedd63f5c424f318f40b6121fb6bc4f",
       "version_major": 2,
       "version_minor": 0
      },
      "text/plain": [
       "  0%|          | 0/9 [00:00<?, ?it/s]"
      ]
     },
     "metadata": {},
     "output_type": "display_data"
    },
    {
     "name": "stdout",
     "output_type": "stream",
     "text": [
      "0.5029296875 ARE TRUE\n",
      "14.76953125 AVG DIFF\n",
      "150 EPOCHS SINCE BEST LOSS OF 1.1750994539260864\n",
      "--------------------------------------\n",
      "EPOCH 151\n"
     ]
    },
    {
     "data": {
      "application/vnd.jupyter.widget-view+json": {
       "model_id": "adf37ba380384195b35df1514bb24a55",
       "version_major": 2,
       "version_minor": 0
      },
      "text/plain": [
       "  0%|          | 0/976 [00:00<?, ?it/s]"
      ]
     },
     "metadata": {},
     "output_type": "display_data"
    },
    {
     "data": {
      "application/vnd.jupyter.widget-view+json": {
       "model_id": "8d3146b1983d4f97adb1d412eaf232cc",
       "version_major": 2,
       "version_minor": 0
      },
      "text/plain": [
       "  0%|          | 0/50 [00:00<?, ?it/s]"
      ]
     },
     "metadata": {},
     "output_type": "display_data"
    },
    {
     "name": "stdout",
     "output_type": "stream",
     "text": [
      "L2 of 46072.01953125\n",
      "TEST ERROR OF 2.41264\n",
      "Generating samples with temp of 0 topk of 5 and topp of 0.75\n"
     ]
    },
    {
     "data": {
      "application/vnd.jupyter.widget-view+json": {
       "model_id": "1d16b2e9f6f14caebdd61ccbddb8169c",
       "version_major": 2,
       "version_minor": 0
      },
      "text/plain": [
       "  0%|          | 0/9 [00:00<?, ?it/s]"
      ]
     },
     "metadata": {},
     "output_type": "display_data"
    },
    {
     "name": "stdout",
     "output_type": "stream",
     "text": [
      "0.51953125 ARE TRUE\n",
      "11.593352883675465 AVG DIFF\n",
      "151 EPOCHS SINCE BEST LOSS OF 1.1750994539260864\n",
      "--------------------------------------\n",
      "EPOCH 152\n"
     ]
    },
    {
     "data": {
      "application/vnd.jupyter.widget-view+json": {
       "model_id": "5166a4276b2849bcba114f974c53e6d0",
       "version_major": 2,
       "version_minor": 0
      },
      "text/plain": [
       "  0%|          | 0/976 [00:00<?, ?it/s]"
      ]
     },
     "metadata": {},
     "output_type": "display_data"
    },
    {
     "data": {
      "application/vnd.jupyter.widget-view+json": {
       "model_id": "58f8183e4d304b0ea97e052258c23389",
       "version_major": 2,
       "version_minor": 0
      },
      "text/plain": [
       "  0%|          | 0/50 [00:00<?, ?it/s]"
      ]
     },
     "metadata": {},
     "output_type": "display_data"
    },
    {
     "name": "stdout",
     "output_type": "stream",
     "text": [
      "L2 of 45860.8828125\n",
      "TEST ERROR OF 2.34989\n",
      "Generating samples with temp of 0 topk of 5 and topp of 0.75\n"
     ]
    },
    {
     "data": {
      "application/vnd.jupyter.widget-view+json": {
       "model_id": "3d7f5f2b8b614c4c8931dd829ed0f8bc",
       "version_major": 2,
       "version_minor": 0
      },
      "text/plain": [
       "  0%|          | 0/9 [00:00<?, ?it/s]"
      ]
     },
     "metadata": {},
     "output_type": "display_data"
    },
    {
     "name": "stdout",
     "output_type": "stream",
     "text": [
      "0.5322265625 ARE TRUE\n",
      "8.01661779081134 AVG DIFF\n",
      "152 EPOCHS SINCE BEST LOSS OF 1.1750994539260864\n",
      "--------------------------------------\n",
      "EPOCH 153\n"
     ]
    },
    {
     "data": {
      "application/vnd.jupyter.widget-view+json": {
       "model_id": "87fd291126be40419fb6239aea046f13",
       "version_major": 2,
       "version_minor": 0
      },
      "text/plain": [
       "  0%|          | 0/976 [00:00<?, ?it/s]"
      ]
     },
     "metadata": {},
     "output_type": "display_data"
    },
    {
     "data": {
      "application/vnd.jupyter.widget-view+json": {
       "model_id": "52ce9697d8d8406ca590dda46e892d7b",
       "version_major": 2,
       "version_minor": 0
      },
      "text/plain": [
       "  0%|          | 0/50 [00:00<?, ?it/s]"
      ]
     },
     "metadata": {},
     "output_type": "display_data"
    },
    {
     "name": "stdout",
     "output_type": "stream",
     "text": [
      "L2 of 45708.61328125\n",
      "TEST ERROR OF 2.3756\n",
      "Generating samples with temp of 0 topk of 5 and topp of 0.75\n"
     ]
    },
    {
     "data": {
      "application/vnd.jupyter.widget-view+json": {
       "model_id": "0c230b09b0de4a30bc77cbdfdbc70245",
       "version_major": 2,
       "version_minor": 0
      },
      "text/plain": [
       "  0%|          | 0/9 [00:00<?, ?it/s]"
      ]
     },
     "metadata": {},
     "output_type": "display_data"
    },
    {
     "name": "stdout",
     "output_type": "stream",
     "text": [
      "0.53125 ARE TRUE\n",
      "7.743639921722114 AVG DIFF\n",
      "153 EPOCHS SINCE BEST LOSS OF 1.1750994539260864\n",
      "--------------------------------------\n",
      "EPOCH 154\n"
     ]
    },
    {
     "data": {
      "application/vnd.jupyter.widget-view+json": {
       "model_id": "41f07cec003a46a5aa3566854216fa45",
       "version_major": 2,
       "version_minor": 0
      },
      "text/plain": [
       "  0%|          | 0/976 [00:00<?, ?it/s]"
      ]
     },
     "metadata": {},
     "output_type": "display_data"
    },
    {
     "data": {
      "application/vnd.jupyter.widget-view+json": {
       "model_id": "f54ad78040104541b6b46aa720c1f291",
       "version_major": 2,
       "version_minor": 0
      },
      "text/plain": [
       "  0%|          | 0/50 [00:00<?, ?it/s]"
      ]
     },
     "metadata": {},
     "output_type": "display_data"
    },
    {
     "name": "stdout",
     "output_type": "stream",
     "text": [
      "L2 of 45933.1796875\n",
      "TEST ERROR OF 2.32702\n",
      "Generating samples with temp of 0 topk of 5 and topp of 0.75\n"
     ]
    },
    {
     "data": {
      "application/vnd.jupyter.widget-view+json": {
       "model_id": "202e80d2df0045d1b2d64c265b9380b7",
       "version_major": 2,
       "version_minor": 0
      },
      "text/plain": [
       "  0%|          | 0/9 [00:00<?, ?it/s]"
      ]
     },
     "metadata": {},
     "output_type": "display_data"
    },
    {
     "name": "stdout",
     "output_type": "stream",
     "text": [
      "0.5390625 ARE TRUE\n",
      "8.61839530332681 AVG DIFF\n",
      "154 EPOCHS SINCE BEST LOSS OF 1.1750994539260864\n",
      "--------------------------------------\n",
      "EPOCH 155\n"
     ]
    },
    {
     "data": {
      "application/vnd.jupyter.widget-view+json": {
       "model_id": "aef648ec81854b1b841b1d7dfc91b1a8",
       "version_major": 2,
       "version_minor": 0
      },
      "text/plain": [
       "  0%|          | 0/976 [00:00<?, ?it/s]"
      ]
     },
     "metadata": {},
     "output_type": "display_data"
    },
    {
     "data": {
      "application/vnd.jupyter.widget-view+json": {
       "model_id": "2d1964f138a64aa5b67d626daa7e3c8c",
       "version_major": 2,
       "version_minor": 0
      },
      "text/plain": [
       "  0%|          | 0/50 [00:00<?, ?it/s]"
      ]
     },
     "metadata": {},
     "output_type": "display_data"
    },
    {
     "name": "stdout",
     "output_type": "stream",
     "text": [
      "L2 of 45565.44921875\n",
      "TEST ERROR OF 2.39563\n",
      "Generating samples with temp of 0 topk of 5 and topp of 0.75\n"
     ]
    },
    {
     "data": {
      "application/vnd.jupyter.widget-view+json": {
       "model_id": "a5d0894667d342ceb8ed1bc8638302ef",
       "version_major": 2,
       "version_minor": 0
      },
      "text/plain": [
       "  0%|          | 0/9 [00:00<?, ?it/s]"
      ]
     },
     "metadata": {},
     "output_type": "display_data"
    },
    {
     "name": "stdout",
     "output_type": "stream",
     "text": [
      "0.5302734375 ARE TRUE\n",
      "8.0 AVG DIFF\n",
      "155 EPOCHS SINCE BEST LOSS OF 1.1750994539260864\n",
      "--------------------------------------\n",
      "EPOCH 156\n"
     ]
    },
    {
     "data": {
      "application/vnd.jupyter.widget-view+json": {
       "model_id": "5f3eb8245c434994b25a629e7c874710",
       "version_major": 2,
       "version_minor": 0
      },
      "text/plain": [
       "  0%|          | 0/976 [00:00<?, ?it/s]"
      ]
     },
     "metadata": {},
     "output_type": "display_data"
    },
    {
     "data": {
      "application/vnd.jupyter.widget-view+json": {
       "model_id": "540d33e783b34668860e587ee65a235d",
       "version_major": 2,
       "version_minor": 0
      },
      "text/plain": [
       "  0%|          | 0/50 [00:00<?, ?it/s]"
      ]
     },
     "metadata": {},
     "output_type": "display_data"
    },
    {
     "name": "stdout",
     "output_type": "stream",
     "text": [
      "L2 of 45893.09375\n",
      "TEST ERROR OF 2.35729\n",
      "Generating samples with temp of 0 topk of 5 and topp of 0.75\n"
     ]
    },
    {
     "data": {
      "application/vnd.jupyter.widget-view+json": {
       "model_id": "084dffe05c614e52bbc67104e1840cda",
       "version_major": 2,
       "version_minor": 0
      },
      "text/plain": [
       "  0%|          | 0/9 [00:00<?, ?it/s]"
      ]
     },
     "metadata": {},
     "output_type": "display_data"
    },
    {
     "name": "stdout",
     "output_type": "stream",
     "text": [
      "0.5478515625 ARE TRUE\n",
      "8.283479960899315 AVG DIFF\n",
      "156 EPOCHS SINCE BEST LOSS OF 1.1750994539260864\n",
      "--------------------------------------\n",
      "EPOCH 157\n"
     ]
    },
    {
     "data": {
      "application/vnd.jupyter.widget-view+json": {
       "model_id": "619166b3fc3d407786cac8209499f5d8",
       "version_major": 2,
       "version_minor": 0
      },
      "text/plain": [
       "  0%|          | 0/976 [00:00<?, ?it/s]"
      ]
     },
     "metadata": {},
     "output_type": "display_data"
    },
    {
     "data": {
      "application/vnd.jupyter.widget-view+json": {
       "model_id": "dc9b107745f14846ac874a2bbb44d5f5",
       "version_major": 2,
       "version_minor": 0
      },
      "text/plain": [
       "  0%|          | 0/50 [00:00<?, ?it/s]"
      ]
     },
     "metadata": {},
     "output_type": "display_data"
    },
    {
     "name": "stdout",
     "output_type": "stream",
     "text": [
      "L2 of 45916.53515625\n",
      "TEST ERROR OF 2.33628\n",
      "Generating samples with temp of 0 topk of 5 and topp of 0.75\n"
     ]
    },
    {
     "data": {
      "application/vnd.jupyter.widget-view+json": {
       "model_id": "b3e1f656c5ef43da9b51e45a83df9188",
       "version_major": 2,
       "version_minor": 0
      },
      "text/plain": [
       "  0%|          | 0/9 [00:00<?, ?it/s]"
      ]
     },
     "metadata": {},
     "output_type": "display_data"
    },
    {
     "name": "stdout",
     "output_type": "stream",
     "text": [
      "0.517578125 ARE TRUE\n",
      "8.1337890625 AVG DIFF\n",
      "157 EPOCHS SINCE BEST LOSS OF 1.1750994539260864\n",
      "--------------------------------------\n",
      "EPOCH 158\n"
     ]
    },
    {
     "data": {
      "application/vnd.jupyter.widget-view+json": {
       "model_id": "d824f1d090aa42a8b2e890bba430cd54",
       "version_major": 2,
       "version_minor": 0
      },
      "text/plain": [
       "  0%|          | 0/976 [00:00<?, ?it/s]"
      ]
     },
     "metadata": {},
     "output_type": "display_data"
    },
    {
     "data": {
      "application/vnd.jupyter.widget-view+json": {
       "model_id": "eb82382b07cc422480c06158dbe03bd6",
       "version_major": 2,
       "version_minor": 0
      },
      "text/plain": [
       "  0%|          | 0/50 [00:00<?, ?it/s]"
      ]
     },
     "metadata": {},
     "output_type": "display_data"
    },
    {
     "name": "stdout",
     "output_type": "stream",
     "text": [
      "L2 of 45826.9609375\n",
      "TEST ERROR OF 2.3404\n",
      "Generating samples with temp of 0 topk of 5 and topp of 0.75\n"
     ]
    },
    {
     "data": {
      "application/vnd.jupyter.widget-view+json": {
       "model_id": "19b04f92ce03479ab8f9002e093b78de",
       "version_major": 2,
       "version_minor": 0
      },
      "text/plain": [
       "  0%|          | 0/9 [00:00<?, ?it/s]"
      ]
     },
     "metadata": {},
     "output_type": "display_data"
    },
    {
     "name": "stdout",
     "output_type": "stream",
     "text": [
      "0.544921875 ARE TRUE\n",
      "7.916911045943304 AVG DIFF\n",
      "158 EPOCHS SINCE BEST LOSS OF 1.1750994539260864\n",
      "--------------------------------------\n",
      "EPOCH 159\n"
     ]
    },
    {
     "data": {
      "application/vnd.jupyter.widget-view+json": {
       "model_id": "b142cc4c59c246049294eba6a9c14e9f",
       "version_major": 2,
       "version_minor": 0
      },
      "text/plain": [
       "  0%|          | 0/976 [00:00<?, ?it/s]"
      ]
     },
     "metadata": {},
     "output_type": "display_data"
    },
    {
     "data": {
      "application/vnd.jupyter.widget-view+json": {
       "model_id": "abb3f78f9f2d409790caeddefcebd4b2",
       "version_major": 2,
       "version_minor": 0
      },
      "text/plain": [
       "  0%|          | 0/50 [00:00<?, ?it/s]"
      ]
     },
     "metadata": {},
     "output_type": "display_data"
    },
    {
     "name": "stdout",
     "output_type": "stream",
     "text": [
      "L2 of 45461.46484375\n",
      "TEST ERROR OF 2.34025\n",
      "Generating samples with temp of 0 topk of 5 and topp of 0.75\n"
     ]
    },
    {
     "data": {
      "application/vnd.jupyter.widget-view+json": {
       "model_id": "62a3cea56c9b4de9b49395329b85b26c",
       "version_major": 2,
       "version_minor": 0
      },
      "text/plain": [
       "  0%|          | 0/9 [00:00<?, ?it/s]"
      ]
     },
     "metadata": {},
     "output_type": "display_data"
    },
    {
     "name": "stdout",
     "output_type": "stream",
     "text": [
      "0.521484375 ARE TRUE\n",
      "8.935420743639922 AVG DIFF\n",
      "159 EPOCHS SINCE BEST LOSS OF 1.1750994539260864\n",
      "--------------------------------------\n",
      "EPOCH 160\n"
     ]
    },
    {
     "data": {
      "application/vnd.jupyter.widget-view+json": {
       "model_id": "919890a045894b83a9cb8f63c0f92866",
       "version_major": 2,
       "version_minor": 0
      },
      "text/plain": [
       "  0%|          | 0/976 [00:00<?, ?it/s]"
      ]
     },
     "metadata": {},
     "output_type": "display_data"
    },
    {
     "data": {
      "application/vnd.jupyter.widget-view+json": {
       "model_id": "dd2a033b3ef745cba0d0493228471852",
       "version_major": 2,
       "version_minor": 0
      },
      "text/plain": [
       "  0%|          | 0/50 [00:00<?, ?it/s]"
      ]
     },
     "metadata": {},
     "output_type": "display_data"
    },
    {
     "name": "stdout",
     "output_type": "stream",
     "text": [
      "L2 of 44991.22265625\n",
      "TEST ERROR OF 2.29205\n",
      "Generating samples with temp of 0 topk of 5 and topp of 0.75\n"
     ]
    },
    {
     "data": {
      "application/vnd.jupyter.widget-view+json": {
       "model_id": "0e24d00d0ce042b3bf4fefef654b3d08",
       "version_major": 2,
       "version_minor": 0
      },
      "text/plain": [
       "  0%|          | 0/9 [00:00<?, ?it/s]"
      ]
     },
     "metadata": {},
     "output_type": "display_data"
    },
    {
     "name": "stdout",
     "output_type": "stream",
     "text": [
      "0.52734375 ARE TRUE\n",
      "9.27859237536657 AVG DIFF\n",
      "160 EPOCHS SINCE BEST LOSS OF 1.1750994539260864\n",
      "--------------------------------------\n",
      "EPOCH 161\n"
     ]
    },
    {
     "data": {
      "application/vnd.jupyter.widget-view+json": {
       "model_id": "d82f165faf994ea5b0026f77c82b0ac6",
       "version_major": 2,
       "version_minor": 0
      },
      "text/plain": [
       "  0%|          | 0/976 [00:00<?, ?it/s]"
      ]
     },
     "metadata": {},
     "output_type": "display_data"
    },
    {
     "data": {
      "application/vnd.jupyter.widget-view+json": {
       "model_id": "374990754a4543c6a998d84c8984ec88",
       "version_major": 2,
       "version_minor": 0
      },
      "text/plain": [
       "  0%|          | 0/50 [00:00<?, ?it/s]"
      ]
     },
     "metadata": {},
     "output_type": "display_data"
    },
    {
     "name": "stdout",
     "output_type": "stream",
     "text": [
      "L2 of 45934.23828125\n",
      "TEST ERROR OF 2.42627\n",
      "Generating samples with temp of 0 topk of 5 and topp of 0.75\n"
     ]
    },
    {
     "data": {
      "application/vnd.jupyter.widget-view+json": {
       "model_id": "3aa8491a55464f9280e75adec16996d4",
       "version_major": 2,
       "version_minor": 0
      },
      "text/plain": [
       "  0%|          | 0/9 [00:00<?, ?it/s]"
      ]
     },
     "metadata": {},
     "output_type": "display_data"
    },
    {
     "name": "stdout",
     "output_type": "stream",
     "text": [
      "0.525390625 ARE TRUE\n",
      "7.4150390625 AVG DIFF\n",
      "161 EPOCHS SINCE BEST LOSS OF 1.1750994539260864\n",
      "--------------------------------------\n",
      "EPOCH 162\n"
     ]
    },
    {
     "data": {
      "application/vnd.jupyter.widget-view+json": {
       "model_id": "a54b1394f7db4d40aa03ea2ebb0f9e6d",
       "version_major": 2,
       "version_minor": 0
      },
      "text/plain": [
       "  0%|          | 0/976 [00:00<?, ?it/s]"
      ]
     },
     "metadata": {},
     "output_type": "display_data"
    },
    {
     "data": {
      "application/vnd.jupyter.widget-view+json": {
       "model_id": "441ea127eb4b4e1882b9ece08e08bd26",
       "version_major": 2,
       "version_minor": 0
      },
      "text/plain": [
       "  0%|          | 0/50 [00:00<?, ?it/s]"
      ]
     },
     "metadata": {},
     "output_type": "display_data"
    },
    {
     "name": "stdout",
     "output_type": "stream",
     "text": [
      "L2 of 44652.52734375\n",
      "TEST ERROR OF 2.39901\n",
      "Generating samples with temp of 0 topk of 5 and topp of 0.75\n"
     ]
    },
    {
     "data": {
      "application/vnd.jupyter.widget-view+json": {
       "model_id": "22b3ac50374a40da8afbdcb8838b7e29",
       "version_major": 2,
       "version_minor": 0
      },
      "text/plain": [
       "  0%|          | 0/9 [00:00<?, ?it/s]"
      ]
     },
     "metadata": {},
     "output_type": "display_data"
    },
    {
     "name": "stdout",
     "output_type": "stream",
     "text": [
      "0.51953125 ARE TRUE\n",
      "8.5673828125 AVG DIFF\n",
      "162 EPOCHS SINCE BEST LOSS OF 1.1750994539260864\n",
      "--------------------------------------\n",
      "EPOCH 163\n"
     ]
    },
    {
     "data": {
      "application/vnd.jupyter.widget-view+json": {
       "model_id": "4597dceeb8b545ed909ed8c9566215c6",
       "version_major": 2,
       "version_minor": 0
      },
      "text/plain": [
       "  0%|          | 0/976 [00:00<?, ?it/s]"
      ]
     },
     "metadata": {},
     "output_type": "display_data"
    },
    {
     "data": {
      "application/vnd.jupyter.widget-view+json": {
       "model_id": "439f83f280e647f6894d13b0b2a2966c",
       "version_major": 2,
       "version_minor": 0
      },
      "text/plain": [
       "  0%|          | 0/50 [00:00<?, ?it/s]"
      ]
     },
     "metadata": {},
     "output_type": "display_data"
    },
    {
     "name": "stdout",
     "output_type": "stream",
     "text": [
      "L2 of 44881.5703125\n",
      "TEST ERROR OF 2.32512\n",
      "Generating samples with temp of 0 topk of 5 and topp of 0.75\n"
     ]
    },
    {
     "data": {
      "application/vnd.jupyter.widget-view+json": {
       "model_id": "e885809239fa4b7fa6335d72c4aaaba8",
       "version_major": 2,
       "version_minor": 0
      },
      "text/plain": [
       "  0%|          | 0/9 [00:00<?, ?it/s]"
      ]
     },
     "metadata": {},
     "output_type": "display_data"
    },
    {
     "name": "stdout",
     "output_type": "stream",
     "text": [
      "0.5087890625 ARE TRUE\n",
      "7.328445747800586 AVG DIFF\n",
      "163 EPOCHS SINCE BEST LOSS OF 1.1750994539260864\n",
      "--------------------------------------\n",
      "EPOCH 164\n"
     ]
    },
    {
     "data": {
      "application/vnd.jupyter.widget-view+json": {
       "model_id": "5670ce7a0b4d42ceb198f80752aaf3ba",
       "version_major": 2,
       "version_minor": 0
      },
      "text/plain": [
       "  0%|          | 0/976 [00:00<?, ?it/s]"
      ]
     },
     "metadata": {},
     "output_type": "display_data"
    },
    {
     "data": {
      "application/vnd.jupyter.widget-view+json": {
       "model_id": "057d6a3de0d74e618ee1efc174ce13f4",
       "version_major": 2,
       "version_minor": 0
      },
      "text/plain": [
       "  0%|          | 0/50 [00:00<?, ?it/s]"
      ]
     },
     "metadata": {},
     "output_type": "display_data"
    },
    {
     "name": "stdout",
     "output_type": "stream",
     "text": [
      "L2 of 45756.1875\n",
      "TEST ERROR OF 2.39453\n",
      "Generating samples with temp of 0 topk of 5 and topp of 0.75\n"
     ]
    },
    {
     "data": {
      "application/vnd.jupyter.widget-view+json": {
       "model_id": "ab0440e8c8aa4781beca7f2975e290a6",
       "version_major": 2,
       "version_minor": 0
      },
      "text/plain": [
       "  0%|          | 0/9 [00:00<?, ?it/s]"
      ]
     },
     "metadata": {},
     "output_type": "display_data"
    },
    {
     "name": "stdout",
     "output_type": "stream",
     "text": [
      "0.537109375 ARE TRUE\n",
      "9.0703125 AVG DIFF\n",
      "164 EPOCHS SINCE BEST LOSS OF 1.1750994539260864\n",
      "--------------------------------------\n",
      "EPOCH 165\n"
     ]
    },
    {
     "data": {
      "application/vnd.jupyter.widget-view+json": {
       "model_id": "53a99c3a4a83439c89f449c072cb9d6d",
       "version_major": 2,
       "version_minor": 0
      },
      "text/plain": [
       "  0%|          | 0/976 [00:00<?, ?it/s]"
      ]
     },
     "metadata": {},
     "output_type": "display_data"
    },
    {
     "data": {
      "application/vnd.jupyter.widget-view+json": {
       "model_id": "0a06f7c27cab44949e60008179e02ec1",
       "version_major": 2,
       "version_minor": 0
      },
      "text/plain": [
       "  0%|          | 0/50 [00:00<?, ?it/s]"
      ]
     },
     "metadata": {},
     "output_type": "display_data"
    },
    {
     "name": "stdout",
     "output_type": "stream",
     "text": [
      "L2 of 44337.4140625\n",
      "TEST ERROR OF 2.3542\n",
      "Generating samples with temp of 0 topk of 5 and topp of 0.75\n"
     ]
    },
    {
     "data": {
      "application/vnd.jupyter.widget-view+json": {
       "model_id": "0f56951882f94e57b5cb5fa58896ba6b",
       "version_major": 2,
       "version_minor": 0
      },
      "text/plain": [
       "  0%|          | 0/9 [00:00<?, ?it/s]"
      ]
     },
     "metadata": {},
     "output_type": "display_data"
    },
    {
     "name": "stdout",
     "output_type": "stream",
     "text": [
      "0.5498046875 ARE TRUE\n",
      "8.664711632453567 AVG DIFF\n",
      "165 EPOCHS SINCE BEST LOSS OF 1.1750994539260864\n",
      "--------------------------------------\n",
      "EPOCH 166\n"
     ]
    },
    {
     "data": {
      "application/vnd.jupyter.widget-view+json": {
       "model_id": "04c7492044b447d981eb65cf1fbc85d7",
       "version_major": 2,
       "version_minor": 0
      },
      "text/plain": [
       "  0%|          | 0/976 [00:00<?, ?it/s]"
      ]
     },
     "metadata": {},
     "output_type": "display_data"
    },
    {
     "data": {
      "application/vnd.jupyter.widget-view+json": {
       "model_id": "cbfcda7a38a442da8b9d9ae83ae52ee9",
       "version_major": 2,
       "version_minor": 0
      },
      "text/plain": [
       "  0%|          | 0/50 [00:00<?, ?it/s]"
      ]
     },
     "metadata": {},
     "output_type": "display_data"
    },
    {
     "name": "stdout",
     "output_type": "stream",
     "text": [
      "L2 of 44863.046875\n",
      "TEST ERROR OF 2.40863\n",
      "Generating samples with temp of 0 topk of 5 and topp of 0.75\n"
     ]
    },
    {
     "data": {
      "application/vnd.jupyter.widget-view+json": {
       "model_id": "0f2962613edc4ae6b353c20adde6ae39",
       "version_major": 2,
       "version_minor": 0
      },
      "text/plain": [
       "  0%|          | 0/9 [00:00<?, ?it/s]"
      ]
     },
     "metadata": {},
     "output_type": "display_data"
    },
    {
     "name": "stdout",
     "output_type": "stream",
     "text": [
      "0.52734375 ARE TRUE\n",
      "8.3069403714565 AVG DIFF\n",
      "166 EPOCHS SINCE BEST LOSS OF 1.1750994539260864\n",
      "--------------------------------------\n",
      "EPOCH 167\n"
     ]
    },
    {
     "data": {
      "application/vnd.jupyter.widget-view+json": {
       "model_id": "2f919e542eee440097cd2457ab2479a0",
       "version_major": 2,
       "version_minor": 0
      },
      "text/plain": [
       "  0%|          | 0/976 [00:00<?, ?it/s]"
      ]
     },
     "metadata": {},
     "output_type": "display_data"
    },
    {
     "data": {
      "application/vnd.jupyter.widget-view+json": {
       "model_id": "58bdff128c3c4222a03c356efab88121",
       "version_major": 2,
       "version_minor": 0
      },
      "text/plain": [
       "  0%|          | 0/50 [00:00<?, ?it/s]"
      ]
     },
     "metadata": {},
     "output_type": "display_data"
    },
    {
     "name": "stdout",
     "output_type": "stream",
     "text": [
      "L2 of 45102.34765625\n",
      "TEST ERROR OF 2.32373\n",
      "Generating samples with temp of 0 topk of 5 and topp of 0.75\n"
     ]
    },
    {
     "data": {
      "application/vnd.jupyter.widget-view+json": {
       "model_id": "381a413944a54d11a040d4b64e784fe8",
       "version_major": 2,
       "version_minor": 0
      },
      "text/plain": [
       "  0%|          | 0/9 [00:00<?, ?it/s]"
      ]
     },
     "metadata": {},
     "output_type": "display_data"
    },
    {
     "name": "stdout",
     "output_type": "stream",
     "text": [
      "0.5390625 ARE TRUE\n",
      "8.291585127201566 AVG DIFF\n",
      "167 EPOCHS SINCE BEST LOSS OF 1.1750994539260864\n",
      "--------------------------------------\n",
      "EPOCH 168\n"
     ]
    },
    {
     "data": {
      "application/vnd.jupyter.widget-view+json": {
       "model_id": "bbbd6e3431a44b529ef097125c7fa513",
       "version_major": 2,
       "version_minor": 0
      },
      "text/plain": [
       "  0%|          | 0/976 [00:00<?, ?it/s]"
      ]
     },
     "metadata": {},
     "output_type": "display_data"
    },
    {
     "data": {
      "application/vnd.jupyter.widget-view+json": {
       "model_id": "3e86978f9cf14f20a74892042b2ebb86",
       "version_major": 2,
       "version_minor": 0
      },
      "text/plain": [
       "  0%|          | 0/50 [00:00<?, ?it/s]"
      ]
     },
     "metadata": {},
     "output_type": "display_data"
    },
    {
     "name": "stdout",
     "output_type": "stream",
     "text": [
      "L2 of 45474.78515625\n",
      "TEST ERROR OF 2.37945\n",
      "Generating samples with temp of 0 topk of 5 and topp of 0.75\n"
     ]
    },
    {
     "data": {
      "application/vnd.jupyter.widget-view+json": {
       "model_id": "d3094c682aaa42cab2d2da4b8f85a158",
       "version_major": 2,
       "version_minor": 0
      },
      "text/plain": [
       "  0%|          | 0/9 [00:00<?, ?it/s]"
      ]
     },
     "metadata": {},
     "output_type": "display_data"
    },
    {
     "name": "stdout",
     "output_type": "stream",
     "text": [
      "0.5009765625 ARE TRUE\n",
      "8.265884652981427 AVG DIFF\n",
      "168 EPOCHS SINCE BEST LOSS OF 1.1750994539260864\n",
      "--------------------------------------\n",
      "EPOCH 169\n"
     ]
    },
    {
     "data": {
      "application/vnd.jupyter.widget-view+json": {
       "model_id": "014695d0e9544d33b0007a6409c2e6d1",
       "version_major": 2,
       "version_minor": 0
      },
      "text/plain": [
       "  0%|          | 0/976 [00:00<?, ?it/s]"
      ]
     },
     "metadata": {},
     "output_type": "display_data"
    },
    {
     "data": {
      "application/vnd.jupyter.widget-view+json": {
       "model_id": "0cae4c31416b4e279023b8acf5472e1f",
       "version_major": 2,
       "version_minor": 0
      },
      "text/plain": [
       "  0%|          | 0/50 [00:00<?, ?it/s]"
      ]
     },
     "metadata": {},
     "output_type": "display_data"
    },
    {
     "name": "stdout",
     "output_type": "stream",
     "text": [
      "L2 of 45192.15625\n",
      "TEST ERROR OF 2.34927\n",
      "Generating samples with temp of 0 topk of 5 and topp of 0.75\n"
     ]
    },
    {
     "data": {
      "application/vnd.jupyter.widget-view+json": {
       "model_id": "66acad0c4125499b831526bfaa952e03",
       "version_major": 2,
       "version_minor": 0
      },
      "text/plain": [
       "  0%|          | 0/9 [00:00<?, ?it/s]"
      ]
     },
     "metadata": {},
     "output_type": "display_data"
    },
    {
     "name": "stdout",
     "output_type": "stream",
     "text": [
      "0.5322265625 ARE TRUE\n",
      "7.04296875 AVG DIFF\n",
      "169 EPOCHS SINCE BEST LOSS OF 1.1750994539260864\n",
      "--------------------------------------\n",
      "EPOCH 170\n"
     ]
    },
    {
     "data": {
      "application/vnd.jupyter.widget-view+json": {
       "model_id": "428bb130144540768676e707a3215eea",
       "version_major": 2,
       "version_minor": 0
      },
      "text/plain": [
       "  0%|          | 0/976 [00:00<?, ?it/s]"
      ]
     },
     "metadata": {},
     "output_type": "display_data"
    },
    {
     "data": {
      "application/vnd.jupyter.widget-view+json": {
       "model_id": "8b598b23fa3b432997628267f7959505",
       "version_major": 2,
       "version_minor": 0
      },
      "text/plain": [
       "  0%|          | 0/50 [00:00<?, ?it/s]"
      ]
     },
     "metadata": {},
     "output_type": "display_data"
    },
    {
     "name": "stdout",
     "output_type": "stream",
     "text": [
      "L2 of 45642.39453125\n",
      "TEST ERROR OF 2.26565\n",
      "Generating samples with temp of 0 topk of 5 and topp of 0.75\n"
     ]
    },
    {
     "data": {
      "application/vnd.jupyter.widget-view+json": {
       "model_id": "6b7802cb21af4e6890cd10197f23ecd5",
       "version_major": 2,
       "version_minor": 0
      },
      "text/plain": [
       "  0%|          | 0/9 [00:00<?, ?it/s]"
      ]
     },
     "metadata": {},
     "output_type": "display_data"
    },
    {
     "name": "stdout",
     "output_type": "stream",
     "text": [
      "0.52734375 ARE TRUE\n",
      "7.90625 AVG DIFF\n",
      "170 EPOCHS SINCE BEST LOSS OF 1.1750994539260864\n",
      "--------------------------------------\n",
      "EPOCH 171\n"
     ]
    },
    {
     "data": {
      "application/vnd.jupyter.widget-view+json": {
       "model_id": "ecf820cd4cdc40c286443ddda23edc1f",
       "version_major": 2,
       "version_minor": 0
      },
      "text/plain": [
       "  0%|          | 0/976 [00:00<?, ?it/s]"
      ]
     },
     "metadata": {},
     "output_type": "display_data"
    },
    {
     "data": {
      "application/vnd.jupyter.widget-view+json": {
       "model_id": "b22518d329614ed1be447f10db91651b",
       "version_major": 2,
       "version_minor": 0
      },
      "text/plain": [
       "  0%|          | 0/50 [00:00<?, ?it/s]"
      ]
     },
     "metadata": {},
     "output_type": "display_data"
    },
    {
     "name": "stdout",
     "output_type": "stream",
     "text": [
      "L2 of 45682.99609375\n",
      "TEST ERROR OF 2.37346\n",
      "Generating samples with temp of 0 topk of 5 and topp of 0.75\n"
     ]
    },
    {
     "data": {
      "application/vnd.jupyter.widget-view+json": {
       "model_id": "824e69be980e4233a517fc574602a370",
       "version_major": 2,
       "version_minor": 0
      },
      "text/plain": [
       "  0%|          | 0/9 [00:00<?, ?it/s]"
      ]
     },
     "metadata": {},
     "output_type": "display_data"
    },
    {
     "name": "stdout",
     "output_type": "stream",
     "text": [
      "0.5498046875 ARE TRUE\n",
      "7.06464250734574 AVG DIFF\n",
      "171 EPOCHS SINCE BEST LOSS OF 1.1750994539260864\n",
      "--------------------------------------\n",
      "EPOCH 172\n"
     ]
    },
    {
     "data": {
      "application/vnd.jupyter.widget-view+json": {
       "model_id": "3a31bf4ab24b4621b33bc8996e7e0e2a",
       "version_major": 2,
       "version_minor": 0
      },
      "text/plain": [
       "  0%|          | 0/976 [00:00<?, ?it/s]"
      ]
     },
     "metadata": {},
     "output_type": "display_data"
    },
    {
     "data": {
      "application/vnd.jupyter.widget-view+json": {
       "model_id": "9290460512e54fa390650d13baf33ee1",
       "version_major": 2,
       "version_minor": 0
      },
      "text/plain": [
       "  0%|          | 0/50 [00:00<?, ?it/s]"
      ]
     },
     "metadata": {},
     "output_type": "display_data"
    },
    {
     "name": "stdout",
     "output_type": "stream",
     "text": [
      "L2 of 45422.89453125\n",
      "TEST ERROR OF 2.26521\n",
      "Generating samples with temp of 0 topk of 5 and topp of 0.75\n"
     ]
    },
    {
     "data": {
      "application/vnd.jupyter.widget-view+json": {
       "model_id": "319971505e024cdb8208eab50974c969",
       "version_major": 2,
       "version_minor": 0
      },
      "text/plain": [
       "  0%|          | 0/9 [00:00<?, ?it/s]"
      ]
     },
     "metadata": {},
     "output_type": "display_data"
    },
    {
     "name": "stdout",
     "output_type": "stream",
     "text": [
      "0.5419921875 ARE TRUE\n",
      "7.730205278592376 AVG DIFF\n",
      "172 EPOCHS SINCE BEST LOSS OF 1.1750994539260864\n",
      "--------------------------------------\n",
      "EPOCH 173\n"
     ]
    },
    {
     "data": {
      "application/vnd.jupyter.widget-view+json": {
       "model_id": "df0ebf92ba154853bf24a33d576629a6",
       "version_major": 2,
       "version_minor": 0
      },
      "text/plain": [
       "  0%|          | 0/976 [00:00<?, ?it/s]"
      ]
     },
     "metadata": {},
     "output_type": "display_data"
    },
    {
     "data": {
      "application/vnd.jupyter.widget-view+json": {
       "model_id": "8aab22425f674b7d94432f3896b9a212",
       "version_major": 2,
       "version_minor": 0
      },
      "text/plain": [
       "  0%|          | 0/50 [00:00<?, ?it/s]"
      ]
     },
     "metadata": {},
     "output_type": "display_data"
    },
    {
     "name": "stdout",
     "output_type": "stream",
     "text": [
      "L2 of 45455.79296875\n",
      "TEST ERROR OF 2.33153\n",
      "Generating samples with temp of 0 topk of 5 and topp of 0.75\n"
     ]
    },
    {
     "data": {
      "application/vnd.jupyter.widget-view+json": {
       "model_id": "71db7aceb472448caf8a381411771da1",
       "version_major": 2,
       "version_minor": 0
      },
      "text/plain": [
       "  0%|          | 0/9 [00:00<?, ?it/s]"
      ]
     },
     "metadata": {},
     "output_type": "display_data"
    },
    {
     "name": "stdout",
     "output_type": "stream",
     "text": [
      "0.52734375 ARE TRUE\n",
      "9.8779296875 AVG DIFF\n",
      "173 EPOCHS SINCE BEST LOSS OF 1.1750994539260864\n",
      "--------------------------------------\n",
      "EPOCH 174\n"
     ]
    },
    {
     "data": {
      "application/vnd.jupyter.widget-view+json": {
       "model_id": "74fc7c10c5104f118fd8cf9dbd045e09",
       "version_major": 2,
       "version_minor": 0
      },
      "text/plain": [
       "  0%|          | 0/976 [00:00<?, ?it/s]"
      ]
     },
     "metadata": {},
     "output_type": "display_data"
    },
    {
     "data": {
      "application/vnd.jupyter.widget-view+json": {
       "model_id": "0394634b0b044520b240c2442c8b61f4",
       "version_major": 2,
       "version_minor": 0
      },
      "text/plain": [
       "  0%|          | 0/50 [00:00<?, ?it/s]"
      ]
     },
     "metadata": {},
     "output_type": "display_data"
    },
    {
     "name": "stdout",
     "output_type": "stream",
     "text": [
      "L2 of 45700.94140625\n",
      "TEST ERROR OF 2.32025\n",
      "Generating samples with temp of 0 topk of 5 and topp of 0.75\n"
     ]
    },
    {
     "data": {
      "application/vnd.jupyter.widget-view+json": {
       "model_id": "e9d74613caab4e5f91a7fbc0137e86c0",
       "version_major": 2,
       "version_minor": 0
      },
      "text/plain": [
       "  0%|          | 0/9 [00:00<?, ?it/s]"
      ]
     },
     "metadata": {},
     "output_type": "display_data"
    },
    {
     "name": "stdout",
     "output_type": "stream",
     "text": [
      "0.5322265625 ARE TRUE\n",
      "8.814090019569472 AVG DIFF\n",
      "174 EPOCHS SINCE BEST LOSS OF 1.1750994539260864\n",
      "--------------------------------------\n",
      "EPOCH 175\n"
     ]
    },
    {
     "data": {
      "application/vnd.jupyter.widget-view+json": {
       "model_id": "11f237382d604b84ab42e6a88e2e4796",
       "version_major": 2,
       "version_minor": 0
      },
      "text/plain": [
       "  0%|          | 0/976 [00:00<?, ?it/s]"
      ]
     },
     "metadata": {},
     "output_type": "display_data"
    },
    {
     "data": {
      "application/vnd.jupyter.widget-view+json": {
       "model_id": "46dfeab69fab4e12a794afaef5c29829",
       "version_major": 2,
       "version_minor": 0
      },
      "text/plain": [
       "  0%|          | 0/50 [00:00<?, ?it/s]"
      ]
     },
     "metadata": {},
     "output_type": "display_data"
    },
    {
     "name": "stdout",
     "output_type": "stream",
     "text": [
      "L2 of 45803.51171875\n",
      "TEST ERROR OF 2.36848\n",
      "Generating samples with temp of 0 topk of 5 and topp of 0.75\n"
     ]
    },
    {
     "data": {
      "application/vnd.jupyter.widget-view+json": {
       "model_id": "08910da919cd41828e3c6310875d3bce",
       "version_major": 2,
       "version_minor": 0
      },
      "text/plain": [
       "  0%|          | 0/9 [00:00<?, ?it/s]"
      ]
     },
     "metadata": {},
     "output_type": "display_data"
    },
    {
     "name": "stdout",
     "output_type": "stream",
     "text": [
      "0.544921875 ARE TRUE\n",
      "7.90625 AVG DIFF\n",
      "175 EPOCHS SINCE BEST LOSS OF 1.1750994539260864\n",
      "--------------------------------------\n",
      "EPOCH 176\n"
     ]
    },
    {
     "data": {
      "application/vnd.jupyter.widget-view+json": {
       "model_id": "36ad9c51f6ef4f6bb98c37b3cc822d47",
       "version_major": 2,
       "version_minor": 0
      },
      "text/plain": [
       "  0%|          | 0/976 [00:00<?, ?it/s]"
      ]
     },
     "metadata": {},
     "output_type": "display_data"
    },
    {
     "data": {
      "application/vnd.jupyter.widget-view+json": {
       "model_id": "5f71ae75d71b41f8bc874038154db0ad",
       "version_major": 2,
       "version_minor": 0
      },
      "text/plain": [
       "  0%|          | 0/50 [00:00<?, ?it/s]"
      ]
     },
     "metadata": {},
     "output_type": "display_data"
    },
    {
     "name": "stdout",
     "output_type": "stream",
     "text": [
      "L2 of 45653.20703125\n",
      "TEST ERROR OF 2.40581\n",
      "Generating samples with temp of 0 topk of 5 and topp of 0.75\n"
     ]
    },
    {
     "data": {
      "application/vnd.jupyter.widget-view+json": {
       "model_id": "24239aa667ab462ab267c2626e2cc1a4",
       "version_major": 2,
       "version_minor": 0
      },
      "text/plain": [
       "  0%|          | 0/9 [00:00<?, ?it/s]"
      ]
     },
     "metadata": {},
     "output_type": "display_data"
    },
    {
     "name": "stdout",
     "output_type": "stream",
     "text": [
      "0.5458984375 ARE TRUE\n",
      "6.645445641527914 AVG DIFF\n",
      "176 EPOCHS SINCE BEST LOSS OF 1.1750994539260864\n",
      "--------------------------------------\n",
      "EPOCH 177\n"
     ]
    },
    {
     "data": {
      "application/vnd.jupyter.widget-view+json": {
       "model_id": "92329838363149d99af3d3f298983eac",
       "version_major": 2,
       "version_minor": 0
      },
      "text/plain": [
       "  0%|          | 0/976 [00:00<?, ?it/s]"
      ]
     },
     "metadata": {},
     "output_type": "display_data"
    },
    {
     "data": {
      "application/vnd.jupyter.widget-view+json": {
       "model_id": "29a8014a844b452f88cdfc20e840108e",
       "version_major": 2,
       "version_minor": 0
      },
      "text/plain": [
       "  0%|          | 0/50 [00:00<?, ?it/s]"
      ]
     },
     "metadata": {},
     "output_type": "display_data"
    },
    {
     "name": "stdout",
     "output_type": "stream",
     "text": [
      "L2 of 45579.09765625\n",
      "TEST ERROR OF 2.36159\n",
      "Generating samples with temp of 0 topk of 5 and topp of 0.75\n"
     ]
    },
    {
     "data": {
      "application/vnd.jupyter.widget-view+json": {
       "model_id": "541cac14ee2e4393a6fb6399d223e6a8",
       "version_major": 2,
       "version_minor": 0
      },
      "text/plain": [
       "  0%|          | 0/9 [00:00<?, ?it/s]"
      ]
     },
     "metadata": {},
     "output_type": "display_data"
    },
    {
     "name": "stdout",
     "output_type": "stream",
     "text": [
      "0.537109375 ARE TRUE\n",
      "7.379647749510763 AVG DIFF\n",
      "177 EPOCHS SINCE BEST LOSS OF 1.1750994539260864\n",
      "--------------------------------------\n",
      "EPOCH 178\n"
     ]
    },
    {
     "data": {
      "application/vnd.jupyter.widget-view+json": {
       "model_id": "14cccdfc9b14432ea193beb1ed7a5fb0",
       "version_major": 2,
       "version_minor": 0
      },
      "text/plain": [
       "  0%|          | 0/976 [00:00<?, ?it/s]"
      ]
     },
     "metadata": {},
     "output_type": "display_data"
    },
    {
     "data": {
      "application/vnd.jupyter.widget-view+json": {
       "model_id": "5cda0c0c730e4c69ab0de92bb929f389",
       "version_major": 2,
       "version_minor": 0
      },
      "text/plain": [
       "  0%|          | 0/50 [00:00<?, ?it/s]"
      ]
     },
     "metadata": {},
     "output_type": "display_data"
    },
    {
     "name": "stdout",
     "output_type": "stream",
     "text": [
      "L2 of 45189.0390625\n",
      "TEST ERROR OF 2.35978\n",
      "Generating samples with temp of 0 topk of 5 and topp of 0.75\n"
     ]
    },
    {
     "data": {
      "application/vnd.jupyter.widget-view+json": {
       "model_id": "1b09ac945447489fb6b420f55af6be1b",
       "version_major": 2,
       "version_minor": 0
      },
      "text/plain": [
       "  0%|          | 0/9 [00:00<?, ?it/s]"
      ]
     },
     "metadata": {},
     "output_type": "display_data"
    },
    {
     "name": "stdout",
     "output_type": "stream",
     "text": [
      "0.5341796875 ARE TRUE\n",
      "8.136986301369863 AVG DIFF\n",
      "178 EPOCHS SINCE BEST LOSS OF 1.1750994539260864\n",
      "--------------------------------------\n",
      "EPOCH 179\n"
     ]
    },
    {
     "data": {
      "application/vnd.jupyter.widget-view+json": {
       "model_id": "7462f85838d24e3580988328f1941678",
       "version_major": 2,
       "version_minor": 0
      },
      "text/plain": [
       "  0%|          | 0/976 [00:00<?, ?it/s]"
      ]
     },
     "metadata": {},
     "output_type": "display_data"
    },
    {
     "data": {
      "application/vnd.jupyter.widget-view+json": {
       "model_id": "4af86239a2a44e13935d29b999c9e023",
       "version_major": 2,
       "version_minor": 0
      },
      "text/plain": [
       "  0%|          | 0/50 [00:00<?, ?it/s]"
      ]
     },
     "metadata": {},
     "output_type": "display_data"
    },
    {
     "name": "stdout",
     "output_type": "stream",
     "text": [
      "L2 of 45305.4375\n",
      "TEST ERROR OF 2.3501\n",
      "Generating samples with temp of 0 topk of 5 and topp of 0.75\n"
     ]
    },
    {
     "data": {
      "application/vnd.jupyter.widget-view+json": {
       "model_id": "5e140e9d9152442894b309d720c3f6ae",
       "version_major": 2,
       "version_minor": 0
      },
      "text/plain": [
       "  0%|          | 0/9 [00:00<?, ?it/s]"
      ]
     },
     "metadata": {},
     "output_type": "display_data"
    },
    {
     "name": "stdout",
     "output_type": "stream",
     "text": [
      "0.54296875 ARE TRUE\n",
      "8.654260528893241 AVG DIFF\n",
      "179 EPOCHS SINCE BEST LOSS OF 1.1750994539260864\n",
      "--------------------------------------\n",
      "EPOCH 180\n"
     ]
    },
    {
     "data": {
      "application/vnd.jupyter.widget-view+json": {
       "model_id": "981b83041d65410fb18bebc58cc79788",
       "version_major": 2,
       "version_minor": 0
      },
      "text/plain": [
       "  0%|          | 0/976 [00:00<?, ?it/s]"
      ]
     },
     "metadata": {},
     "output_type": "display_data"
    },
    {
     "data": {
      "application/vnd.jupyter.widget-view+json": {
       "model_id": "e09ea3a8e3c44559a27f2d6ed8af58fe",
       "version_major": 2,
       "version_minor": 0
      },
      "text/plain": [
       "  0%|          | 0/50 [00:00<?, ?it/s]"
      ]
     },
     "metadata": {},
     "output_type": "display_data"
    },
    {
     "name": "stdout",
     "output_type": "stream",
     "text": [
      "L2 of 45767.05078125\n",
      "TEST ERROR OF 2.36193\n",
      "Generating samples with temp of 0 topk of 5 and topp of 0.75\n"
     ]
    },
    {
     "data": {
      "application/vnd.jupyter.widget-view+json": {
       "model_id": "ce951fe1e3314851b8fa7f4372667e19",
       "version_major": 2,
       "version_minor": 0
      },
      "text/plain": [
       "  0%|          | 0/9 [00:00<?, ?it/s]"
      ]
     },
     "metadata": {},
     "output_type": "display_data"
    },
    {
     "name": "stdout",
     "output_type": "stream",
     "text": [
      "0.5390625 ARE TRUE\n",
      "8.728250244379277 AVG DIFF\n",
      "181 EPOCHS SINCE BEST LOSS OF 1.1750994539260864\n",
      "--------------------------------------\n",
      "EPOCH 182\n"
     ]
    },
    {
     "data": {
      "application/vnd.jupyter.widget-view+json": {
       "model_id": "8943cd4cb4f04fa5a1512d59e99d3d67",
       "version_major": 2,
       "version_minor": 0
      },
      "text/plain": [
       "  0%|          | 0/976 [00:00<?, ?it/s]"
      ]
     },
     "metadata": {},
     "output_type": "display_data"
    },
    {
     "name": "stderr",
     "output_type": "stream",
     "text": [
      "IOPub message rate exceeded.\n",
      "The Jupyter server will temporarily stop sending output\n",
      "to the client in order to avoid crashing it.\n",
      "To change this limit, set the config variable\n",
      "`--ServerApp.iopub_msg_rate_limit`.\n",
      "\n",
      "Current values:\n",
      "ServerApp.iopub_msg_rate_limit=1000.0 (msgs/sec)\n",
      "ServerApp.rate_limit_window=3.0 (secs)\n",
      "\n"
     ]
    },
    {
     "data": {
      "application/vnd.jupyter.widget-view+json": {
       "model_id": "cee1f5155c694d1989ad7636697d0efb",
       "version_major": 2,
       "version_minor": 0
      },
      "text/plain": [
       "  0%|          | 0/50 [00:00<?, ?it/s]"
      ]
     },
     "metadata": {},
     "output_type": "display_data"
    },
    {
     "name": "stdout",
     "output_type": "stream",
     "text": [
      "L2 of 44814.98046875\n",
      "TEST ERROR OF 2.31158\n",
      "Generating samples with temp of 0 topk of 5 and topp of 0.75\n"
     ]
    },
    {
     "data": {
      "application/vnd.jupyter.widget-view+json": {
       "model_id": "d5ccecef6ab9484da7a5d898330015e7",
       "version_major": 2,
       "version_minor": 0
      },
      "text/plain": [
       "  0%|          | 0/9 [00:00<?, ?it/s]"
      ]
     },
     "metadata": {},
     "output_type": "display_data"
    },
    {
     "name": "stdout",
     "output_type": "stream",
     "text": [
      "0.53125 ARE TRUE\n",
      "8.9482421875 AVG DIFF\n",
      "230 EPOCHS SINCE BEST LOSS OF 1.1750994539260864\n",
      "--------------------------------------\n",
      "EPOCH 231\n"
     ]
    },
    {
     "data": {
      "application/vnd.jupyter.widget-view+json": {
       "model_id": "1b32ee88c1494685919cdc49f474a9c2",
       "version_major": 2,
       "version_minor": 0
      },
      "text/plain": [
       "  0%|          | 0/976 [00:00<?, ?it/s]"
      ]
     },
     "metadata": {},
     "output_type": "display_data"
    },
    {
     "name": "stderr",
     "output_type": "stream",
     "text": [
      "IOPub message rate exceeded.\n",
      "The Jupyter server will temporarily stop sending output\n",
      "to the client in order to avoid crashing it.\n",
      "To change this limit, set the config variable\n",
      "`--ServerApp.iopub_msg_rate_limit`.\n",
      "\n",
      "Current values:\n",
      "ServerApp.iopub_msg_rate_limit=1000.0 (msgs/sec)\n",
      "ServerApp.rate_limit_window=3.0 (secs)\n",
      "\n"
     ]
    },
    {
     "data": {
      "application/vnd.jupyter.widget-view+json": {
       "model_id": "acff5321f1f84ac68253c7e524350def",
       "version_major": 2,
       "version_minor": 0
      },
      "text/plain": [
       "  0%|          | 0/50 [00:00<?, ?it/s]"
      ]
     },
     "metadata": {},
     "output_type": "display_data"
    },
    {
     "name": "stdout",
     "output_type": "stream",
     "text": [
      "L2 of 44566.375\n",
      "TEST ERROR OF 2.40334\n",
      "Generating samples with temp of 0 topk of 5 and topp of 0.75\n"
     ]
    },
    {
     "data": {
      "application/vnd.jupyter.widget-view+json": {
       "model_id": "9df8627d16364307a8a7d0f006ebbbe7",
       "version_major": 2,
       "version_minor": 0
      },
      "text/plain": [
       "  0%|          | 0/9 [00:00<?, ?it/s]"
      ]
     },
     "metadata": {},
     "output_type": "display_data"
    },
    {
     "name": "stdout",
     "output_type": "stream",
     "text": [
      "0.525390625 ARE TRUE\n",
      "7.6950146627565985 AVG DIFF\n",
      "263 EPOCHS SINCE BEST LOSS OF 1.1750994539260864\n",
      "--------------------------------------\n",
      "EPOCH 264\n"
     ]
    },
    {
     "data": {
      "application/vnd.jupyter.widget-view+json": {
       "model_id": "f6d9eff95e654c94927dc61601006262",
       "version_major": 2,
       "version_minor": 0
      },
      "text/plain": [
       "  0%|          | 0/976 [00:00<?, ?it/s]"
      ]
     },
     "metadata": {},
     "output_type": "display_data"
    },
    {
     "data": {
      "application/vnd.jupyter.widget-view+json": {
       "model_id": "0682fc41b458460e95b2b88326bd4fac",
       "version_major": 2,
       "version_minor": 0
      },
      "text/plain": [
       "  0%|          | 0/50 [00:00<?, ?it/s]"
      ]
     },
     "metadata": {},
     "output_type": "display_data"
    },
    {
     "name": "stdout",
     "output_type": "stream",
     "text": [
      "L2 of 44767.87890625\n",
      "TEST ERROR OF 2.39441\n",
      "Generating samples with temp of 0 topk of 5 and topp of 0.75\n"
     ]
    },
    {
     "data": {
      "application/vnd.jupyter.widget-view+json": {
       "model_id": "1e0a4b1571344a48b8b165f3f88f6064",
       "version_major": 2,
       "version_minor": 0
      },
      "text/plain": [
       "  0%|          | 0/9 [00:00<?, ?it/s]"
      ]
     },
     "metadata": {},
     "output_type": "display_data"
    },
    {
     "name": "stdout",
     "output_type": "stream",
     "text": [
      "0.5322265625 ARE TRUE\n",
      "8.286412512218964 AVG DIFF\n",
      "264 EPOCHS SINCE BEST LOSS OF 1.1750994539260864\n",
      "--------------------------------------\n",
      "EPOCH 265\n"
     ]
    },
    {
     "data": {
      "application/vnd.jupyter.widget-view+json": {
       "model_id": "9fd6cc06c3b14f948c514d02e09aa277",
       "version_major": 2,
       "version_minor": 0
      },
      "text/plain": [
       "  0%|          | 0/976 [00:00<?, ?it/s]"
      ]
     },
     "metadata": {},
     "output_type": "display_data"
    },
    {
     "data": {
      "application/vnd.jupyter.widget-view+json": {
       "model_id": "9c92441da25642fa83d4ce02332a9510",
       "version_major": 2,
       "version_minor": 0
      },
      "text/plain": [
       "  0%|          | 0/50 [00:00<?, ?it/s]"
      ]
     },
     "metadata": {},
     "output_type": "display_data"
    },
    {
     "name": "stdout",
     "output_type": "stream",
     "text": [
      "L2 of 44592.54296875\n",
      "TEST ERROR OF 2.24947\n",
      "Generating samples with temp of 0 topk of 5 and topp of 0.75\n"
     ]
    },
    {
     "data": {
      "application/vnd.jupyter.widget-view+json": {
       "model_id": "d74701318cdf4625bc37c3c5fb06985a",
       "version_major": 2,
       "version_minor": 0
      },
      "text/plain": [
       "  0%|          | 0/9 [00:00<?, ?it/s]"
      ]
     },
     "metadata": {},
     "output_type": "display_data"
    },
    {
     "name": "stdout",
     "output_type": "stream",
     "text": [
      "0.5400390625 ARE TRUE\n",
      "7.0791788856304985 AVG DIFF\n",
      "265 EPOCHS SINCE BEST LOSS OF 1.1750994539260864\n",
      "--------------------------------------\n",
      "EPOCH 266\n"
     ]
    },
    {
     "data": {
      "application/vnd.jupyter.widget-view+json": {
       "model_id": "87ddc329d8b84d90b235d8514fa4e73f",
       "version_major": 2,
       "version_minor": 0
      },
      "text/plain": [
       "  0%|          | 0/976 [00:00<?, ?it/s]"
      ]
     },
     "metadata": {},
     "output_type": "display_data"
    },
    {
     "data": {
      "application/vnd.jupyter.widget-view+json": {
       "model_id": "94532795af9048948df47204df01f545",
       "version_major": 2,
       "version_minor": 0
      },
      "text/plain": [
       "  0%|          | 0/50 [00:00<?, ?it/s]"
      ]
     },
     "metadata": {},
     "output_type": "display_data"
    },
    {
     "name": "stdout",
     "output_type": "stream",
     "text": [
      "L2 of 44567.2109375\n",
      "TEST ERROR OF 2.42827\n",
      "Generating samples with temp of 0 topk of 5 and topp of 0.75\n"
     ]
    },
    {
     "data": {
      "application/vnd.jupyter.widget-view+json": {
       "model_id": "087973c23b7a421a8e309419fcda2ce3",
       "version_major": 2,
       "version_minor": 0
      },
      "text/plain": [
       "  0%|          | 0/9 [00:00<?, ?it/s]"
      ]
     },
     "metadata": {},
     "output_type": "display_data"
    },
    {
     "name": "stdout",
     "output_type": "stream",
     "text": [
      "0.5517578125 ARE TRUE\n",
      "6.2724609375 AVG DIFF\n",
      "266 EPOCHS SINCE BEST LOSS OF 1.1750994539260864\n",
      "--------------------------------------\n",
      "EPOCH 267\n"
     ]
    },
    {
     "data": {
      "application/vnd.jupyter.widget-view+json": {
       "model_id": "968e9f24bdd94206b52eb37ba2dda920",
       "version_major": 2,
       "version_minor": 0
      },
      "text/plain": [
       "  0%|          | 0/976 [00:00<?, ?it/s]"
      ]
     },
     "metadata": {},
     "output_type": "display_data"
    },
    {
     "data": {
      "application/vnd.jupyter.widget-view+json": {
       "model_id": "eec05dbb51e3497fb976092b528ae403",
       "version_major": 2,
       "version_minor": 0
      },
      "text/plain": [
       "  0%|          | 0/50 [00:00<?, ?it/s]"
      ]
     },
     "metadata": {},
     "output_type": "display_data"
    },
    {
     "name": "stdout",
     "output_type": "stream",
     "text": [
      "L2 of 44890.60546875\n",
      "TEST ERROR OF 2.31873\n",
      "Generating samples with temp of 0 topk of 5 and topp of 0.75\n"
     ]
    },
    {
     "data": {
      "application/vnd.jupyter.widget-view+json": {
       "model_id": "b8abba5e0dbb4818a28f81d763f4bcfc",
       "version_major": 2,
       "version_minor": 0
      },
      "text/plain": [
       "  0%|          | 0/9 [00:00<?, ?it/s]"
      ]
     },
     "metadata": {},
     "output_type": "display_data"
    },
    {
     "name": "stdout",
     "output_type": "stream",
     "text": [
      "0.5224609375 ARE TRUE\n",
      "7.297747306562194 AVG DIFF\n",
      "267 EPOCHS SINCE BEST LOSS OF 1.1750994539260864\n",
      "--------------------------------------\n",
      "EPOCH 268\n"
     ]
    },
    {
     "data": {
      "application/vnd.jupyter.widget-view+json": {
       "model_id": "9f5d482d51004357a47806dfa76fead8",
       "version_major": 2,
       "version_minor": 0
      },
      "text/plain": [
       "  0%|          | 0/976 [00:00<?, ?it/s]"
      ]
     },
     "metadata": {},
     "output_type": "display_data"
    },
    {
     "data": {
      "application/vnd.jupyter.widget-view+json": {
       "model_id": "8ba0ea96d7bd4400ad5b260aef2bec02",
       "version_major": 2,
       "version_minor": 0
      },
      "text/plain": [
       "  0%|          | 0/50 [00:00<?, ?it/s]"
      ]
     },
     "metadata": {},
     "output_type": "display_data"
    },
    {
     "name": "stdout",
     "output_type": "stream",
     "text": [
      "L2 of 44692.1171875\n",
      "TEST ERROR OF 2.35009\n",
      "Generating samples with temp of 0 topk of 5 and topp of 0.75\n"
     ]
    },
    {
     "data": {
      "application/vnd.jupyter.widget-view+json": {
       "model_id": "388b24409b634528991b6cccd44d2f1b",
       "version_major": 2,
       "version_minor": 0
      },
      "text/plain": [
       "  0%|          | 0/9 [00:00<?, ?it/s]"
      ]
     },
     "metadata": {},
     "output_type": "display_data"
    },
    {
     "name": "stdout",
     "output_type": "stream",
     "text": [
      "0.544921875 ARE TRUE\n",
      "7.550342130987293 AVG DIFF\n",
      "268 EPOCHS SINCE BEST LOSS OF 1.1750994539260864\n",
      "--------------------------------------\n",
      "EPOCH 269\n"
     ]
    },
    {
     "data": {
      "application/vnd.jupyter.widget-view+json": {
       "model_id": "a7c0caabaa7b4e6d8f70bd610eb1e3fb",
       "version_major": 2,
       "version_minor": 0
      },
      "text/plain": [
       "  0%|          | 0/976 [00:00<?, ?it/s]"
      ]
     },
     "metadata": {},
     "output_type": "display_data"
    },
    {
     "data": {
      "application/vnd.jupyter.widget-view+json": {
       "model_id": "0936d9115141465880824b6d1c683d4a",
       "version_major": 2,
       "version_minor": 0
      },
      "text/plain": [
       "  0%|          | 0/50 [00:00<?, ?it/s]"
      ]
     },
     "metadata": {},
     "output_type": "display_data"
    },
    {
     "name": "stdout",
     "output_type": "stream",
     "text": [
      "L2 of 44549.390625\n",
      "TEST ERROR OF 2.28885\n",
      "Generating samples with temp of 0 topk of 5 and topp of 0.75\n"
     ]
    },
    {
     "data": {
      "application/vnd.jupyter.widget-view+json": {
       "model_id": "a30567d3fbec46299716e176e9409bc3",
       "version_major": 2,
       "version_minor": 0
      },
      "text/plain": [
       "  0%|          | 0/9 [00:00<?, ?it/s]"
      ]
     },
     "metadata": {},
     "output_type": "display_data"
    },
    {
     "name": "stdout",
     "output_type": "stream",
     "text": [
      "0.5576171875 ARE TRUE\n",
      "6.166503428011753 AVG DIFF\n",
      "269 EPOCHS SINCE BEST LOSS OF 1.1750994539260864\n",
      "--------------------------------------\n",
      "EPOCH 270\n"
     ]
    },
    {
     "data": {
      "application/vnd.jupyter.widget-view+json": {
       "model_id": "8e425c4a857d40ed9a9a894a6ce39d70",
       "version_major": 2,
       "version_minor": 0
      },
      "text/plain": [
       "  0%|          | 0/976 [00:00<?, ?it/s]"
      ]
     },
     "metadata": {},
     "output_type": "display_data"
    },
    {
     "data": {
      "application/vnd.jupyter.widget-view+json": {
       "model_id": "27185c166c8442b28b8151c6863e662c",
       "version_major": 2,
       "version_minor": 0
      },
      "text/plain": [
       "  0%|          | 0/50 [00:00<?, ?it/s]"
      ]
     },
     "metadata": {},
     "output_type": "display_data"
    },
    {
     "name": "stdout",
     "output_type": "stream",
     "text": [
      "L2 of 44649.21484375\n",
      "TEST ERROR OF 2.34792\n",
      "Generating samples with temp of 0 topk of 5 and topp of 0.75\n"
     ]
    },
    {
     "data": {
      "application/vnd.jupyter.widget-view+json": {
       "model_id": "f094cdbf63fe494d9b82445639039332",
       "version_major": 2,
       "version_minor": 0
      },
      "text/plain": [
       "  0%|          | 0/9 [00:00<?, ?it/s]"
      ]
     },
     "metadata": {},
     "output_type": "display_data"
    },
    {
     "name": "stdout",
     "output_type": "stream",
     "text": [
      "0.55078125 ARE TRUE\n",
      "7.457843137254902 AVG DIFF\n",
      "270 EPOCHS SINCE BEST LOSS OF 1.1750994539260864\n",
      "--------------------------------------\n",
      "EPOCH 271\n"
     ]
    },
    {
     "data": {
      "application/vnd.jupyter.widget-view+json": {
       "model_id": "08f0312076ad4f08b4036accd010cb95",
       "version_major": 2,
       "version_minor": 0
      },
      "text/plain": [
       "  0%|          | 0/976 [00:00<?, ?it/s]"
      ]
     },
     "metadata": {},
     "output_type": "display_data"
    },
    {
     "data": {
      "application/vnd.jupyter.widget-view+json": {
       "model_id": "00885487753e49cfb94f9a9673e51cdb",
       "version_major": 2,
       "version_minor": 0
      },
      "text/plain": [
       "  0%|          | 0/50 [00:00<?, ?it/s]"
      ]
     },
     "metadata": {},
     "output_type": "display_data"
    },
    {
     "name": "stdout",
     "output_type": "stream",
     "text": [
      "L2 of 44826.40234375\n",
      "TEST ERROR OF 2.30595\n",
      "Generating samples with temp of 0 topk of 5 and topp of 0.75\n"
     ]
    },
    {
     "data": {
      "application/vnd.jupyter.widget-view+json": {
       "model_id": "e767e84fd6e540c6970840daa099c1d1",
       "version_major": 2,
       "version_minor": 0
      },
      "text/plain": [
       "  0%|          | 0/9 [00:00<?, ?it/s]"
      ]
     },
     "metadata": {},
     "output_type": "display_data"
    },
    {
     "name": "stdout",
     "output_type": "stream",
     "text": [
      "0.5146484375 ARE TRUE\n",
      "8.539138943248533 AVG DIFF\n",
      "271 EPOCHS SINCE BEST LOSS OF 1.1750994539260864\n",
      "--------------------------------------\n",
      "EPOCH 272\n"
     ]
    },
    {
     "data": {
      "application/vnd.jupyter.widget-view+json": {
       "model_id": "ae3a6dc8aa5b4b228327ba57db52cd47",
       "version_major": 2,
       "version_minor": 0
      },
      "text/plain": [
       "  0%|          | 0/976 [00:00<?, ?it/s]"
      ]
     },
     "metadata": {},
     "output_type": "display_data"
    },
    {
     "data": {
      "application/vnd.jupyter.widget-view+json": {
       "model_id": "303f8a9c411a4994ad9f3e1627d89d23",
       "version_major": 2,
       "version_minor": 0
      },
      "text/plain": [
       "  0%|          | 0/50 [00:00<?, ?it/s]"
      ]
     },
     "metadata": {},
     "output_type": "display_data"
    },
    {
     "name": "stdout",
     "output_type": "stream",
     "text": [
      "L2 of 44363.4609375\n",
      "TEST ERROR OF 2.42532\n",
      "Generating samples with temp of 0 topk of 5 and topp of 0.75\n"
     ]
    },
    {
     "data": {
      "application/vnd.jupyter.widget-view+json": {
       "model_id": "ba626504837247fdb9dc3cd528bc1128",
       "version_major": 2,
       "version_minor": 0
      },
      "text/plain": [
       "  0%|          | 0/9 [00:00<?, ?it/s]"
      ]
     },
     "metadata": {},
     "output_type": "display_data"
    },
    {
     "name": "stdout",
     "output_type": "stream",
     "text": [
      "0.5205078125 ARE TRUE\n",
      "8.7133072407045 AVG DIFF\n",
      "272 EPOCHS SINCE BEST LOSS OF 1.1750994539260864\n",
      "--------------------------------------\n",
      "EPOCH 273\n"
     ]
    },
    {
     "data": {
      "application/vnd.jupyter.widget-view+json": {
       "model_id": "30864af1b2a040aa85c962beba04daa7",
       "version_major": 2,
       "version_minor": 0
      },
      "text/plain": [
       "  0%|          | 0/976 [00:00<?, ?it/s]"
      ]
     },
     "metadata": {},
     "output_type": "display_data"
    },
    {
     "data": {
      "application/vnd.jupyter.widget-view+json": {
       "model_id": "31a62f5bb7e646d5bac0161c8890e1a4",
       "version_major": 2,
       "version_minor": 0
      },
      "text/plain": [
       "  0%|          | 0/50 [00:00<?, ?it/s]"
      ]
     },
     "metadata": {},
     "output_type": "display_data"
    },
    {
     "name": "stdout",
     "output_type": "stream",
     "text": [
      "L2 of 44450.91796875\n",
      "TEST ERROR OF 2.39618\n",
      "Generating samples with temp of 0 topk of 5 and topp of 0.75\n"
     ]
    },
    {
     "data": {
      "application/vnd.jupyter.widget-view+json": {
       "model_id": "bcf4b0b821a84a83bf757ae32550eeae",
       "version_major": 2,
       "version_minor": 0
      },
      "text/plain": [
       "  0%|          | 0/9 [00:00<?, ?it/s]"
      ]
     },
     "metadata": {},
     "output_type": "display_data"
    },
    {
     "name": "stdout",
     "output_type": "stream",
     "text": [
      "0.525390625 ARE TRUE\n",
      "7.560117302052786 AVG DIFF\n",
      "273 EPOCHS SINCE BEST LOSS OF 1.1750994539260864\n",
      "--------------------------------------\n",
      "EPOCH 274\n"
     ]
    },
    {
     "data": {
      "application/vnd.jupyter.widget-view+json": {
       "model_id": "bf562f3de4094656b295c8d220247d36",
       "version_major": 2,
       "version_minor": 0
      },
      "text/plain": [
       "  0%|          | 0/976 [00:00<?, ?it/s]"
      ]
     },
     "metadata": {},
     "output_type": "display_data"
    },
    {
     "data": {
      "application/vnd.jupyter.widget-view+json": {
       "model_id": "d2160321fbf24e23a3759ffec067b9f5",
       "version_major": 2,
       "version_minor": 0
      },
      "text/plain": [
       "  0%|          | 0/50 [00:00<?, ?it/s]"
      ]
     },
     "metadata": {},
     "output_type": "display_data"
    },
    {
     "name": "stdout",
     "output_type": "stream",
     "text": [
      "L2 of 44064.18359375\n",
      "TEST ERROR OF 2.40466\n",
      "Generating samples with temp of 0 topk of 5 and topp of 0.75\n"
     ]
    },
    {
     "data": {
      "application/vnd.jupyter.widget-view+json": {
       "model_id": "5b2917c0b2ad44539e6500d64477d507",
       "version_major": 2,
       "version_minor": 0
      },
      "text/plain": [
       "  0%|          | 0/9 [00:00<?, ?it/s]"
      ]
     },
     "metadata": {},
     "output_type": "display_data"
    },
    {
     "name": "stdout",
     "output_type": "stream",
     "text": [
      "0.529296875 ARE TRUE\n",
      "8.694716242661448 AVG DIFF\n",
      "274 EPOCHS SINCE BEST LOSS OF 1.1750994539260864\n",
      "--------------------------------------\n",
      "EPOCH 275\n"
     ]
    },
    {
     "data": {
      "application/vnd.jupyter.widget-view+json": {
       "model_id": "41715cc0e6f641888560d0a78bb1e9ad",
       "version_major": 2,
       "version_minor": 0
      },
      "text/plain": [
       "  0%|          | 0/976 [00:00<?, ?it/s]"
      ]
     },
     "metadata": {},
     "output_type": "display_data"
    },
    {
     "data": {
      "application/vnd.jupyter.widget-view+json": {
       "model_id": "6f7ba41870d44f7a94337480d6d344ba",
       "version_major": 2,
       "version_minor": 0
      },
      "text/plain": [
       "  0%|          | 0/50 [00:00<?, ?it/s]"
      ]
     },
     "metadata": {},
     "output_type": "display_data"
    },
    {
     "name": "stdout",
     "output_type": "stream",
     "text": [
      "L2 of 44127.859375\n",
      "TEST ERROR OF 2.31109\n",
      "Generating samples with temp of 0 topk of 5 and topp of 0.75\n"
     ]
    },
    {
     "data": {
      "application/vnd.jupyter.widget-view+json": {
       "model_id": "6bca352d206648a8898a827809c6c43c",
       "version_major": 2,
       "version_minor": 0
      },
      "text/plain": [
       "  0%|          | 0/9 [00:00<?, ?it/s]"
      ]
     },
     "metadata": {},
     "output_type": "display_data"
    },
    {
     "name": "stdout",
     "output_type": "stream",
     "text": [
      "0.5517578125 ARE TRUE\n",
      "7.4186274509803924 AVG DIFF\n",
      "275 EPOCHS SINCE BEST LOSS OF 1.1750994539260864\n",
      "--------------------------------------\n",
      "EPOCH 276\n"
     ]
    },
    {
     "data": {
      "application/vnd.jupyter.widget-view+json": {
       "model_id": "ddf1dc3880704520aacc4f8458ccd957",
       "version_major": 2,
       "version_minor": 0
      },
      "text/plain": [
       "  0%|          | 0/976 [00:00<?, ?it/s]"
      ]
     },
     "metadata": {},
     "output_type": "display_data"
    },
    {
     "data": {
      "application/vnd.jupyter.widget-view+json": {
       "model_id": "e412a11417564d938730a207ad36a1c1",
       "version_major": 2,
       "version_minor": 0
      },
      "text/plain": [
       "  0%|          | 0/50 [00:00<?, ?it/s]"
      ]
     },
     "metadata": {},
     "output_type": "display_data"
    },
    {
     "name": "stdout",
     "output_type": "stream",
     "text": [
      "L2 of 44113.515625\n",
      "TEST ERROR OF 2.38949\n",
      "Generating samples with temp of 0 topk of 5 and topp of 0.75\n"
     ]
    },
    {
     "data": {
      "application/vnd.jupyter.widget-view+json": {
       "model_id": "2ef91e4c51734672852b64b17c9949f0",
       "version_major": 2,
       "version_minor": 0
      },
      "text/plain": [
       "  0%|          | 0/9 [00:00<?, ?it/s]"
      ]
     },
     "metadata": {},
     "output_type": "display_data"
    },
    {
     "name": "stdout",
     "output_type": "stream",
     "text": [
      "0.5234375 ARE TRUE\n",
      "7.795499021526418 AVG DIFF\n",
      "276 EPOCHS SINCE BEST LOSS OF 1.1750994539260864\n",
      "--------------------------------------\n",
      "EPOCH 277\n"
     ]
    },
    {
     "data": {
      "application/vnd.jupyter.widget-view+json": {
       "model_id": "53b6efdefade4d15bef8a4366266891e",
       "version_major": 2,
       "version_minor": 0
      },
      "text/plain": [
       "  0%|          | 0/976 [00:00<?, ?it/s]"
      ]
     },
     "metadata": {},
     "output_type": "display_data"
    },
    {
     "data": {
      "application/vnd.jupyter.widget-view+json": {
       "model_id": "2ecd79b31040450d962e412ca594f51c",
       "version_major": 2,
       "version_minor": 0
      },
      "text/plain": [
       "  0%|          | 0/50 [00:00<?, ?it/s]"
      ]
     },
     "metadata": {},
     "output_type": "display_data"
    },
    {
     "name": "stdout",
     "output_type": "stream",
     "text": [
      "L2 of 44464.5078125\n",
      "TEST ERROR OF 2.40359\n",
      "Generating samples with temp of 0 topk of 5 and topp of 0.75\n"
     ]
    },
    {
     "data": {
      "application/vnd.jupyter.widget-view+json": {
       "model_id": "0fc043dd6dab42079493e6c70132036d",
       "version_major": 2,
       "version_minor": 0
      },
      "text/plain": [
       "  0%|          | 0/9 [00:00<?, ?it/s]"
      ]
     },
     "metadata": {},
     "output_type": "display_data"
    },
    {
     "name": "stdout",
     "output_type": "stream",
     "text": [
      "0.541015625 ARE TRUE\n",
      "7.8993157380254155 AVG DIFF\n",
      "277 EPOCHS SINCE BEST LOSS OF 1.1750994539260864\n",
      "--------------------------------------\n",
      "EPOCH 278\n"
     ]
    },
    {
     "data": {
      "application/vnd.jupyter.widget-view+json": {
       "model_id": "fca317bec7f5460bac6e38569c61b041",
       "version_major": 2,
       "version_minor": 0
      },
      "text/plain": [
       "  0%|          | 0/976 [00:00<?, ?it/s]"
      ]
     },
     "metadata": {},
     "output_type": "display_data"
    },
    {
     "data": {
      "application/vnd.jupyter.widget-view+json": {
       "model_id": "bc53af7137b541d2acd191284679ef6f",
       "version_major": 2,
       "version_minor": 0
      },
      "text/plain": [
       "  0%|          | 0/50 [00:00<?, ?it/s]"
      ]
     },
     "metadata": {},
     "output_type": "display_data"
    },
    {
     "name": "stdout",
     "output_type": "stream",
     "text": [
      "L2 of 44585.359375\n",
      "TEST ERROR OF 2.39265\n",
      "Generating samples with temp of 0 topk of 5 and topp of 0.75\n"
     ]
    },
    {
     "data": {
      "application/vnd.jupyter.widget-view+json": {
       "model_id": "afaa9ba269c441639c062e32f374c850",
       "version_major": 2,
       "version_minor": 0
      },
      "text/plain": [
       "  0%|          | 0/9 [00:00<?, ?it/s]"
      ]
     },
     "metadata": {},
     "output_type": "display_data"
    },
    {
     "name": "stdout",
     "output_type": "stream",
     "text": [
      "0.52734375 ARE TRUE\n",
      "8.909803921568628 AVG DIFF\n",
      "278 EPOCHS SINCE BEST LOSS OF 1.1750994539260864\n",
      "--------------------------------------\n",
      "EPOCH 279\n"
     ]
    },
    {
     "data": {
      "application/vnd.jupyter.widget-view+json": {
       "model_id": "c28ebbf977734764a55b65d7b8c1ef11",
       "version_major": 2,
       "version_minor": 0
      },
      "text/plain": [
       "  0%|          | 0/976 [00:00<?, ?it/s]"
      ]
     },
     "metadata": {},
     "output_type": "display_data"
    },
    {
     "data": {
      "application/vnd.jupyter.widget-view+json": {
       "model_id": "078721916c484bb38515d81a041894ac",
       "version_major": 2,
       "version_minor": 0
      },
      "text/plain": [
       "  0%|          | 0/50 [00:00<?, ?it/s]"
      ]
     },
     "metadata": {},
     "output_type": "display_data"
    },
    {
     "name": "stdout",
     "output_type": "stream",
     "text": [
      "L2 of 44634.828125\n",
      "TEST ERROR OF 2.35595\n",
      "Generating samples with temp of 0 topk of 5 and topp of 0.75\n"
     ]
    },
    {
     "data": {
      "application/vnd.jupyter.widget-view+json": {
       "model_id": "54099698a7114036aa26b3243c246886",
       "version_major": 2,
       "version_minor": 0
      },
      "text/plain": [
       "  0%|          | 0/9 [00:00<?, ?it/s]"
      ]
     },
     "metadata": {},
     "output_type": "display_data"
    },
    {
     "name": "stdout",
     "output_type": "stream",
     "text": [
      "0.5458984375 ARE TRUE\n",
      "8.262745098039217 AVG DIFF\n",
      "279 EPOCHS SINCE BEST LOSS OF 1.1750994539260864\n",
      "--------------------------------------\n",
      "EPOCH 280\n"
     ]
    },
    {
     "data": {
      "application/vnd.jupyter.widget-view+json": {
       "model_id": "6cda8c43233f42ec97f162746e1a7701",
       "version_major": 2,
       "version_minor": 0
      },
      "text/plain": [
       "  0%|          | 0/976 [00:00<?, ?it/s]"
      ]
     },
     "metadata": {},
     "output_type": "display_data"
    },
    {
     "data": {
      "application/vnd.jupyter.widget-view+json": {
       "model_id": "c159592e6abb4ddc9976ef766adb9cdf",
       "version_major": 2,
       "version_minor": 0
      },
      "text/plain": [
       "  0%|          | 0/50 [00:00<?, ?it/s]"
      ]
     },
     "metadata": {},
     "output_type": "display_data"
    },
    {
     "name": "stdout",
     "output_type": "stream",
     "text": [
      "L2 of 44966.62890625\n",
      "TEST ERROR OF 2.4099\n",
      "Generating samples with temp of 0 topk of 5 and topp of 0.75\n"
     ]
    },
    {
     "data": {
      "application/vnd.jupyter.widget-view+json": {
       "model_id": "35c036b8feae4b15b61555553a956880",
       "version_major": 2,
       "version_minor": 0
      },
      "text/plain": [
       "  0%|          | 0/9 [00:00<?, ?it/s]"
      ]
     },
     "metadata": {},
     "output_type": "display_data"
    },
    {
     "name": "stdout",
     "output_type": "stream",
     "text": [
      "0.533203125 ARE TRUE\n",
      "6.588062622309198 AVG DIFF\n",
      "280 EPOCHS SINCE BEST LOSS OF 1.1750994539260864\n",
      "--------------------------------------\n",
      "EPOCH 281\n"
     ]
    },
    {
     "data": {
      "application/vnd.jupyter.widget-view+json": {
       "model_id": "f09d82a25250487c9dfa961524a466d5",
       "version_major": 2,
       "version_minor": 0
      },
      "text/plain": [
       "  0%|          | 0/976 [00:00<?, ?it/s]"
      ]
     },
     "metadata": {},
     "output_type": "display_data"
    },
    {
     "data": {
      "application/vnd.jupyter.widget-view+json": {
       "model_id": "33a726c97c834536ac42eb202837fd57",
       "version_major": 2,
       "version_minor": 0
      },
      "text/plain": [
       "  0%|          | 0/50 [00:00<?, ?it/s]"
      ]
     },
     "metadata": {},
     "output_type": "display_data"
    },
    {
     "name": "stdout",
     "output_type": "stream",
     "text": [
      "L2 of 44427.24609375\n",
      "TEST ERROR OF 2.34823\n",
      "Generating samples with temp of 0 topk of 5 and topp of 0.75\n"
     ]
    },
    {
     "data": {
      "application/vnd.jupyter.widget-view+json": {
       "model_id": "507bb9e8c8b248069d5bec0050bf11e4",
       "version_major": 2,
       "version_minor": 0
      },
      "text/plain": [
       "  0%|          | 0/9 [00:00<?, ?it/s]"
      ]
     },
     "metadata": {},
     "output_type": "display_data"
    },
    {
     "name": "stdout",
     "output_type": "stream",
     "text": [
      "0.5517578125 ARE TRUE\n",
      "6.808406647116325 AVG DIFF\n",
      "281 EPOCHS SINCE BEST LOSS OF 1.1750994539260864\n",
      "--------------------------------------\n",
      "EPOCH 282\n"
     ]
    },
    {
     "data": {
      "application/vnd.jupyter.widget-view+json": {
       "model_id": "49ecdc6ea22d4b52af35d29b6b2e0914",
       "version_major": 2,
       "version_minor": 0
      },
      "text/plain": [
       "  0%|          | 0/976 [00:00<?, ?it/s]"
      ]
     },
     "metadata": {},
     "output_type": "display_data"
    },
    {
     "data": {
      "application/vnd.jupyter.widget-view+json": {
       "model_id": "ab79e003adc74fbe94952b7d547fa0fd",
       "version_major": 2,
       "version_minor": 0
      },
      "text/plain": [
       "  0%|          | 0/50 [00:00<?, ?it/s]"
      ]
     },
     "metadata": {},
     "output_type": "display_data"
    },
    {
     "name": "stdout",
     "output_type": "stream",
     "text": [
      "L2 of 44358.80859375\n",
      "TEST ERROR OF 2.29199\n",
      "Generating samples with temp of 0 topk of 5 and topp of 0.75\n"
     ]
    },
    {
     "data": {
      "application/vnd.jupyter.widget-view+json": {
       "model_id": "e2ae5e5ad5ae480b8c12446cbd2d7e7a",
       "version_major": 2,
       "version_minor": 0
      },
      "text/plain": [
       "  0%|          | 0/9 [00:00<?, ?it/s]"
      ]
     },
     "metadata": {},
     "output_type": "display_data"
    },
    {
     "name": "stdout",
     "output_type": "stream",
     "text": [
      "0.5634765625 ARE TRUE\n",
      "7.3124387855044075 AVG DIFF\n",
      "282 EPOCHS SINCE BEST LOSS OF 1.1750994539260864\n",
      "--------------------------------------\n",
      "EPOCH 283\n"
     ]
    },
    {
     "data": {
      "application/vnd.jupyter.widget-view+json": {
       "model_id": "de295333bfd34a9aa9e722d0d0758656",
       "version_major": 2,
       "version_minor": 0
      },
      "text/plain": [
       "  0%|          | 0/976 [00:00<?, ?it/s]"
      ]
     },
     "metadata": {},
     "output_type": "display_data"
    },
    {
     "data": {
      "application/vnd.jupyter.widget-view+json": {
       "model_id": "f65e9225fe5643af889bec5caae2735e",
       "version_major": 2,
       "version_minor": 0
      },
      "text/plain": [
       "  0%|          | 0/50 [00:00<?, ?it/s]"
      ]
     },
     "metadata": {},
     "output_type": "display_data"
    },
    {
     "name": "stdout",
     "output_type": "stream",
     "text": [
      "L2 of 43954.87109375\n",
      "TEST ERROR OF 2.38214\n",
      "Generating samples with temp of 0 topk of 5 and topp of 0.75\n"
     ]
    },
    {
     "data": {
      "application/vnd.jupyter.widget-view+json": {
       "model_id": "d24a162c96ea40b28b2b5a9858f47bd7",
       "version_major": 2,
       "version_minor": 0
      },
      "text/plain": [
       "  0%|          | 0/9 [00:00<?, ?it/s]"
      ]
     },
     "metadata": {},
     "output_type": "display_data"
    },
    {
     "name": "stdout",
     "output_type": "stream",
     "text": [
      "0.5537109375 ARE TRUE\n",
      "7.247796278158668 AVG DIFF\n",
      "283 EPOCHS SINCE BEST LOSS OF 1.1750994539260864\n",
      "--------------------------------------\n",
      "EPOCH 284\n"
     ]
    },
    {
     "data": {
      "application/vnd.jupyter.widget-view+json": {
       "model_id": "8333ba27599e468d9b5b945643f25382",
       "version_major": 2,
       "version_minor": 0
      },
      "text/plain": [
       "  0%|          | 0/976 [00:00<?, ?it/s]"
      ]
     },
     "metadata": {},
     "output_type": "display_data"
    },
    {
     "data": {
      "application/vnd.jupyter.widget-view+json": {
       "model_id": "74df3b5af0064119bb2990b8277214dc",
       "version_major": 2,
       "version_minor": 0
      },
      "text/plain": [
       "  0%|          | 0/50 [00:00<?, ?it/s]"
      ]
     },
     "metadata": {},
     "output_type": "display_data"
    },
    {
     "name": "stdout",
     "output_type": "stream",
     "text": [
      "L2 of 44088.40234375\n",
      "TEST ERROR OF 2.41814\n",
      "Generating samples with temp of 0 topk of 5 and topp of 0.75\n"
     ]
    },
    {
     "data": {
      "application/vnd.jupyter.widget-view+json": {
       "model_id": "53637235bcb3403ba1bba7ee0ca9fcd9",
       "version_major": 2,
       "version_minor": 0
      },
      "text/plain": [
       "  0%|          | 0/9 [00:00<?, ?it/s]"
      ]
     },
     "metadata": {},
     "output_type": "display_data"
    },
    {
     "name": "stdout",
     "output_type": "stream",
     "text": [
      "0.533203125 ARE TRUE\n",
      "7.570869990224829 AVG DIFF\n",
      "284 EPOCHS SINCE BEST LOSS OF 1.1750994539260864\n",
      "--------------------------------------\n",
      "EPOCH 285\n"
     ]
    },
    {
     "data": {
      "application/vnd.jupyter.widget-view+json": {
       "model_id": "2554e17e9b4d412893056492a56237b7",
       "version_major": 2,
       "version_minor": 0
      },
      "text/plain": [
       "  0%|          | 0/976 [00:00<?, ?it/s]"
      ]
     },
     "metadata": {},
     "output_type": "display_data"
    },
    {
     "data": {
      "application/vnd.jupyter.widget-view+json": {
       "model_id": "7e1a11e5a1134c6da6507e7fe8249658",
       "version_major": 2,
       "version_minor": 0
      },
      "text/plain": [
       "  0%|          | 0/50 [00:00<?, ?it/s]"
      ]
     },
     "metadata": {},
     "output_type": "display_data"
    },
    {
     "name": "stdout",
     "output_type": "stream",
     "text": [
      "L2 of 43937.09765625\n",
      "TEST ERROR OF 2.41378\n",
      "Generating samples with temp of 0 topk of 5 and topp of 0.75\n"
     ]
    },
    {
     "data": {
      "application/vnd.jupyter.widget-view+json": {
       "model_id": "46d0986a4d13488ca406c2ea27715984",
       "version_major": 2,
       "version_minor": 0
      },
      "text/plain": [
       "  0%|          | 0/9 [00:00<?, ?it/s]"
      ]
     },
     "metadata": {},
     "output_type": "display_data"
    },
    {
     "name": "stdout",
     "output_type": "stream",
     "text": [
      "0.541015625 ARE TRUE\n",
      "8.175490196078432 AVG DIFF\n",
      "285 EPOCHS SINCE BEST LOSS OF 1.1750994539260864\n",
      "--------------------------------------\n",
      "EPOCH 286\n"
     ]
    },
    {
     "data": {
      "application/vnd.jupyter.widget-view+json": {
       "model_id": "db8522e8177f406996e0a89e05a9485b",
       "version_major": 2,
       "version_minor": 0
      },
      "text/plain": [
       "  0%|          | 0/976 [00:00<?, ?it/s]"
      ]
     },
     "metadata": {},
     "output_type": "display_data"
    },
    {
     "data": {
      "application/vnd.jupyter.widget-view+json": {
       "model_id": "1c50acd2b15949ad984d904768791ad6",
       "version_major": 2,
       "version_minor": 0
      },
      "text/plain": [
       "  0%|          | 0/50 [00:00<?, ?it/s]"
      ]
     },
     "metadata": {},
     "output_type": "display_data"
    },
    {
     "name": "stdout",
     "output_type": "stream",
     "text": [
      "L2 of 44147.48828125\n",
      "TEST ERROR OF 2.33807\n",
      "Generating samples with temp of 0 topk of 5 and topp of 0.75\n"
     ]
    },
    {
     "data": {
      "application/vnd.jupyter.widget-view+json": {
       "model_id": "14bd3a7d13f347a586a2499bc54be5a9",
       "version_major": 2,
       "version_minor": 0
      },
      "text/plain": [
       "  0%|          | 0/9 [00:00<?, ?it/s]"
      ]
     },
     "metadata": {},
     "output_type": "display_data"
    },
    {
     "name": "stdout",
     "output_type": "stream",
     "text": [
      "0.517578125 ARE TRUE\n",
      "7.756360078277886 AVG DIFF\n",
      "286 EPOCHS SINCE BEST LOSS OF 1.1750994539260864\n",
      "--------------------------------------\n",
      "EPOCH 287\n"
     ]
    },
    {
     "data": {
      "application/vnd.jupyter.widget-view+json": {
       "model_id": "e700980fd1d243ecaf0ffa38ebf8edf2",
       "version_major": 2,
       "version_minor": 0
      },
      "text/plain": [
       "  0%|          | 0/976 [00:00<?, ?it/s]"
      ]
     },
     "metadata": {},
     "output_type": "display_data"
    },
    {
     "data": {
      "application/vnd.jupyter.widget-view+json": {
       "model_id": "30d6d4a8e80f4fd796ad301ba399a144",
       "version_major": 2,
       "version_minor": 0
      },
      "text/plain": [
       "  0%|          | 0/50 [00:00<?, ?it/s]"
      ]
     },
     "metadata": {},
     "output_type": "display_data"
    },
    {
     "name": "stdout",
     "output_type": "stream",
     "text": [
      "L2 of 44378.41796875\n",
      "TEST ERROR OF 2.38423\n",
      "Generating samples with temp of 0 topk of 5 and topp of 0.75\n"
     ]
    },
    {
     "data": {
      "application/vnd.jupyter.widget-view+json": {
       "model_id": "4401eacfb83440d087cc600403def8cf",
       "version_major": 2,
       "version_minor": 0
      },
      "text/plain": [
       "  0%|          | 0/9 [00:00<?, ?it/s]"
      ]
     },
     "metadata": {},
     "output_type": "display_data"
    },
    {
     "name": "stdout",
     "output_type": "stream",
     "text": [
      "0.525390625 ARE TRUE\n",
      "8.052785923753666 AVG DIFF\n",
      "287 EPOCHS SINCE BEST LOSS OF 1.1750994539260864\n",
      "--------------------------------------\n",
      "EPOCH 288\n"
     ]
    },
    {
     "data": {
      "application/vnd.jupyter.widget-view+json": {
       "model_id": "343c5f1d5b4d4e2ca7b45478a330e479",
       "version_major": 2,
       "version_minor": 0
      },
      "text/plain": [
       "  0%|          | 0/976 [00:00<?, ?it/s]"
      ]
     },
     "metadata": {},
     "output_type": "display_data"
    },
    {
     "data": {
      "application/vnd.jupyter.widget-view+json": {
       "model_id": "1fbb3e9154d4454f9bfe3e2cf9fda2a4",
       "version_major": 2,
       "version_minor": 0
      },
      "text/plain": [
       "  0%|          | 0/50 [00:00<?, ?it/s]"
      ]
     },
     "metadata": {},
     "output_type": "display_data"
    },
    {
     "name": "stdout",
     "output_type": "stream",
     "text": [
      "L2 of 44199.77734375\n",
      "TEST ERROR OF 2.43171\n",
      "Generating samples with temp of 0 topk of 5 and topp of 0.75\n"
     ]
    },
    {
     "data": {
      "application/vnd.jupyter.widget-view+json": {
       "model_id": "0e2623b10214452e8dee7c8ddd02c720",
       "version_major": 2,
       "version_minor": 0
      },
      "text/plain": [
       "  0%|          | 0/9 [00:00<?, ?it/s]"
      ]
     },
     "metadata": {},
     "output_type": "display_data"
    },
    {
     "name": "stdout",
     "output_type": "stream",
     "text": [
      "0.513671875 ARE TRUE\n",
      "8.75294117647059 AVG DIFF\n",
      "289 EPOCHS SINCE BEST LOSS OF 1.1750994539260864\n",
      "--------------------------------------\n",
      "EPOCH 290\n"
     ]
    },
    {
     "data": {
      "application/vnd.jupyter.widget-view+json": {
       "model_id": "3449c05139564cc4846e4961013bbce5",
       "version_major": 2,
       "version_minor": 0
      },
      "text/plain": [
       "  0%|          | 0/976 [00:00<?, ?it/s]"
      ]
     },
     "metadata": {},
     "output_type": "display_data"
    },
    {
     "name": "stderr",
     "output_type": "stream",
     "text": [
      "IOPub message rate exceeded.\n",
      "The Jupyter server will temporarily stop sending output\n",
      "to the client in order to avoid crashing it.\n",
      "To change this limit, set the config variable\n",
      "`--ServerApp.iopub_msg_rate_limit`.\n",
      "\n",
      "Current values:\n",
      "ServerApp.iopub_msg_rate_limit=1000.0 (msgs/sec)\n",
      "ServerApp.rate_limit_window=3.0 (secs)\n",
      "\n"
     ]
    }
   ],
   "source": [
    "#train causal\n",
    "search_results = {\"% True:\":[], \"Avg Diff\":[], \"Median Diff\":[], \"L2\":[], \"Test Error\":[]}\n",
    "model = DisorderTransformer(n_embedding=64, n_type_embedding=8, d_model=512, d_ff=1024, num_heads=8, depth=32, n_translation_layers=0, \n",
    "                            make_encodings=False, dropout_min_p=0, dropout_max_p=1).to(device)\n",
    "model = torch.compile(model, fullgraph=True)\n",
    "model = train_model(trainldr, testldr, model=model, epochs=num_epochs, test_batches=50,\n",
    "                    checkpoint_filename=\"model.pyt\", epochs_between_test=1, lr=1e-3,\n",
    "                    label_smoothing=0, weight_decay=1, temperature=0,\n",
    "                    mode=\"causal\")"
   ]
  },
  {
   "cell_type": "markdown",
   "id": "08eb0090-a0e7-4a80-bd20-5215925d08a8",
   "metadata": {},
   "source": [
    "## Train model which alternates left-to-right and right-to-left"
   ]
  },
  {
   "cell_type": "code",
   "execution_count": 19,
   "id": "153a6f25-0ddd-4e4a-ad72-21c7d09f10cd",
   "metadata": {
    "scrolled": true
   },
   "outputs": [
    {
     "name": "stdout",
     "output_type": "stream",
     "text": [
      "--------------------------------------\n",
      "EPOCH 0\n"
     ]
    },
    {
     "data": {
      "application/vnd.jupyter.widget-view+json": {
       "model_id": "fbc2f1f8fa774139bd625f209f595fce",
       "version_major": 2,
       "version_minor": 0
      },
      "text/plain": [
       "  0%|          | 0/976 [00:00<?, ?it/s]"
      ]
     },
     "metadata": {},
     "output_type": "display_data"
    },
    {
     "name": "stderr",
     "output_type": "stream",
     "text": [
      "IOPub message rate exceeded.\n",
      "The Jupyter server will temporarily stop sending output\n",
      "to the client in order to avoid crashing it.\n",
      "To change this limit, set the config variable\n",
      "`--ServerApp.iopub_msg_rate_limit`.\n",
      "\n",
      "Current values:\n",
      "ServerApp.iopub_msg_rate_limit=1000.0 (msgs/sec)\n",
      "ServerApp.rate_limit_window=3.0 (secs)\n",
      "\n"
     ]
    },
    {
     "data": {
      "application/vnd.jupyter.widget-view+json": {
       "model_id": "3bc94f76ce304d71aeb031de2dbe0955",
       "version_major": 2,
       "version_minor": 0
      },
      "text/plain": [
       "  0%|          | 0/50 [00:00<?, ?it/s]"
      ]
     },
     "metadata": {},
     "output_type": "display_data"
    },
    {
     "name": "stdout",
     "output_type": "stream",
     "text": [
      "L2 of 48740.890625\n",
      "TEST ERROR OF 1.66562\n",
      "Generating samples with temp of 0 topk of 5 and topp of 0.75\n"
     ]
    },
    {
     "data": {
      "application/vnd.jupyter.widget-view+json": {
       "model_id": "234a317a9b8d48289e0ccb4b784700ee",
       "version_major": 2,
       "version_minor": 0
      },
      "text/plain": [
       "  0%|          | 0/9 [00:00<?, ?it/s]"
      ]
     },
     "metadata": {},
     "output_type": "display_data"
    },
    {
     "name": "stdout",
     "output_type": "stream",
     "text": [
      "0.8291015625 ARE TRUE\n",
      "2.300097751710655 AVG DIFF\n",
      "43 EPOCHS SINCE BEST LOSS OF 1.1475877475738525\n",
      "--------------------------------------\n",
      "EPOCH 47\n"
     ]
    },
    {
     "data": {
      "application/vnd.jupyter.widget-view+json": {
       "model_id": "6f079109075a4468adaecea06738b544",
       "version_major": 2,
       "version_minor": 0
      },
      "text/plain": [
       "  0%|          | 0/976 [00:00<?, ?it/s]"
      ]
     },
     "metadata": {},
     "output_type": "display_data"
    },
    {
     "data": {
      "application/vnd.jupyter.widget-view+json": {
       "model_id": "19058917b7394e00a57edc2f5c4f3c5d",
       "version_major": 2,
       "version_minor": 0
      },
      "text/plain": [
       "  0%|          | 0/50 [00:00<?, ?it/s]"
      ]
     },
     "metadata": {},
     "output_type": "display_data"
    },
    {
     "name": "stdout",
     "output_type": "stream",
     "text": [
      "L2 of 48436.83203125\n",
      "TEST ERROR OF 1.70367\n",
      "Generating samples with temp of 0 topk of 5 and topp of 0.75\n"
     ]
    },
    {
     "data": {
      "application/vnd.jupyter.widget-view+json": {
       "model_id": "2be8909a531a42919f56b1cfb11dc28a",
       "version_major": 2,
       "version_minor": 0
      },
      "text/plain": [
       "  0%|          | 0/9 [00:00<?, ?it/s]"
      ]
     },
     "metadata": {},
     "output_type": "display_data"
    },
    {
     "name": "stdout",
     "output_type": "stream",
     "text": [
      "0.83984375 ARE TRUE\n",
      "3.505859375 AVG DIFF\n",
      "44 EPOCHS SINCE BEST LOSS OF 1.1475877475738525\n",
      "--------------------------------------\n",
      "EPOCH 48\n"
     ]
    },
    {
     "data": {
      "application/vnd.jupyter.widget-view+json": {
       "model_id": "9ee5c74accba4bf4a4b2d72098d29b87",
       "version_major": 2,
       "version_minor": 0
      },
      "text/plain": [
       "  0%|          | 0/976 [00:00<?, ?it/s]"
      ]
     },
     "metadata": {},
     "output_type": "display_data"
    },
    {
     "name": "stderr",
     "output_type": "stream",
     "text": [
      "IOPub message rate exceeded.\n",
      "The Jupyter server will temporarily stop sending output\n",
      "to the client in order to avoid crashing it.\n",
      "To change this limit, set the config variable\n",
      "`--ServerApp.iopub_msg_rate_limit`.\n",
      "\n",
      "Current values:\n",
      "ServerApp.iopub_msg_rate_limit=1000.0 (msgs/sec)\n",
      "ServerApp.rate_limit_window=3.0 (secs)\n",
      "\n"
     ]
    },
    {
     "data": {
      "application/vnd.jupyter.widget-view+json": {
       "model_id": "34417a5441c14b8a9b11e3aef2915086",
       "version_major": 2,
       "version_minor": 0
      },
      "text/plain": [
       "  0%|          | 0/50 [00:00<?, ?it/s]"
      ]
     },
     "metadata": {},
     "output_type": "display_data"
    },
    {
     "name": "stdout",
     "output_type": "stream",
     "text": [
      "L2 of 46324.55078125\n",
      "TEST ERROR OF 1.77315\n",
      "Generating samples with temp of 0 topk of 5 and topp of 0.75\n"
     ]
    },
    {
     "data": {
      "application/vnd.jupyter.widget-view+json": {
       "model_id": "09d173fea20a4995bafb29af724fe8fe",
       "version_major": 2,
       "version_minor": 0
      },
      "text/plain": [
       "  0%|          | 0/9 [00:00<?, ?it/s]"
      ]
     },
     "metadata": {},
     "output_type": "display_data"
    },
    {
     "name": "stdout",
     "output_type": "stream",
     "text": [
      "0.8798828125 ARE TRUE\n",
      "3.55859375 AVG DIFF\n",
      "92 EPOCHS SINCE BEST LOSS OF 1.1475877475738525\n",
      "--------------------------------------\n",
      "EPOCH 96\n"
     ]
    },
    {
     "data": {
      "application/vnd.jupyter.widget-view+json": {
       "model_id": "0f22ebb8925a43c1a2d0d98b51fec3f9",
       "version_major": 2,
       "version_minor": 0
      },
      "text/plain": [
       "  0%|          | 0/976 [00:00<?, ?it/s]"
      ]
     },
     "metadata": {},
     "output_type": "display_data"
    },
    {
     "name": "stderr",
     "output_type": "stream",
     "text": [
      "IOPub message rate exceeded.\n",
      "The Jupyter server will temporarily stop sending output\n",
      "to the client in order to avoid crashing it.\n",
      "To change this limit, set the config variable\n",
      "`--ServerApp.iopub_msg_rate_limit`.\n",
      "\n",
      "Current values:\n",
      "ServerApp.iopub_msg_rate_limit=1000.0 (msgs/sec)\n",
      "ServerApp.rate_limit_window=3.0 (secs)\n",
      "\n"
     ]
    },
    {
     "data": {
      "application/vnd.jupyter.widget-view+json": {
       "model_id": "57f65499477443e0ab2a1596cdfb82f2",
       "version_major": 2,
       "version_minor": 0
      },
      "text/plain": [
       "  0%|          | 0/50 [00:00<?, ?it/s]"
      ]
     },
     "metadata": {},
     "output_type": "display_data"
    },
    {
     "name": "stdout",
     "output_type": "stream",
     "text": [
      "L2 of 46611.7890625\n",
      "TEST ERROR OF 1.7502\n",
      "Generating samples with temp of 0 topk of 5 and topp of 0.75\n"
     ]
    },
    {
     "data": {
      "application/vnd.jupyter.widget-view+json": {
       "model_id": "108989d2bfde4682bc8bad4e4c7871c2",
       "version_major": 2,
       "version_minor": 0
      },
      "text/plain": [
       "  0%|          | 0/9 [00:00<?, ?it/s]"
      ]
     },
     "metadata": {},
     "output_type": "display_data"
    },
    {
     "name": "stdout",
     "output_type": "stream",
     "text": [
      "0.90625 ARE TRUE\n",
      "3.497551420176298 AVG DIFF\n",
      "141 EPOCHS SINCE BEST LOSS OF 1.1475877475738525\n",
      "--------------------------------------\n",
      "EPOCH 145\n"
     ]
    },
    {
     "data": {
      "application/vnd.jupyter.widget-view+json": {
       "model_id": "7feb880868d94b98aefa604d5bbd767f",
       "version_major": 2,
       "version_minor": 0
      },
      "text/plain": [
       "  0%|          | 0/976 [00:00<?, ?it/s]"
      ]
     },
     "metadata": {},
     "output_type": "display_data"
    },
    {
     "name": "stderr",
     "output_type": "stream",
     "text": [
      "IOPub message rate exceeded.\n",
      "The Jupyter server will temporarily stop sending output\n",
      "to the client in order to avoid crashing it.\n",
      "To change this limit, set the config variable\n",
      "`--ServerApp.iopub_msg_rate_limit`.\n",
      "\n",
      "Current values:\n",
      "ServerApp.iopub_msg_rate_limit=1000.0 (msgs/sec)\n",
      "ServerApp.rate_limit_window=3.0 (secs)\n",
      "\n"
     ]
    },
    {
     "data": {
      "application/vnd.jupyter.widget-view+json": {
       "model_id": "7aa593253ad1467cabbcb128290dd5a7",
       "version_major": 2,
       "version_minor": 0
      },
      "text/plain": [
       "  0%|          | 0/50 [00:00<?, ?it/s]"
      ]
     },
     "metadata": {},
     "output_type": "display_data"
    },
    {
     "name": "stdout",
     "output_type": "stream",
     "text": [
      "L2 of 46166.90625\n",
      "TEST ERROR OF 1.79242\n",
      "Generating samples with temp of 0 topk of 5 and topp of 0.75\n"
     ]
    },
    {
     "data": {
      "application/vnd.jupyter.widget-view+json": {
       "model_id": "03a5dea10c5d4facbb3459d26fe6fb8a",
       "version_major": 2,
       "version_minor": 0
      },
      "text/plain": [
       "  0%|          | 0/9 [00:00<?, ?it/s]"
      ]
     },
     "metadata": {},
     "output_type": "display_data"
    },
    {
     "name": "stdout",
     "output_type": "stream",
     "text": [
      "0.9111328125 ARE TRUE\n",
      "12.448579823702254 AVG DIFF\n",
      "189 EPOCHS SINCE BEST LOSS OF 1.1475877475738525\n",
      "--------------------------------------\n",
      "EPOCH 193\n"
     ]
    },
    {
     "data": {
      "application/vnd.jupyter.widget-view+json": {
       "model_id": "e2a95fde9cf8486dba52556079c232ff",
       "version_major": 2,
       "version_minor": 0
      },
      "text/plain": [
       "  0%|          | 0/976 [00:00<?, ?it/s]"
      ]
     },
     "metadata": {},
     "output_type": "display_data"
    },
    {
     "data": {
      "application/vnd.jupyter.widget-view+json": {
       "model_id": "8842b1181a5c44609091031b679ec67a",
       "version_major": 2,
       "version_minor": 0
      },
      "text/plain": [
       "  0%|          | 0/50 [00:00<?, ?it/s]"
      ]
     },
     "metadata": {},
     "output_type": "display_data"
    },
    {
     "name": "stdout",
     "output_type": "stream",
     "text": [
      "L2 of 46356.44921875\n",
      "TEST ERROR OF 1.80642\n",
      "Generating samples with temp of 0 topk of 5 and topp of 0.75\n"
     ]
    },
    {
     "data": {
      "application/vnd.jupyter.widget-view+json": {
       "model_id": "0ad1c51ab045465f85368278cb37bbc8",
       "version_major": 2,
       "version_minor": 0
      },
      "text/plain": [
       "  0%|          | 0/9 [00:00<?, ?it/s]"
      ]
     },
     "metadata": {},
     "output_type": "display_data"
    },
    {
     "name": "stdout",
     "output_type": "stream",
     "text": [
      "0.921875 ARE TRUE\n",
      "2.3515625 AVG DIFF\n",
      "190 EPOCHS SINCE BEST LOSS OF 1.1475877475738525\n",
      "--------------------------------------\n",
      "EPOCH 194\n"
     ]
    },
    {
     "data": {
      "application/vnd.jupyter.widget-view+json": {
       "model_id": "becf7f18c707472eac330b97ba4e94f4",
       "version_major": 2,
       "version_minor": 0
      },
      "text/plain": [
       "  0%|          | 0/976 [00:00<?, ?it/s]"
      ]
     },
     "metadata": {},
     "output_type": "display_data"
    },
    {
     "name": "stderr",
     "output_type": "stream",
     "text": [
      "IOPub message rate exceeded.\n",
      "The Jupyter server will temporarily stop sending output\n",
      "to the client in order to avoid crashing it.\n",
      "To change this limit, set the config variable\n",
      "`--ServerApp.iopub_msg_rate_limit`.\n",
      "\n",
      "Current values:\n",
      "ServerApp.iopub_msg_rate_limit=1000.0 (msgs/sec)\n",
      "ServerApp.rate_limit_window=3.0 (secs)\n",
      "\n"
     ]
    },
    {
     "data": {
      "application/vnd.jupyter.widget-view+json": {
       "model_id": "a458939d206345d58deacd9b0aec0490",
       "version_major": 2,
       "version_minor": 0
      },
      "text/plain": [
       "  0%|          | 0/50 [00:00<?, ?it/s]"
      ]
     },
     "metadata": {},
     "output_type": "display_data"
    },
    {
     "name": "stdout",
     "output_type": "stream",
     "text": [
      "L2 of 45946.9609375\n",
      "TEST ERROR OF 1.79795\n",
      "Generating samples with temp of 0 topk of 5 and topp of 0.75\n"
     ]
    },
    {
     "data": {
      "application/vnd.jupyter.widget-view+json": {
       "model_id": "0f2982546bdd4805a5664a76f690d88e",
       "version_major": 2,
       "version_minor": 0
      },
      "text/plain": [
       "  0%|          | 0/9 [00:00<?, ?it/s]"
      ]
     },
     "metadata": {},
     "output_type": "display_data"
    },
    {
     "name": "stdout",
     "output_type": "stream",
     "text": [
      "0.9375 ARE TRUE\n",
      "5.623655913978495 AVG DIFF\n",
      "239 EPOCHS SINCE BEST LOSS OF 1.1475877475738525\n",
      "--------------------------------------\n",
      "EPOCH 243\n"
     ]
    },
    {
     "data": {
      "application/vnd.jupyter.widget-view+json": {
       "model_id": "a278bf0939e441cf93f20737a1c24cac",
       "version_major": 2,
       "version_minor": 0
      },
      "text/plain": [
       "  0%|          | 0/976 [00:00<?, ?it/s]"
      ]
     },
     "metadata": {},
     "output_type": "display_data"
    },
    {
     "name": "stderr",
     "output_type": "stream",
     "text": [
      "IOPub message rate exceeded.\n",
      "The Jupyter server will temporarily stop sending output\n",
      "to the client in order to avoid crashing it.\n",
      "To change this limit, set the config variable\n",
      "`--ServerApp.iopub_msg_rate_limit`.\n",
      "\n",
      "Current values:\n",
      "ServerApp.iopub_msg_rate_limit=1000.0 (msgs/sec)\n",
      "ServerApp.rate_limit_window=3.0 (secs)\n",
      "\n"
     ]
    },
    {
     "data": {
      "application/vnd.jupyter.widget-view+json": {
       "model_id": "8438d34a0d65405683256dd8cb9a26ce",
       "version_major": 2,
       "version_minor": 0
      },
      "text/plain": [
       "  0%|          | 0/50 [00:00<?, ?it/s]"
      ]
     },
     "metadata": {},
     "output_type": "display_data"
    },
    {
     "name": "stdout",
     "output_type": "stream",
     "text": [
      "L2 of 46018.66796875\n",
      "TEST ERROR OF 1.81751\n",
      "Generating samples with temp of 0 topk of 5 and topp of 0.75\n"
     ]
    },
    {
     "data": {
      "application/vnd.jupyter.widget-view+json": {
       "model_id": "553c98ea9edf46ec9feb1a2669f4dceb",
       "version_major": 2,
       "version_minor": 0
      },
      "text/plain": [
       "  0%|          | 0/9 [00:00<?, ?it/s]"
      ]
     },
     "metadata": {},
     "output_type": "display_data"
    },
    {
     "name": "stdout",
     "output_type": "stream",
     "text": [
      "0.943359375 ARE TRUE\n",
      "2.533203125 AVG DIFF\n",
      "288 EPOCHS SINCE BEST LOSS OF 1.1475877475738525\n",
      "--------------------------------------\n",
      "EPOCH 292\n"
     ]
    },
    {
     "data": {
      "application/vnd.jupyter.widget-view+json": {
       "model_id": "00ac02d3b3d24afd84aea7e1770d7a44",
       "version_major": 2,
       "version_minor": 0
      },
      "text/plain": [
       "  0%|          | 0/976 [00:00<?, ?it/s]"
      ]
     },
     "metadata": {},
     "output_type": "display_data"
    },
    {
     "name": "stderr",
     "output_type": "stream",
     "text": [
      "IOPub message rate exceeded.\n",
      "The Jupyter server will temporarily stop sending output\n",
      "to the client in order to avoid crashing it.\n",
      "To change this limit, set the config variable\n",
      "`--ServerApp.iopub_msg_rate_limit`.\n",
      "\n",
      "Current values:\n",
      "ServerApp.iopub_msg_rate_limit=1000.0 (msgs/sec)\n",
      "ServerApp.rate_limit_window=3.0 (secs)\n",
      "\n"
     ]
    }
   ],
   "source": [
    "#train bidirectional\n",
    "search_results = {\"% True:\":[], \"Avg Diff\":[], \"Median Diff\":[], \"L2\":[], \"Test Error\":[]}\n",
    "model = DisorderTransformer(n_embedding=64, n_type_embedding=8, d_model=512, d_ff=1024, num_heads=8, depth=32, n_translation_layers=0, \n",
    "                            make_encodings=False, dropout_min_p=0, dropout_max_p=1).to(device)\n",
    "model = torch.compile(model, fullgraph=True)\n",
    "model = train_model(trainldr, testldr, model=model, epochs=num_epochs, test_batches=50,\n",
    "                    checkpoint_filename=\"model.pyt\", epochs_between_test=1, lr=1e-3,\n",
    "                    label_smoothing=0, weight_decay=1, temperature=0,\n",
    "                    mode=\"bidirectional\")"
   ]
  },
  {
   "cell_type": "markdown",
   "id": "1ef9d739-44dc-4cfc-a1d1-f6dbf2aa136c",
   "metadata": {},
   "source": [
    "## Train model which uses a pseudo-random sequence order. \n",
    "\n",
    "Sequence order is random but the \"next\" token in the sequence is biased to be \"near\" the \"previous\" token in the original sequence. This simplifies the learning objective dramatically while retaining the desired randomness."
   ]
  },
  {
   "cell_type": "code",
   "execution_count": 20,
   "id": "23429188-8508-4224-b8b2-66814dd31b38",
   "metadata": {
    "scrolled": true
   },
   "outputs": [
    {
     "name": "stdout",
     "output_type": "stream",
     "text": [
      "--------------------------------------\n",
      "EPOCH 0\n"
     ]
    },
    {
     "data": {
      "application/vnd.jupyter.widget-view+json": {
       "model_id": "f4a191c18ad448fb975ab1948e17cb11",
       "version_major": 2,
       "version_minor": 0
      },
      "text/plain": [
       "  0%|          | 0/976 [00:00<?, ?it/s]"
      ]
     },
     "metadata": {},
     "output_type": "display_data"
    },
    {
     "name": "stderr",
     "output_type": "stream",
     "text": [
      "IOPub message rate exceeded.\n",
      "The Jupyter server will temporarily stop sending output\n",
      "to the client in order to avoid crashing it.\n",
      "To change this limit, set the config variable\n",
      "`--ServerApp.iopub_msg_rate_limit`.\n",
      "\n",
      "Current values:\n",
      "ServerApp.iopub_msg_rate_limit=1000.0 (msgs/sec)\n",
      "ServerApp.rate_limit_window=3.0 (secs)\n",
      "\n"
     ]
    },
    {
     "data": {
      "application/vnd.jupyter.widget-view+json": {
       "model_id": "52f86dc7817a48abbb4d0c6a06cbb05a",
       "version_major": 2,
       "version_minor": 0
      },
      "text/plain": [
       "  0%|          | 0/50 [00:00<?, ?it/s]"
      ]
     },
     "metadata": {},
     "output_type": "display_data"
    },
    {
     "name": "stdout",
     "output_type": "stream",
     "text": [
      "L2 of 44538.10546875\n",
      "TEST ERROR OF 1.17352\n",
      "Generating samples with temp of 0 topk of 5 and topp of 0.75\n"
     ]
    },
    {
     "data": {
      "application/vnd.jupyter.widget-view+json": {
       "model_id": "8c6afe74fd494a79b1446aebc501c2d4",
       "version_major": 2,
       "version_minor": 0
      },
      "text/plain": [
       "  0%|          | 0/9 [00:00<?, ?it/s]"
      ]
     },
     "metadata": {},
     "output_type": "display_data"
    },
    {
     "name": "stdout",
     "output_type": "stream",
     "text": [
      "0.31640625 ARE TRUE\n",
      "1.53515625 AVG DIFF\n",
      "0 EPOCHS SINCE BEST LOSS OF 1.1735246133804322\n",
      "--------------------------------------\n",
      "EPOCH 48\n"
     ]
    },
    {
     "data": {
      "application/vnd.jupyter.widget-view+json": {
       "model_id": "4075de459de949f29b55930d380b3865",
       "version_major": 2,
       "version_minor": 0
      },
      "text/plain": [
       "  0%|          | 0/976 [00:00<?, ?it/s]"
      ]
     },
     "metadata": {},
     "output_type": "display_data"
    },
    {
     "data": {
      "application/vnd.jupyter.widget-view+json": {
       "model_id": "0984cd51c9854115876f9c4832a85e91",
       "version_major": 2,
       "version_minor": 0
      },
      "text/plain": [
       "  0%|          | 0/50 [00:00<?, ?it/s]"
      ]
     },
     "metadata": {},
     "output_type": "display_data"
    },
    {
     "name": "stdout",
     "output_type": "stream",
     "text": [
      "L2 of 45783.4765625\n",
      "TEST ERROR OF 1.13876\n",
      "Generating samples with temp of 0 topk of 5 and topp of 0.75\n"
     ]
    },
    {
     "data": {
      "application/vnd.jupyter.widget-view+json": {
       "model_id": "8a445eec11f2485c9409cdc7217fbf83",
       "version_major": 2,
       "version_minor": 0
      },
      "text/plain": [
       "  0%|          | 0/9 [00:00<?, ?it/s]"
      ]
     },
     "metadata": {},
     "output_type": "display_data"
    },
    {
     "name": "stdout",
     "output_type": "stream",
     "text": [
      "0.548828125 ARE TRUE\n",
      "1.2607421875 AVG DIFF\n",
      "0 EPOCHS SINCE BEST LOSS OF 1.1387622141838074\n",
      "--------------------------------------\n",
      "EPOCH 49\n"
     ]
    },
    {
     "data": {
      "application/vnd.jupyter.widget-view+json": {
       "model_id": "aa037f88a17947daa323c2e8b4a28d7a",
       "version_major": 2,
       "version_minor": 0
      },
      "text/plain": [
       "  0%|          | 0/976 [00:00<?, ?it/s]"
      ]
     },
     "metadata": {},
     "output_type": "display_data"
    },
    {
     "name": "stderr",
     "output_type": "stream",
     "text": [
      "IOPub message rate exceeded.\n",
      "The Jupyter server will temporarily stop sending output\n",
      "to the client in order to avoid crashing it.\n",
      "To change this limit, set the config variable\n",
      "`--ServerApp.iopub_msg_rate_limit`.\n",
      "\n",
      "Current values:\n",
      "ServerApp.iopub_msg_rate_limit=1000.0 (msgs/sec)\n",
      "ServerApp.rate_limit_window=3.0 (secs)\n",
      "\n"
     ]
    },
    {
     "data": {
      "application/vnd.jupyter.widget-view+json": {
       "model_id": "ee96b92c82b6452eaeba7f0fa1233e92",
       "version_major": 2,
       "version_minor": 0
      },
      "text/plain": [
       "  0%|          | 0/50 [00:00<?, ?it/s]"
      ]
     },
     "metadata": {},
     "output_type": "display_data"
    },
    {
     "name": "stdout",
     "output_type": "stream",
     "text": [
      "L2 of 45041.8828125\n",
      "TEST ERROR OF 1.15766\n",
      "Generating samples with temp of 0 topk of 5 and topp of 0.75\n"
     ]
    },
    {
     "data": {
      "application/vnd.jupyter.widget-view+json": {
       "model_id": "001a480855d24faeb19a9efce44fad7f",
       "version_major": 2,
       "version_minor": 0
      },
      "text/plain": [
       "  0%|          | 0/9 [00:00<?, ?it/s]"
      ]
     },
     "metadata": {},
     "output_type": "display_data"
    },
    {
     "name": "stdout",
     "output_type": "stream",
     "text": [
      "0.943359375 ARE TRUE\n",
      "0.642578125 AVG DIFF\n",
      "38 EPOCHS SINCE BEST LOSS OF 1.0676458334922792\n",
      "--------------------------------------\n",
      "EPOCH 97\n"
     ]
    },
    {
     "data": {
      "application/vnd.jupyter.widget-view+json": {
       "model_id": "df7e438eeb0a4ae1bb451290a77b64dc",
       "version_major": 2,
       "version_minor": 0
      },
      "text/plain": [
       "  0%|          | 0/976 [00:00<?, ?it/s]"
      ]
     },
     "metadata": {},
     "output_type": "display_data"
    },
    {
     "name": "stderr",
     "output_type": "stream",
     "text": [
      "IOPub message rate exceeded.\n",
      "The Jupyter server will temporarily stop sending output\n",
      "to the client in order to avoid crashing it.\n",
      "To change this limit, set the config variable\n",
      "`--ServerApp.iopub_msg_rate_limit`.\n",
      "\n",
      "Current values:\n",
      "ServerApp.iopub_msg_rate_limit=1000.0 (msgs/sec)\n",
      "ServerApp.rate_limit_window=3.0 (secs)\n",
      "\n"
     ]
    },
    {
     "data": {
      "application/vnd.jupyter.widget-view+json": {
       "model_id": "d64b5d59f93443f7869f55e003692f50",
       "version_major": 2,
       "version_minor": 0
      },
      "text/plain": [
       "  0%|          | 0/50 [00:00<?, ?it/s]"
      ]
     },
     "metadata": {},
     "output_type": "display_data"
    },
    {
     "name": "stdout",
     "output_type": "stream",
     "text": [
      "L2 of 46455.16796875\n",
      "TEST ERROR OF 1.20428\n",
      "Generating samples with temp of 0 topk of 5 and topp of 0.75\n"
     ]
    },
    {
     "data": {
      "application/vnd.jupyter.widget-view+json": {
       "model_id": "8177baaf5de84f1cb393d3666e306cfe",
       "version_major": 2,
       "version_minor": 0
      },
      "text/plain": [
       "  0%|          | 0/9 [00:00<?, ?it/s]"
      ]
     },
     "metadata": {},
     "output_type": "display_data"
    },
    {
     "name": "stdout",
     "output_type": "stream",
     "text": [
      "0.9404296875 ARE TRUE\n",
      "1.369140625 AVG DIFF\n",
      "86 EPOCHS SINCE BEST LOSS OF 1.0676458334922792\n",
      "--------------------------------------\n",
      "EPOCH 145\n"
     ]
    },
    {
     "data": {
      "application/vnd.jupyter.widget-view+json": {
       "model_id": "950f7f1003924993bc85e1fd2890b721",
       "version_major": 2,
       "version_minor": 0
      },
      "text/plain": [
       "  0%|          | 0/976 [00:00<?, ?it/s]"
      ]
     },
     "metadata": {},
     "output_type": "display_data"
    },
    {
     "data": {
      "application/vnd.jupyter.widget-view+json": {
       "model_id": "cbb617de67944e759adc42e3f4eac812",
       "version_major": 2,
       "version_minor": 0
      },
      "text/plain": [
       "  0%|          | 0/50 [00:00<?, ?it/s]"
      ]
     },
     "metadata": {},
     "output_type": "display_data"
    },
    {
     "name": "stdout",
     "output_type": "stream",
     "text": [
      "L2 of 46159.0859375\n",
      "TEST ERROR OF 1.22386\n",
      "Generating samples with temp of 0 topk of 5 and topp of 0.75\n"
     ]
    },
    {
     "data": {
      "application/vnd.jupyter.widget-view+json": {
       "model_id": "fccd287869634777b6ca643a654f4cd4",
       "version_major": 2,
       "version_minor": 0
      },
      "text/plain": [
       "  0%|          | 0/9 [00:00<?, ?it/s]"
      ]
     },
     "metadata": {},
     "output_type": "display_data"
    },
    {
     "name": "stdout",
     "output_type": "stream",
     "text": [
      "0.9453125 ARE TRUE\n",
      "1.1865234375 AVG DIFF\n",
      "87 EPOCHS SINCE BEST LOSS OF 1.0676458334922792\n",
      "--------------------------------------\n",
      "EPOCH 146\n"
     ]
    },
    {
     "data": {
      "application/vnd.jupyter.widget-view+json": {
       "model_id": "0d5ecb8ac6f24ae5b9f7a0af2d76570e",
       "version_major": 2,
       "version_minor": 0
      },
      "text/plain": [
       "  0%|          | 0/976 [00:00<?, ?it/s]"
      ]
     },
     "metadata": {},
     "output_type": "display_data"
    },
    {
     "name": "stderr",
     "output_type": "stream",
     "text": [
      "IOPub message rate exceeded.\n",
      "The Jupyter server will temporarily stop sending output\n",
      "to the client in order to avoid crashing it.\n",
      "To change this limit, set the config variable\n",
      "`--ServerApp.iopub_msg_rate_limit`.\n",
      "\n",
      "Current values:\n",
      "ServerApp.iopub_msg_rate_limit=1000.0 (msgs/sec)\n",
      "ServerApp.rate_limit_window=3.0 (secs)\n",
      "\n"
     ]
    },
    {
     "data": {
      "application/vnd.jupyter.widget-view+json": {
       "model_id": "5157d533ef1f4b8586be63388c220bbe",
       "version_major": 2,
       "version_minor": 0
      },
      "text/plain": [
       "  0%|          | 0/50 [00:00<?, ?it/s]"
      ]
     },
     "metadata": {},
     "output_type": "display_data"
    },
    {
     "name": "stdout",
     "output_type": "stream",
     "text": [
      "L2 of 45917.55859375\n",
      "TEST ERROR OF 1.22769\n",
      "Generating samples with temp of 0 topk of 5 and topp of 0.75\n"
     ]
    },
    {
     "data": {
      "application/vnd.jupyter.widget-view+json": {
       "model_id": "b5ad052e990249858a8599fd3c840f8f",
       "version_major": 2,
       "version_minor": 0
      },
      "text/plain": [
       "  0%|          | 0/9 [00:00<?, ?it/s]"
      ]
     },
     "metadata": {},
     "output_type": "display_data"
    },
    {
     "name": "stdout",
     "output_type": "stream",
     "text": [
      "0.9482421875 ARE TRUE\n",
      "0.755859375 AVG DIFF\n",
      "134 EPOCHS SINCE BEST LOSS OF 1.0676458334922792\n",
      "--------------------------------------\n",
      "EPOCH 193\n"
     ]
    },
    {
     "data": {
      "application/vnd.jupyter.widget-view+json": {
       "model_id": "f2fabaadfa5f44e8aa211c4687fd9390",
       "version_major": 2,
       "version_minor": 0
      },
      "text/plain": [
       "  0%|          | 0/976 [00:00<?, ?it/s]"
      ]
     },
     "metadata": {},
     "output_type": "display_data"
    },
    {
     "name": "stderr",
     "output_type": "stream",
     "text": [
      "IOPub message rate exceeded.\n",
      "The Jupyter server will temporarily stop sending output\n",
      "to the client in order to avoid crashing it.\n",
      "To change this limit, set the config variable\n",
      "`--ServerApp.iopub_msg_rate_limit`.\n",
      "\n",
      "Current values:\n",
      "ServerApp.iopub_msg_rate_limit=1000.0 (msgs/sec)\n",
      "ServerApp.rate_limit_window=3.0 (secs)\n",
      "\n",
      "IOPub message rate exceeded.\n",
      "The Jupyter server will temporarily stop sending output\n",
      "to the client in order to avoid crashing it.\n",
      "To change this limit, set the config variable\n",
      "`--ServerApp.iopub_msg_rate_limit`.\n",
      "\n",
      "Current values:\n",
      "ServerApp.iopub_msg_rate_limit=1000.0 (msgs/sec)\n",
      "ServerApp.rate_limit_window=3.0 (secs)\n",
      "\n"
     ]
    },
    {
     "data": {
      "application/vnd.jupyter.widget-view+json": {
       "model_id": "e5cd49fface3484a980f8bd5303d4da8",
       "version_major": 2,
       "version_minor": 0
      },
      "text/plain": [
       "  0%|          | 0/50 [00:00<?, ?it/s]"
      ]
     },
     "metadata": {},
     "output_type": "display_data"
    },
    {
     "name": "stdout",
     "output_type": "stream",
     "text": [
      "L2 of 44926.22265625\n",
      "TEST ERROR OF 1.25565\n",
      "Generating samples with temp of 0 topk of 5 and topp of 0.75\n"
     ]
    },
    {
     "data": {
      "application/vnd.jupyter.widget-view+json": {
       "model_id": "eaf450b8255d4af5bd31fb7ca59cd33a",
       "version_major": 2,
       "version_minor": 0
      },
      "text/plain": [
       "  0%|          | 0/9 [00:00<?, ?it/s]"
      ]
     },
     "metadata": {},
     "output_type": "display_data"
    },
    {
     "name": "stdout",
     "output_type": "stream",
     "text": [
      "0.9560546875 ARE TRUE\n",
      "1.0851272015655578 AVG DIFF\n",
      "182 EPOCHS SINCE BEST LOSS OF 1.0676458334922792\n",
      "--------------------------------------\n",
      "EPOCH 241\n"
     ]
    },
    {
     "data": {
      "application/vnd.jupyter.widget-view+json": {
       "model_id": "fd6a3585c19b4f45a65cb3ababe3be65",
       "version_major": 2,
       "version_minor": 0
      },
      "text/plain": [
       "  0%|          | 0/976 [00:00<?, ?it/s]"
      ]
     },
     "metadata": {},
     "output_type": "display_data"
    },
    {
     "name": "stderr",
     "output_type": "stream",
     "text": [
      "IOPub message rate exceeded.\n",
      "The Jupyter server will temporarily stop sending output\n",
      "to the client in order to avoid crashing it.\n",
      "To change this limit, set the config variable\n",
      "`--ServerApp.iopub_msg_rate_limit`.\n",
      "\n",
      "Current values:\n",
      "ServerApp.iopub_msg_rate_limit=1000.0 (msgs/sec)\n",
      "ServerApp.rate_limit_window=3.0 (secs)\n",
      "\n",
      "IOPub message rate exceeded.\n",
      "The Jupyter server will temporarily stop sending output\n",
      "to the client in order to avoid crashing it.\n",
      "To change this limit, set the config variable\n",
      "`--ServerApp.iopub_msg_rate_limit`.\n",
      "\n",
      "Current values:\n",
      "ServerApp.iopub_msg_rate_limit=1000.0 (msgs/sec)\n",
      "ServerApp.rate_limit_window=3.0 (secs)\n",
      "\n"
     ]
    },
    {
     "data": {
      "application/vnd.jupyter.widget-view+json": {
       "model_id": "98a34385add44fefb63ab005352cdab7",
       "version_major": 2,
       "version_minor": 0
      },
      "text/plain": [
       "  0%|          | 0/50 [00:00<?, ?it/s]"
      ]
     },
     "metadata": {},
     "output_type": "display_data"
    },
    {
     "name": "stdout",
     "output_type": "stream",
     "text": [
      "L2 of 45181.74609375\n",
      "TEST ERROR OF 1.22862\n",
      "Generating samples with temp of 0 topk of 5 and topp of 0.75\n"
     ]
    },
    {
     "data": {
      "application/vnd.jupyter.widget-view+json": {
       "model_id": "5ccba689b2bb430badfa2adf4897324b",
       "version_major": 2,
       "version_minor": 0
      },
      "text/plain": [
       "  0%|          | 0/9 [00:00<?, ?it/s]"
      ]
     },
     "metadata": {},
     "output_type": "display_data"
    },
    {
     "name": "stdout",
     "output_type": "stream",
     "text": [
      "0.9462890625 ARE TRUE\n",
      "0.8349609375 AVG DIFF\n",
      "230 EPOCHS SINCE BEST LOSS OF 1.0676458334922792\n",
      "--------------------------------------\n",
      "EPOCH 289\n"
     ]
    },
    {
     "data": {
      "application/vnd.jupyter.widget-view+json": {
       "model_id": "52f3d2128d60401b94ee778db6c9259d",
       "version_major": 2,
       "version_minor": 0
      },
      "text/plain": [
       "  0%|          | 0/976 [00:00<?, ?it/s]"
      ]
     },
     "metadata": {},
     "output_type": "display_data"
    },
    {
     "name": "stderr",
     "output_type": "stream",
     "text": [
      "IOPub message rate exceeded.\n",
      "The Jupyter server will temporarily stop sending output\n",
      "to the client in order to avoid crashing it.\n",
      "To change this limit, set the config variable\n",
      "`--ServerApp.iopub_msg_rate_limit`.\n",
      "\n",
      "Current values:\n",
      "ServerApp.iopub_msg_rate_limit=1000.0 (msgs/sec)\n",
      "ServerApp.rate_limit_window=3.0 (secs)\n",
      "\n"
     ]
    },
    {
     "data": {
      "application/vnd.jupyter.widget-view+json": {
       "model_id": "676c2131acc34016b239769d5c8e4bb7",
       "version_major": 2,
       "version_minor": 0
      },
      "text/plain": [
       "  0%|          | 0/50 [00:00<?, ?it/s]"
      ]
     },
     "metadata": {},
     "output_type": "display_data"
    },
    {
     "name": "stdout",
     "output_type": "stream",
     "text": [
      "L2 of 44392.13671875\n",
      "TEST ERROR OF 1.22845\n",
      "Generating samples with temp of 0 topk of 5 and topp of 0.75\n"
     ]
    },
    {
     "data": {
      "application/vnd.jupyter.widget-view+json": {
       "model_id": "e4ac0691cdf64a6589f297121bbd5235",
       "version_major": 2,
       "version_minor": 0
      },
      "text/plain": [
       "  0%|          | 0/9 [00:00<?, ?it/s]"
      ]
     },
     "metadata": {},
     "output_type": "display_data"
    },
    {
     "name": "stdout",
     "output_type": "stream",
     "text": [
      "0.94140625 ARE TRUE\n",
      "1.0546875 AVG DIFF\n",
      "239 EPOCHS SINCE BEST LOSS OF 1.0676458334922792\n",
      "--------------------------------------\n",
      "EPOCH 298\n"
     ]
    },
    {
     "data": {
      "application/vnd.jupyter.widget-view+json": {
       "model_id": "1fada02ad8314030a91d8f374db109d6",
       "version_major": 2,
       "version_minor": 0
      },
      "text/plain": [
       "  0%|          | 0/976 [00:00<?, ?it/s]"
      ]
     },
     "metadata": {},
     "output_type": "display_data"
    },
    {
     "data": {
      "application/vnd.jupyter.widget-view+json": {
       "model_id": "fca18d12730843269af4c14e79e05c86",
       "version_major": 2,
       "version_minor": 0
      },
      "text/plain": [
       "  0%|          | 0/50 [00:00<?, ?it/s]"
      ]
     },
     "metadata": {},
     "output_type": "display_data"
    },
    {
     "name": "stdout",
     "output_type": "stream",
     "text": [
      "L2 of 44744.046875\n",
      "TEST ERROR OF 1.23454\n",
      "Generating samples with temp of 0 topk of 5 and topp of 0.75\n"
     ]
    },
    {
     "data": {
      "application/vnd.jupyter.widget-view+json": {
       "model_id": "eab067bafca044dc9305464008fed909",
       "version_major": 2,
       "version_minor": 0
      },
      "text/plain": [
       "  0%|          | 0/9 [00:00<?, ?it/s]"
      ]
     },
     "metadata": {},
     "output_type": "display_data"
    },
    {
     "name": "stdout",
     "output_type": "stream",
     "text": [
      "0.9384765625 ARE TRUE\n",
      "1.3238747553816046 AVG DIFF\n",
      "240 EPOCHS SINCE BEST LOSS OF 1.0676458334922792\n",
      "--------------------------------------\n",
      "EPOCH 299\n"
     ]
    },
    {
     "data": {
      "application/vnd.jupyter.widget-view+json": {
       "model_id": "c628e4e4006d4c9f92ff1c167953b0ee",
       "version_major": 2,
       "version_minor": 0
      },
      "text/plain": [
       "  0%|          | 0/976 [00:00<?, ?it/s]"
      ]
     },
     "metadata": {},
     "output_type": "display_data"
    },
    {
     "data": {
      "application/vnd.jupyter.widget-view+json": {
       "model_id": "8455835e273a47a6a1bbb431d47f5160",
       "version_major": 2,
       "version_minor": 0
      },
      "text/plain": [
       "  0%|          | 0/50 [00:00<?, ?it/s]"
      ]
     },
     "metadata": {},
     "output_type": "display_data"
    },
    {
     "name": "stdout",
     "output_type": "stream",
     "text": [
      "L2 of 44687.44921875\n",
      "TEST ERROR OF 1.24371\n",
      "Generating samples with temp of 0 topk of 5 and topp of 0.75\n"
     ]
    },
    {
     "data": {
      "application/vnd.jupyter.widget-view+json": {
       "model_id": "6e610585da2d4f999e8528d0dad6bf19",
       "version_major": 2,
       "version_minor": 0
      },
      "text/plain": [
       "  0%|          | 0/9 [00:00<?, ?it/s]"
      ]
     },
     "metadata": {},
     "output_type": "display_data"
    },
    {
     "name": "stdout",
     "output_type": "stream",
     "text": [
      "0.953125 ARE TRUE\n",
      "0.5654296875 AVG DIFF\n",
      "241 EPOCHS SINCE BEST LOSS OF 1.0676458334922792\n",
      "--------------------------------------\n",
      "EPOCH 300\n"
     ]
    },
    {
     "data": {
      "application/vnd.jupyter.widget-view+json": {
       "model_id": "55909b6909e1476e982345c4c19d927f",
       "version_major": 2,
       "version_minor": 0
      },
      "text/plain": [
       "  0%|          | 0/976 [00:00<?, ?it/s]"
      ]
     },
     "metadata": {},
     "output_type": "display_data"
    },
    {
     "data": {
      "application/vnd.jupyter.widget-view+json": {
       "model_id": "1aa011bcf0714b708459198bf46edd96",
       "version_major": 2,
       "version_minor": 0
      },
      "text/plain": [
       "  0%|          | 0/50 [00:00<?, ?it/s]"
      ]
     },
     "metadata": {},
     "output_type": "display_data"
    },
    {
     "name": "stdout",
     "output_type": "stream",
     "text": [
      "L2 of 44767.96484375\n",
      "TEST ERROR OF 1.24064\n",
      "Generating samples with temp of 0 topk of 5 and topp of 0.75\n"
     ]
    },
    {
     "data": {
      "application/vnd.jupyter.widget-view+json": {
       "model_id": "ec625fa77d80414b90480b9ed38a8f9b",
       "version_major": 2,
       "version_minor": 0
      },
      "text/plain": [
       "  0%|          | 0/9 [00:00<?, ?it/s]"
      ]
     },
     "metadata": {},
     "output_type": "display_data"
    },
    {
     "name": "stdout",
     "output_type": "stream",
     "text": [
      "0.9111328125 ARE TRUE\n",
      "2.1669921875 AVG DIFF\n",
      "242 EPOCHS SINCE BEST LOSS OF 1.0676458334922792\n"
     ]
    }
   ],
   "source": [
    "#train pseudo-random\n",
    "search_results = {\"% True:\":[], \"Avg Diff\":[], \"Median Diff\":[], \"L2\":[], \"Test Error\":[]}\n",
    "model = DisorderTransformer(n_embedding=64, n_type_embedding=8, d_model=512, d_ff=1024, num_heads=8, depth=32, n_translation_layers=0, \n",
    "                            make_encodings=False, dropout_min_p=0, dropout_max_p=1).to(device)\n",
    "model = torch.compile(model, fullgraph=True)\n",
    "model = train_model(trainldr, testldr, model=model, epochs=num_epochs, test_batches=50,\n",
    "                    checkpoint_filename=\"model.pyt\", epochs_between_test=1, lr=1e-3,\n",
    "                    label_smoothing=0, weight_decay=1, temperature=0,\n",
    "                    mode=\"pseudorandom\")"
   ]
  },
  {
   "cell_type": "markdown",
   "id": "cd884bd7-e393-4a9b-b5c2-5d0afa62378f",
   "metadata": {},
   "source": [
    "## Plot training runs"
   ]
  },
  {
   "cell_type": "code",
   "execution_count": 29,
   "id": "a4a1bb4b-ffb4-4996-b2a7-edb372231d89",
   "metadata": {},
   "outputs": [],
   "source": [
    "import seaborn as sns\n",
    "import matplotlib.pyplot as plt"
   ]
  },
  {
   "cell_type": "code",
   "execution_count": 35,
   "id": "1105e70d-fe56-46a7-844c-28699de13e32",
   "metadata": {},
   "outputs": [],
   "source": [
    "series_causal = pd.read_csv(\"sample_output/causal_record.csv\", index_col=0)[:300]\n",
    "series_bi = pd.read_csv(\"sample_output/bidirectional_record.csv\", index_col=0)[:300]\n",
    "series_biased = pd.read_csv(\"sample_output/pseudorandom_record.csv\", index_col=0)[:300]"
   ]
  },
  {
   "cell_type": "code",
   "execution_count": 42,
   "id": "30d02a73-60d8-4a9e-9030-6db7461796cf",
   "metadata": {},
   "outputs": [],
   "source": [
    "def plot_values(causal_df, bi_df, biased_df, column):\n",
    "    df1 = causal_df[[column]].copy()\n",
    "    df1[\"Experiment\"] = \"Left-to-Right\"\n",
    "\n",
    "    df2 = bi_df[[column]].copy()\n",
    "    df2[\"Experiment\"] = \"Alternating Direction\"\n",
    "\n",
    "    df3 = biased_df[[column]].copy()\n",
    "    df3[\"Experiment\"] = \"Pseudo-Random\"\n",
    "\n",
    "\n",
    "    df = pd.concat([df1, df2, df3])\n",
    "    df[\"Experiment\"] = df[\"Experiment\"].astype(str)\n",
    "    df = df.reset_index()\n",
    "    df[\"index\"] = df[\"index\"] * 100\n",
    "    sns.lineplot(data=df, y=column, x=\"index\", hue=\"Experiment\")\n",
    "    plt.grid(True)"
   ]
  },
  {
   "cell_type": "markdown",
   "id": "672afb21-f215-4902-8d3e-b0dbf0d8e14a",
   "metadata": {},
   "source": [
    "## Proportion of sequences completed in a valid way\n",
    "\n",
    "i.e. left sum == right sum"
   ]
  },
  {
   "cell_type": "code",
   "execution_count": 43,
   "id": "46e54fc8-de4f-40b8-ae84-b454be87b0b2",
   "metadata": {},
   "outputs": [
    {
     "data": {
      "text/plain": [
       "Text(0.5, 0, 'Training Epochs')"
      ]
     },
     "execution_count": 43,
     "metadata": {},
     "output_type": "execute_result"
    },
    {
     "data": {
      "image/png": "[encoded data removed]",
      "text/plain": [
       "<Figure size 1200x600 with 1 Axes>"
      ]
     },
     "metadata": {},
     "output_type": "display_data"
    }
   ],
   "source": [
    "plt.figure(figsize=(12, 6))\n",
    "plot_values(series_causal, series_bi, series_biased, \"% True:\")\n",
    "plt.ylabel(\"Proportion of Valid Completions\")\n",
    "plt.xlabel(\"Training Epochs\")"
   ]
  },
  {
   "cell_type": "markdown",
   "id": "58c704d9-7679-42b7-bfdb-32240c031ec5",
   "metadata": {},
   "source": [
    "## L2 of each model during training"
   ]
  },
  {
   "cell_type": "code",
   "execution_count": 45,
   "id": "39a487aa-64db-4e8b-8c5b-a1f2010d5dbf",
   "metadata": {},
   "outputs": [
    {
     "data": {
      "text/plain": [
       "Text(0.5, 0, 'Epochs')"
      ]
     },
     "execution_count": 45,
     "metadata": {},
     "output_type": "execute_result"
    },
    {
     "data": {
      "image/png": "[encoded data removed]",
      "text/plain": [
       "<Figure size 1200x600 with 1 Axes>"
      ]
     },
     "metadata": {},
     "output_type": "display_data"
    }
   ],
   "source": [
    "plt.figure(figsize=(12, 6))\n",
    "plot_values(series_causal, series_bi, series_biased, \"L2\")\n",
    "plt.ylabel(\"Model L2\")\n",
    "plt.xlabel(\"Epochs\")"
   ]
  },
  {
   "cell_type": "markdown",
   "id": "1eeed650-b416-4fb2-ade3-17250509d078",
   "metadata": {},
   "source": [
    "## Left-to-right testing loss during training"
   ]
  },
  {
   "cell_type": "code",
   "execution_count": 46,
   "id": "8f2a1339-df9f-4bbb-ba3e-7f7e293c59e3",
   "metadata": {},
   "outputs": [
    {
     "data": {
      "text/plain": [
       "Text(0.5, 0, 'Epochs')"
      ]
     },
     "execution_count": 46,
     "metadata": {},
     "output_type": "execute_result"
    },
    {
     "data": {
      "image/png": "[encoded data removed]",
      "text/plain": [
       "<Figure size 1200x600 with 1 Axes>"
      ]
     },
     "metadata": {},
     "output_type": "display_data"
    }
   ],
   "source": [
    "plt.figure(figsize=(12, 6))\n",
    "plot_values(series_causal, series_bi, series_biased, \"Test Error\")\n",
    "plt.ylabel(\"Test Loss\")\n",
    "plt.xlabel(\"Epochs\")"
   ]
  }
 ],
 "metadata": {
  "kernelspec": {
   "display_name": "Python 3 (ipykernel)",
   "language": "python",
   "name": "python3"
  },
  "language_info": {
   "codemirror_mode": {
    "name": "ipython",
    "version": 3
   },
   "file_extension": ".py",
   "mimetype": "text/x-python",
   "name": "python",
   "nbconvert_exporter": "python",
   "pygments_lexer": "ipython3",
   "version": "3.12.8"
  }
 },
 "nbformat": 4,
 "nbformat_minor": 5
}
